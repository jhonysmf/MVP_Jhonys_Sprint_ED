{
  "cells": [
    {
      "cell_type": "markdown",
      "metadata": {
        "id": "view-in-github",
        "colab_type": "text"
      },
      "source": [
        "<a href=\"https://colab.research.google.com/github/jhonysmf/MVP_Jhonys_Sprint_ED/blob/main/MVP_Jhonys_SprintED_documentado.ipynb\" target=\"_parent\"><img src=\"https://colab.research.google.com/assets/colab-badge.svg\" alt=\"Open In Colab\"/></a>"
      ]
    },
    {
      "cell_type": "markdown",
      "metadata": {
        "application/vnd.databricks.v1+cell": {
          "cellMetadata": {},
          "inputWidgets": {},
          "nuid": "bcdab47b-747e-47b8-ae98-915fcc507669",
          "showTitle": false,
          "title": ""
        },
        "id": "uJBuQEMBVDp9"
      },
      "source": [
        "#MVP – Sprint Engenharia de Dados\n",
        "##Aluno: Jhonys Machado de Freitas\n"
      ]
    },
    {
      "cell_type": "markdown",
      "metadata": {
        "application/vnd.databricks.v1+cell": {
          "cellMetadata": {},
          "inputWidgets": {},
          "nuid": "c19928b7-8442-4ce6-a4e4-65f6d41430ed",
          "showTitle": false,
          "title": ""
        },
        "id": "mAjVf5b7VDp-"
      },
      "source": [
        "##1.\tObjetivos\n",
        "O objetivo geral deste MVP é a busca, coleta, modelagem, carga e análise de  dados utilizando a plataforma Databricks Community Edition.\n",
        "\tObjetivos específicos:\n",
        "Com a base de dados de pagamentos de bolsas e benefícios da FAPESP ( Fundação de Amparo à Pesquisa do Estado de São Paulo) responder as seguintes perguntas:\n",
        "(Obs.: Por questões de praticidade bolsas e benefícios serão tratados como “bolsas” neste trabalho)\n",
        "1. Quantas pessoas receberam bolsas no mês 06/2024?\n",
        "2. Quantas instituições tem bolsistas?\n",
        "3. Qual instituição contém mais bolsistas?\n",
        "4. Qual instituição recebeu o maior valor de bolsa, somando todos os bolsistas da instituição.\n",
        "5. Qual instituição contém o maior número de bolsistas que recebem bolsas de pós-doutorado no país?\n",
        "6. Qual instituição contém o maior número de bolsistas que recebem bolsas de doutorado fora do país?\n",
        "7. Qual foi o gasto total da FAPESP no mês de junho de 2024 com manutenção mensal de bolsas no país?\n"
      ]
    },
    {
      "cell_type": "markdown",
      "metadata": {
        "application/vnd.databricks.v1+cell": {
          "cellMetadata": {},
          "inputWidgets": {},
          "nuid": "dc915af1-70d4-45fc-b33c-84ac0192fa50",
          "showTitle": false,
          "title": ""
        },
        "id": "So8Uql27VDp_"
      },
      "source": [
        "##2.\tBase de dados\n",
        "A base de dados utilizadas foi baixada no portal da transparência da FAPESP (https://fapesp.br/13197/bolsas-e-auxilios). Os dados selecionados foram os dados referentes a pagamento do mês de junho de 2024.\n",
        "A tabela de dados foi baixada nos formatos .pdf, para consultas e o formato .csv para carga dos dados no Databricks.\n",
        "\n",
        "Para a carga dos dados baixados do portal da FAPESP foi feito o upload do arquivo .csv (pagamento_bolsas_beneficiario_jun_2024-1.csv) no DBFS. Foi usado o pyspark e suas funções para a manipulação e ajuste dos dados importados. Os dados carregados possuíam colunas multilinhas no cabeçalho da"
      ]
    },
    {
      "cell_type": "markdown",
      "metadata": {
        "application/vnd.databricks.v1+cell": {
          "cellMetadata": {},
          "inputWidgets": {},
          "nuid": "dfc8cd3e-1938-48fd-886f-cb701bb1a6f5",
          "showTitle": false,
          "title": ""
        },
        "id": "-F_t8hTHVDqA"
      },
      "source": [
        "###Manipulação e ajuste da base de dados\n",
        "\n",
        "Carga e qualidade dos dados.\n",
        "\n",
        "Para a carga dos dados baixados do portal da FAPESP foi feito o upload do arquivo csv (pagamento_bolsas_beneficiario_jun_2024-1.csv) no DBFS.\n",
        "Foi usado o pyspark e suas funções para a manipulação e ajuste dos dados importados.\n",
        "Os dados carregados possuiam colunas multilinhas no cabecalho da tabela, por isso optou-se por não usar os títulos das colunas originais e defini-los novamente, baseados no arquivo original.\n",
        "\n",
        "Logo que o DF foi carregando notou-se que a última coluna (Vigência FIM) estava com problema, portanto foi necessário corrigir o fim das entradas da coluna de “carriage return” (\\r) para “vazio”, também nesse contexto foi necessário reformatar a data para essa coluna. Já para a parte da análise foi necessário alterar o formato numérico da coluna “PAGAMENTO_EM_06_2024” para o formato de leitura do Spark.\n",
        "\n",
        "Obs. Certas colunas da tabela não foram utilizadas neste trabalho, mas não foram retiradas da tabela na intenção de dar continuidade com a prática e o treino utilizando este trabalho futuramente.\n"
      ]
    },
    {
      "cell_type": "code",
      "execution_count": null,
      "metadata": {
        "application/vnd.databricks.v1+cell": {
          "cellMetadata": {
            "byteLimit": 2048000,
            "rowLimit": 10000
          },
          "inputWidgets": {},
          "nuid": "a47e50b3-dc9d-4080-94e8-b9d3da7cabcc",
          "showTitle": false,
          "title": ""
        },
        "id": "bYeQDQffVDqA",
        "outputId": "4cbfcc79-10c9-4e34-aa71-2e35de329fc2"
      },
      "outputs": [
        {
          "output_type": "stream",
          "name": "stdout",
          "text": [
            "Requirement already satisfied: pip in /local_disk0/.ephemeral_nfs/envs/pythonEnv-339f5a1e-c69c-4969-a6b7-4234093f5d41/lib/python3.9/site-packages (24.1.2)\r\nRequirement already satisfied: findspark in /local_disk0/.ephemeral_nfs/envs/pythonEnv-339f5a1e-c69c-4969-a6b7-4234093f5d41/lib/python3.9/site-packages (2.0.1)\r\n"
          ]
        },
        {
          "output_type": "display_data",
          "data": {
            "text/html": [
              "<style scoped>\n",
              "  .table-result-container {\n",
              "    max-height: 300px;\n",
              "    overflow: auto;\n",
              "  }\n",
              "  table, th, td {\n",
              "    border: 1px solid black;\n",
              "    border-collapse: collapse;\n",
              "  }\n",
              "  th, td {\n",
              "    padding: 5px;\n",
              "  }\n",
              "  th {\n",
              "    text-align: left;\n",
              "  }\n",
              "</style><div class='table-result-container'><table class='table-result'><thead style='background-color: white'><tr><th>BENEFICIARIO</th><th>INSTITUICAO</th><th>TIPO_DE_BOLSA</th><th>RUBRICA</th><th>PAGAMENTO_EM_06_2024</th><th>PARCELA_PAGA_EM_06_2024</th><th>NIVEL_BOLSA</th><th>TOTAL_DE_PARCELAS_CONCEDIDAS_NIVEL</th><th>VIGENCIA_INICIO</th><th>VIGENCIA_FIM</th></tr></thead><tbody><tr><td>JULIAN CRISTIAN GONCALVES DA SILVA JUNIOR</td><td>FAC ENGENHARIA ILHA SOLTEIRA/UNESP</td><td>Bolsa no Exterior - Regular - Estagio de Pesquisa - PD</td><td>IN</td><td>22132.290000000000000000</td><td>null</td><td>null</td><td>5m, 5m</td><td>2024-07-15</td><td>2024-12-14</td></tr><tr><td>JULIAN CRISTIAN GONCALVES DA SILVA JUNIOR</td><td>FAC ENGENHARIA ILHA SOLTEIRA/UNESP</td><td>Bolsa no Exterior - Regular - Estagio de Pesquisa - PD</td><td>TR</td><td>7078.010000000000000000</td><td>null</td><td>null</td><td>5m, 5m</td><td>2024-07-15</td><td>2024-12-14</td></tr><tr><td>JULIAN CRISTIAN GONCALVES DA SILVA JUNIOR</td><td>FAC ENGENHARIA ILHA SOLTEIRA/UNESP</td><td>Bolsa no Exterior - Regular - Estagio de Pesquisa - PD</td><td>SS</td><td>7108.500000000000000000</td><td>null</td><td>null</td><td>5m, 5m</td><td>2024-07-15</td><td>2024-12-14</td></tr><tr><td>JULIAN CRISTIAN GONCALVES DA SILVA JUNIOR</td><td>FAC ENGENHARIA ILHA SOLTEIRA/UNESP</td><td>Bolsa no Pais - Regular - Pos-Doutorado</td><td>MM</td><td>9318.900000000000000000</td><td>10</td><td>null</td><td>24m</td><td>2023-09-01</td><td>2025-08-31</td></tr><tr><td>PAULO PIROZELLI ALMEIDA SILVA</td><td>ESC POLITECNICA/USP</td><td>Bolsa no Pais - Regular - Pos-Doutorado</td><td>MM</td><td>9318.900000000000000000</td><td>4</td><td>null</td><td>24m</td><td>2023-03-01</td><td>2025-02-28</td></tr><tr><td>VALDIR DE AQUINO LEMOS</td><td>ESC PAULISTA MEDICINA/UNIFESP</td><td>Bolsa no Pais - Regular - Pos-Doutorado</td><td>MM</td><td>9318.900000000000000000</td><td>9</td><td>null</td><td>24m</td><td>2022-10-01</td><td>2024-09-30</td></tr><tr><td>ANA FLAVIA BALOTARI BOTTA</td><td>FAC CIENCIAS TECNOLOGIA PRESIDENTE PRUDENTE/UNESP</td><td>Bolsa no Pais - Regular - Doutorado 1</td><td>MM</td><td>3805.800000000000000000</td><td>4</td><td>1</td><td>12m ( nível 1), 25m ( nível 2)</td><td>2024-03-01</td><td>2027-03-31</td></tr><tr><td>MIRIANE LUCINDO ZUCOLOTO</td><td>FAC MEDICINA RIBEIRAO PRETO/USP</td><td>Bolsa no Exterior - Regular - Estagio de Pesquisa - PD</td><td>MM</td><td>4659.450000000000000000</td><td>7</td><td>null</td><td>12m, 12m</td><td>2023-12-01</td><td>2024-11-30</td></tr><tr><td>MIRIANE LUCINDO ZUCOLOTO</td><td>FAC MEDICINA RIBEIRAO PRETO/USP</td><td>Bolsa no Exterior - Regular - Estagio de Pesquisa - PD</td><td>ME</td><td>20537.250000000000000000</td><td>7</td><td>null</td><td>12m, 12m</td><td>2023-12-01</td><td>2024-11-30</td></tr><tr><td>MIRIANE LUCINDO ZUCOLOTO</td><td>FAC MEDICINA RIBEIRAO PRETO/USP</td><td>Bolsa no Exterior - Regular - Estagio de Pesquisa - PD</td><td>RB</td><td>2139.980000000000000000</td><td>null</td><td>null</td><td>12m, 12m</td><td>2023-12-01</td><td>2024-11-30</td></tr><tr><td>PATRICIA MORAES SINOHARA SOUZA</td><td>INST MACKENZIE PESQUISAS GRAFENO NANOTECNOLOGIAS/UPM</td><td>Bolsa no Pais - Regular - Pos-Doutorado</td><td>RB</td><td>4806.000000000000000000</td><td>null</td><td>null</td><td>24m</td><td>2022-11-01</td><td>2024-10-31</td></tr><tr><td>PATRICIA MORAES SINOHARA SOUZA</td><td>INST MACKENZIE PESQUISAS GRAFENO NANOTECNOLOGIAS/UPM</td><td>Bolsa no Pais - Regular - Pos-Doutorado</td><td>MM</td><td>9318.900000000000000000</td><td>8</td><td>null</td><td>24m</td><td>2022-11-01</td><td>2024-10-31</td></tr><tr><td>BIANCA SILVA PINTO</td><td>INST PSIQUIATRIA/SSSP</td><td>Bolsa no Pais - Regular - Doutorado Direto 2</td><td>MM</td><td>3805.800000000000000000</td><td>3</td><td>2</td><td>12m ( nível 1), 12m ( nível 2), 12m ( nível 3), 12m ( nível 4)</td><td>2023-04-01</td><td>2027-03-31</td></tr><tr><td>REBECA DONIZETE CORREIA DA SILVA</td><td>ESC PAULISTA MEDICINA/UNIFESP</td><td>Bolsa no Pais - Regular - Doutorado Direto 3</td><td>RB</td><td>4776.470000000000000000</td><td>null</td><td>3</td><td>12m ( nível 1), 12m ( nível 2), 12m ( nível 3), 5m ( nível 4)</td><td>2021-08-01</td><td>2024-12-31</td></tr><tr><td>REBECA DONIZETE CORREIA DA SILVA</td><td>ESC PAULISTA MEDICINA/UNIFESP</td><td>Bolsa no Pais - Regular - Doutorado Direto 3</td><td>MM</td><td>4710.300000000000000000</td><td>11</td><td>3</td><td>12m ( nível 1), 12m ( nível 2), 12m ( nível 3), 5m ( nível 4)</td><td>2021-08-01</td><td>2024-12-31</td></tr><tr><td>EURIDICE MARTINEZ STEELE</td><td>FAC SAUDE PUBLICA/USP</td><td>Bolsa no Pais - Programa Capacitacao - Treinamento Tecnico 5</td><td>MM</td><td>9318.800000000000000000</td><td>5</td><td>null</td><td>24m</td><td>2024-02-01</td><td>2026-01-31</td></tr><tr><td>FERNANDA GAUDIO AUGUSTO</td><td>CENTRO ENERGIA NUCLEAR AGRICULTURA/USP</td><td>Bolsa no Exterior - Regular - Estagio de Pesquisa - PD</td><td>MM</td><td>4659.450000000000000000</td><td>6</td><td>null</td><td>6m, 6m</td><td>2024-01-01</td><td>2024-06-30</td></tr><tr><td>FERNANDA GAUDIO AUGUSTO</td><td>CENTRO ENERGIA NUCLEAR AGRICULTURA/USP</td><td>Bolsa no Exterior - Regular - Estagio de Pesquisa - PD</td><td>ME</td><td>21911.250000000000000000</td><td>6</td><td>null</td><td>6m, 6m</td><td>2024-01-01</td><td>2024-06-30</td></tr><tr><td>FERNANDA GAUDIO AUGUSTO</td><td>CENTRO ENERGIA NUCLEAR AGRICULTURA/USP</td><td>Bolsa no Exterior - Regular - Estagio de Pesquisa - PD</td><td>RB</td><td>3960.000000000000000000</td><td>null</td><td>null</td><td>6m, 6m</td><td>2024-01-01</td><td>2024-06-30</td></tr><tr><td>TAVANI ROCHA CAMARGO</td><td>CENTRO AQUICULTURA JABOTICABAL/UNESP</td><td>Bolsa no Pais - Regular - Pos-Doutorado</td><td>MM</td><td>9318.900000000000000000</td><td>2</td><td>null</td><td>24m</td><td>2022-03-01</td><td>2024-09-01</td></tr></tbody></table></div>"
            ]
          },
          "metadata": {
            "application/vnd.databricks.v1+output": {
              "addedWidgets": {},
              "aggData": [],
              "aggError": "",
              "aggOverflow": false,
              "aggSchema": [],
              "aggSeriesLimitReached": false,
              "aggType": "",
              "arguments": {},
              "columnCustomDisplayInfos": {},
              "data": [
                [
                  "JULIAN CRISTIAN GONCALVES DA SILVA JUNIOR",
                  "FAC ENGENHARIA ILHA SOLTEIRA/UNESP",
                  "Bolsa no Exterior - Regular - Estagio de Pesquisa - PD",
                  "IN",
                  "22132.290000000000000000",
                  null,
                  null,
                  "5m, 5m",
                  "2024-07-15",
                  "2024-12-14"
                ],
                [
                  "JULIAN CRISTIAN GONCALVES DA SILVA JUNIOR",
                  "FAC ENGENHARIA ILHA SOLTEIRA/UNESP",
                  "Bolsa no Exterior - Regular - Estagio de Pesquisa - PD",
                  "TR",
                  "7078.010000000000000000",
                  null,
                  null,
                  "5m, 5m",
                  "2024-07-15",
                  "2024-12-14"
                ],
                [
                  "JULIAN CRISTIAN GONCALVES DA SILVA JUNIOR",
                  "FAC ENGENHARIA ILHA SOLTEIRA/UNESP",
                  "Bolsa no Exterior - Regular - Estagio de Pesquisa - PD",
                  "SS",
                  "7108.500000000000000000",
                  null,
                  null,
                  "5m, 5m",
                  "2024-07-15",
                  "2024-12-14"
                ],
                [
                  "JULIAN CRISTIAN GONCALVES DA SILVA JUNIOR",
                  "FAC ENGENHARIA ILHA SOLTEIRA/UNESP",
                  "Bolsa no Pais - Regular - Pos-Doutorado",
                  "MM",
                  "9318.900000000000000000",
                  10,
                  null,
                  "24m",
                  "2023-09-01",
                  "2025-08-31"
                ],
                [
                  "PAULO PIROZELLI ALMEIDA SILVA",
                  "ESC POLITECNICA/USP",
                  "Bolsa no Pais - Regular - Pos-Doutorado",
                  "MM",
                  "9318.900000000000000000",
                  4,
                  null,
                  "24m",
                  "2023-03-01",
                  "2025-02-28"
                ],
                [
                  "VALDIR DE AQUINO LEMOS",
                  "ESC PAULISTA MEDICINA/UNIFESP",
                  "Bolsa no Pais - Regular - Pos-Doutorado",
                  "MM",
                  "9318.900000000000000000",
                  9,
                  null,
                  "24m",
                  "2022-10-01",
                  "2024-09-30"
                ],
                [
                  "ANA FLAVIA BALOTARI BOTTA",
                  "FAC CIENCIAS TECNOLOGIA PRESIDENTE PRUDENTE/UNESP",
                  "Bolsa no Pais - Regular - Doutorado 1",
                  "MM",
                  "3805.800000000000000000",
                  4,
                  1,
                  "12m ( nível 1), 25m ( nível 2)",
                  "2024-03-01",
                  "2027-03-31"
                ],
                [
                  "MIRIANE LUCINDO ZUCOLOTO",
                  "FAC MEDICINA RIBEIRAO PRETO/USP",
                  "Bolsa no Exterior - Regular - Estagio de Pesquisa - PD",
                  "MM",
                  "4659.450000000000000000",
                  7,
                  null,
                  "12m, 12m",
                  "2023-12-01",
                  "2024-11-30"
                ],
                [
                  "MIRIANE LUCINDO ZUCOLOTO",
                  "FAC MEDICINA RIBEIRAO PRETO/USP",
                  "Bolsa no Exterior - Regular - Estagio de Pesquisa - PD",
                  "ME",
                  "20537.250000000000000000",
                  7,
                  null,
                  "12m, 12m",
                  "2023-12-01",
                  "2024-11-30"
                ],
                [
                  "MIRIANE LUCINDO ZUCOLOTO",
                  "FAC MEDICINA RIBEIRAO PRETO/USP",
                  "Bolsa no Exterior - Regular - Estagio de Pesquisa - PD",
                  "RB",
                  "2139.980000000000000000",
                  null,
                  null,
                  "12m, 12m",
                  "2023-12-01",
                  "2024-11-30"
                ],
                [
                  "PATRICIA MORAES SINOHARA SOUZA",
                  "INST MACKENZIE PESQUISAS GRAFENO NANOTECNOLOGIAS/UPM",
                  "Bolsa no Pais - Regular - Pos-Doutorado",
                  "RB",
                  "4806.000000000000000000",
                  null,
                  null,
                  "24m",
                  "2022-11-01",
                  "2024-10-31"
                ],
                [
                  "PATRICIA MORAES SINOHARA SOUZA",
                  "INST MACKENZIE PESQUISAS GRAFENO NANOTECNOLOGIAS/UPM",
                  "Bolsa no Pais - Regular - Pos-Doutorado",
                  "MM",
                  "9318.900000000000000000",
                  8,
                  null,
                  "24m",
                  "2022-11-01",
                  "2024-10-31"
                ],
                [
                  "BIANCA SILVA PINTO",
                  "INST PSIQUIATRIA/SSSP",
                  "Bolsa no Pais - Regular - Doutorado Direto 2",
                  "MM",
                  "3805.800000000000000000",
                  3,
                  2,
                  "12m ( nível 1), 12m ( nível 2), 12m ( nível 3), 12m ( nível 4)",
                  "2023-04-01",
                  "2027-03-31"
                ],
                [
                  "REBECA DONIZETE CORREIA DA SILVA",
                  "ESC PAULISTA MEDICINA/UNIFESP",
                  "Bolsa no Pais - Regular - Doutorado Direto 3",
                  "RB",
                  "4776.470000000000000000",
                  null,
                  3,
                  "12m ( nível 1), 12m ( nível 2), 12m ( nível 3), 5m ( nível 4)",
                  "2021-08-01",
                  "2024-12-31"
                ],
                [
                  "REBECA DONIZETE CORREIA DA SILVA",
                  "ESC PAULISTA MEDICINA/UNIFESP",
                  "Bolsa no Pais - Regular - Doutorado Direto 3",
                  "MM",
                  "4710.300000000000000000",
                  11,
                  3,
                  "12m ( nível 1), 12m ( nível 2), 12m ( nível 3), 5m ( nível 4)",
                  "2021-08-01",
                  "2024-12-31"
                ],
                [
                  "EURIDICE MARTINEZ STEELE",
                  "FAC SAUDE PUBLICA/USP",
                  "Bolsa no Pais - Programa Capacitacao - Treinamento Tecnico 5",
                  "MM",
                  "9318.800000000000000000",
                  5,
                  null,
                  "24m",
                  "2024-02-01",
                  "2026-01-31"
                ],
                [
                  "FERNANDA GAUDIO AUGUSTO",
                  "CENTRO ENERGIA NUCLEAR AGRICULTURA/USP",
                  "Bolsa no Exterior - Regular - Estagio de Pesquisa - PD",
                  "MM",
                  "4659.450000000000000000",
                  6,
                  null,
                  "6m, 6m",
                  "2024-01-01",
                  "2024-06-30"
                ],
                [
                  "FERNANDA GAUDIO AUGUSTO",
                  "CENTRO ENERGIA NUCLEAR AGRICULTURA/USP",
                  "Bolsa no Exterior - Regular - Estagio de Pesquisa - PD",
                  "ME",
                  "21911.250000000000000000",
                  6,
                  null,
                  "6m, 6m",
                  "2024-01-01",
                  "2024-06-30"
                ],
                [
                  "FERNANDA GAUDIO AUGUSTO",
                  "CENTRO ENERGIA NUCLEAR AGRICULTURA/USP",
                  "Bolsa no Exterior - Regular - Estagio de Pesquisa - PD",
                  "RB",
                  "3960.000000000000000000",
                  null,
                  null,
                  "6m, 6m",
                  "2024-01-01",
                  "2024-06-30"
                ],
                [
                  "TAVANI ROCHA CAMARGO",
                  "CENTRO AQUICULTURA JABOTICABAL/UNESP",
                  "Bolsa no Pais - Regular - Pos-Doutorado",
                  "MM",
                  "9318.900000000000000000",
                  2,
                  null,
                  "24m",
                  "2022-03-01",
                  "2024-09-01"
                ]
              ],
              "datasetInfos": [],
              "dbfsResultPath": null,
              "isJsonSchema": true,
              "metadata": {},
              "overflow": false,
              "plotOptions": {
                "customPlotOptions": {},
                "displayType": "table",
                "pivotAggregation": null,
                "pivotColumns": null,
                "xColumns": null,
                "yColumns": null
              },
              "removedWidgets": [],
              "schema": [
                {
                  "metadata": "{}",
                  "name": "BENEFICIARIO",
                  "type": "\"string\""
                },
                {
                  "metadata": "{}",
                  "name": "INSTITUICAO",
                  "type": "\"string\""
                },
                {
                  "metadata": "{}",
                  "name": "TIPO_DE_BOLSA",
                  "type": "\"string\""
                },
                {
                  "metadata": "{}",
                  "name": "RUBRICA",
                  "type": "\"string\""
                },
                {
                  "metadata": "{}",
                  "name": "PAGAMENTO_EM_06_2024",
                  "type": "\"decimal(38,18)\""
                },
                {
                  "metadata": "{}",
                  "name": "PARCELA_PAGA_EM_06_2024",
                  "type": "\"long\""
                },
                {
                  "metadata": "{}",
                  "name": "NIVEL_BOLSA",
                  "type": "\"long\""
                },
                {
                  "metadata": "{}",
                  "name": "TOTAL_DE_PARCELAS_CONCEDIDAS_NIVEL",
                  "type": "\"string\""
                },
                {
                  "metadata": "{}",
                  "name": "VIGENCIA_INICIO",
                  "type": "\"date\""
                },
                {
                  "metadata": "{}",
                  "name": "VIGENCIA_FIM",
                  "type": "\"date\""
                }
              ],
              "type": "table"
            }
          }
        }
      ],
      "source": [
        "!pip install --upgrade pip findspark\n",
        "import findspark\n",
        "findspark.init\n",
        "import pyspark\n",
        "from pyspark.sql import SparkSession\n",
        "import pyspark.sql.functions as F\n",
        "from pyspark.sql.functions import expr\n",
        "from pyspark.sql.types import FloatType\n",
        "from pyspark.sql.functions import col\n",
        "\n",
        "# Localização e tipo do arquivo\n",
        "file_location = \"/FileStore/shared_uploads/jhonysmf@gmail.com/pagamento_bolsas_beneficiario_jun_2024-1.csv\"\n",
        "file_type = \"csv\"\n",
        "\n",
        "# CSV options\n",
        "infer_schema = True\n",
        "first_row_is_header = False\n",
        "delimiter = \";\"\n",
        "\n",
        "# Carregando os dados\n",
        "df = spark.read.format(\"csv\") \\\n",
        "  .option(\"inferSchema\", infer_schema) \\\n",
        "  .option(\"header\", first_row_is_header) \\\n",
        "  .option(\"sep\", delimiter) \\\n",
        "  .option(\"encoding\", \"ISO-8859-1\") \\\n",
        "  .option(\"ESCAPE quote\", '\"') \\\n",
        "  .option(\"multiline\", True) \\\n",
        "  .option(\"skipRows\", 4) \\\n",
        "  .load(file_location)\n",
        "\n",
        "# Definição dos nomes das colunas para o dataframe.\n",
        "df = df.withColumnRenamed(\"_c0\", \"BENEFICIARIO\") \\\n",
        ".withColumnRenamed(\"_c1\", \"INSTITUICAO\") \\\n",
        ".withColumnRenamed(\"_c2\", \"TIPO_DE_BOLSA\") \\\n",
        ".withColumnRenamed(\"_c3\", \"RUBRICA\") \\\n",
        ".withColumnRenamed(\"_c4\", \"PAGAMENTO_EM_06_2024\") \\\n",
        ".withColumnRenamed(\"_c5\", \"PARCELA_PAGA_EM_06_2024\") \\\n",
        ".withColumnRenamed(\"_c6\", \"NIVEL_BOLSA\") \\\n",
        ".withColumnRenamed(\"_c7\", \"TOTAL_DE_PARCELAS_CONCEDIDAS_NIVEL\") \\\n",
        ".withColumnRenamed(\"_c8\", \"VIGENCIA_INICIO\") \\\n",
        ".withColumnRenamed(\"_c9\", \"VIGENCIA_FIM\")\n",
        "\n",
        "# Correção das colunas que geraram problemas na análise do DF. (Vide texto de descrição anterior).\n",
        "df = df.withColumn(\"VIGENCIA_FIM\", F.regexp_replace(F.col(\"VIGENCIA_FIM\"), \"\\r\", \"\")) \\\n",
        ".withColumn(\"VIGENCIA_FIM\", F.to_date(\"VIGENCIA_FIM\", format=\"dd/MM/yy\")) \\\n",
        ".withColumn(\"PAGAMENTO_EM_06_2024\", F.regexp_replace(F.col(\"PAGAMENTO_EM_06_2024\"), \"\\r\", \"\")) \\\n",
        ".withColumn(\"PAGAMENTO_EM_06_2024\", F.regexp_replace(F.col(\"PAGAMENTO_EM_06_2024\"), \"\\\\.\", \"\")) \\\n",
        ".withColumn(\"PAGAMENTO_EM_06_2024\", F.regexp_replace(F.col(\"PAGAMENTO_EM_06_2024\"), \",\", \".\")) \\\n",
        ".withColumn(\"PAGAMENTO_EM_06_2024\", F.col(\"PAGAMENTO_EM_06_2024\").cast('decimal(15,2)'))\n",
        "\n",
        "display(df.head(20))"
      ]
    },
    {
      "cell_type": "markdown",
      "metadata": {
        "application/vnd.databricks.v1+cell": {
          "cellMetadata": {},
          "inputWidgets": {},
          "nuid": "a3dc34c7-c0ca-4163-8eaa-6311c475ccee",
          "showTitle": false,
          "title": ""
        },
        "id": "rdBmhuTJVDqC"
      },
      "source": [
        "##Informações sobre a Base de Dados inicial"
      ]
    },
    {
      "cell_type": "code",
      "execution_count": null,
      "metadata": {
        "application/vnd.databricks.v1+cell": {
          "cellMetadata": {
            "byteLimit": 2048000,
            "rowLimit": 10000
          },
          "inputWidgets": {},
          "nuid": "2e1521fd-9192-43d9-9367-6a7e78858eeb",
          "showTitle": false,
          "title": ""
        },
        "id": "v-5Lugu8VDqC",
        "outputId": "a9540b13-3e1f-49b8-db69-907d2925aa5d"
      },
      "outputs": [
        {
          "output_type": "stream",
          "name": "stdout",
          "text": [
            "O arquivo possui: 14639 linhas\nO arquivo possui: 10 colunas\n"
          ]
        }
      ],
      "source": [
        "print(f\"O arquivo possui: {df.count()} linhas\")\n",
        "print(f\"O arquivo possui: {len(df.columns)} colunas\")\n"
      ]
    },
    {
      "cell_type": "markdown",
      "metadata": {
        "application/vnd.databricks.v1+cell": {
          "cellMetadata": {},
          "inputWidgets": {},
          "nuid": "19c47b9a-16cb-4680-843f-6015aae426b2",
          "showTitle": false,
          "title": ""
        },
        "id": "onqjXj65VDqC"
      },
      "source": [
        "A tabela possui 14639 linhas, possuindo linhas com nomes de benefíciarios que se repetem, uma vez que eles tenham recebido tipos diferentes de bolsas no mês de Junho de 2024.\n",
        "\n",
        "As 10 colunas da tabela se referem a: <br>\n",
        "BENEFICIÁRIO : Nome da pessoa que recebeu a bolsa; <br>\n",
        "INSTITUIÇÃO: Nome da instituição que o beneficiário atua; <br>\n",
        "TIPO_DE_BOLSA: O tipo de bolsa que o beneficiário recebe (por questões de praticidade os tipos de bolsa não serão listados aqui por ser um grande número de bolsas diferentes, esses tipos de bolsas possíveis podem ser consultados em https://fapesp.br/bolsas); <br>\n",
        "RUBRICA: A legenda de rubricas pode ser consultada em https://fapesp.br/13231/legenda-de-rubricas; <br>\n",
        "PAGAMENTO_EM_06_2024: Valores das bolsas pagos no mês 06/2024; <br>\n",
        "PARCELA_PAGA_EM_06_2024: O número da parcela do contrato da bolsa; <br>\n",
        "NIVEL_BOLSA: O nível da bolsa para modalidades de bolsa com níveis; <br>\n",
        "TOTAL_DE_PARCELAS_CONCEDIDAS_NIVEL: O número de parcelas já pagas ao respectivo beneficiário; <br>\n",
        "VIGENCIA INICIO: A data da implantação da bolsa; <br>\n",
        "VIGENCIA_FIM: A data do fim da bolsa. <br>\n",
        "Caso necessário, maiores informações podem ser obtidas em https://fapesp.br/bolsas.\n",
        "\n",
        "Obs. Os valores null na tabela se referem a informações que realmente não são necessárias ou não existem para serem especificadas, não comprometendo a análise dos dados.\n"
      ]
    },
    {
      "cell_type": "markdown",
      "metadata": {
        "application/vnd.databricks.v1+cell": {
          "cellMetadata": {},
          "inputWidgets": {},
          "nuid": "7023465c-e5f8-4e2b-82ad-a9685c503067",
          "showTitle": false,
          "title": ""
        },
        "id": "raA5a4E_VDqC"
      },
      "source": [
        "## Perguntas iniciais.\n",
        "\n",
        "Devido a limitações de uso da versão Community do Databricks, as análises foram realizadas na tabela tratada acima.\n",
        "\n",
        "As perguntas do objetivo específico deste trabalho foram:\n",
        "\n",
        "1. Quantas pessoas receberam bolsas no mês 06/2024?\n",
        "2. Quantas instituições tem bolsistas?\n",
        "3. Qual instituição contém mais bolsistas?\n",
        "4. Qual instituição recebeu o maior valor de bolsa, somando todos os bolsistas da instituição.\n",
        "5. Qual instituição contém o maior número de bolsistas que recebem bolsas de pós-doutorado no país?\n",
        "6. Qual instituição contém o maior número de bolsistas que recebem bolsas de doutorado fora do país?\n",
        "7. Qual foi o gasto total da FAPESP no mês de junho de 2024 com manutenção mensal de bolsas no país?"
      ]
    },
    {
      "cell_type": "code",
      "execution_count": null,
      "metadata": {
        "application/vnd.databricks.v1+cell": {
          "cellMetadata": {
            "byteLimit": 2048000,
            "rowLimit": 10000
          },
          "inputWidgets": {},
          "nuid": "10d4e3e0-c73b-4cfd-9a1f-3ca054192073",
          "showTitle": false,
          "title": ""
        },
        "id": "3uteW443VDqD",
        "outputId": "d7b98e6d-6a69-4943-c16c-3e0b02c71281"
      },
      "outputs": [
        {
          "output_type": "display_data",
          "data": {
            "text/html": [
              "<style scoped>\n",
              "  .table-result-container {\n",
              "    max-height: 300px;\n",
              "    overflow: auto;\n",
              "  }\n",
              "  table, th, td {\n",
              "    border: 1px solid black;\n",
              "    border-collapse: collapse;\n",
              "  }\n",
              "  th, td {\n",
              "    padding: 5px;\n",
              "  }\n",
              "  th {\n",
              "    text-align: left;\n",
              "  }\n",
              "</style><div class='table-result-container'><table class='table-result'><thead style='background-color: white'><tr><th>count(DISTINCT BENEFICIARIO)</th></tr></thead><tbody><tr><td>10129</td></tr></tbody></table></div>"
            ]
          },
          "metadata": {
            "application/vnd.databricks.v1+output": {
              "addedWidgets": {},
              "aggData": [],
              "aggError": "",
              "aggOverflow": false,
              "aggSchema": [],
              "aggSeriesLimitReached": false,
              "aggType": "",
              "arguments": {},
              "columnCustomDisplayInfos": {},
              "data": [
                [
                  10129
                ]
              ],
              "datasetInfos": [],
              "dbfsResultPath": null,
              "isJsonSchema": true,
              "metadata": {},
              "overflow": false,
              "plotOptions": {
                "customPlotOptions": {},
                "displayType": "table",
                "pivotAggregation": null,
                "pivotColumns": null,
                "xColumns": null,
                "yColumns": null
              },
              "removedWidgets": [],
              "schema": [
                {
                  "metadata": "{\"__autoGeneratedAlias\":\"true\"}",
                  "name": "count(DISTINCT BENEFICIARIO)",
                  "type": "\"long\""
                }
              ],
              "type": "table"
            }
          }
        }
      ],
      "source": [
        "df.createOrReplaceTempView(\"Bolsas\")\n",
        "\n",
        "#1. Quantas pessoas receberam bolsas no mês 06/2024?\n",
        "\n",
        "pessoas = spark.sql(\"SELECT COUNT(DISTINCT BENEFICIARIO) FROM Bolsas\")\n",
        "display(pessoas)\n"
      ]
    },
    {
      "cell_type": "markdown",
      "metadata": {
        "application/vnd.databricks.v1+cell": {
          "cellMetadata": {},
          "inputWidgets": {},
          "nuid": "c30256be-a7ea-4dac-ae15-a72cee54eb52",
          "showTitle": false,
          "title": ""
        },
        "id": "CqHjm3eQVDqD"
      },
      "source": [
        "Através da consulta SQL usando a função COUNT e DISTINCT pode-se ter o valor de quantas pessoas receberam bolsas, sem as repetições de mesmo Benefíciario recebendo difierentes tipos de bolsas. Portanto, a resposta para a pergunta 1 é 10129 pessoas."
      ]
    },
    {
      "cell_type": "code",
      "execution_count": null,
      "metadata": {
        "application/vnd.databricks.v1+cell": {
          "cellMetadata": {
            "byteLimit": 2048000,
            "rowLimit": 10000
          },
          "inputWidgets": {},
          "nuid": "31681182-175a-4c75-b555-3a2a9707032b",
          "showTitle": false,
          "title": ""
        },
        "id": "-IsVhlrqVDqD",
        "outputId": "9f6df5b4-9016-4496-8338-74af6bde771e"
      },
      "outputs": [
        {
          "output_type": "display_data",
          "data": {
            "text/html": [
              "<style scoped>\n",
              "  .table-result-container {\n",
              "    max-height: 300px;\n",
              "    overflow: auto;\n",
              "  }\n",
              "  table, th, td {\n",
              "    border: 1px solid black;\n",
              "    border-collapse: collapse;\n",
              "  }\n",
              "  th, td {\n",
              "    padding: 5px;\n",
              "  }\n",
              "  th {\n",
              "    text-align: left;\n",
              "  }\n",
              "</style><div class='table-result-container'><table class='table-result'><thead style='background-color: white'><tr><th>count(DISTINCT INSTITUICAO)</th></tr></thead><tbody><tr><td>491</td></tr></tbody></table></div>"
            ]
          },
          "metadata": {
            "application/vnd.databricks.v1+output": {
              "addedWidgets": {},
              "aggData": [],
              "aggError": "",
              "aggOverflow": false,
              "aggSchema": [],
              "aggSeriesLimitReached": false,
              "aggType": "",
              "arguments": {},
              "columnCustomDisplayInfos": {},
              "data": [
                [
                  491
                ]
              ],
              "datasetInfos": [],
              "dbfsResultPath": null,
              "isJsonSchema": true,
              "metadata": {},
              "overflow": false,
              "plotOptions": {
                "customPlotOptions": {},
                "displayType": "table",
                "pivotAggregation": null,
                "pivotColumns": null,
                "xColumns": null,
                "yColumns": null
              },
              "removedWidgets": [],
              "schema": [
                {
                  "metadata": "{\"__autoGeneratedAlias\":\"true\"}",
                  "name": "count(DISTINCT INSTITUICAO)",
                  "type": "\"long\""
                }
              ],
              "type": "table"
            }
          }
        }
      ],
      "source": [
        "#2. Quantas instituições tem bolsistas?\n",
        "\n",
        "instituicao = spark.sql(\"SELECT COUNT(DISTINCT INSTITUICAO) FROM Bolsas\")\n",
        "display(instituicao)\n"
      ]
    },
    {
      "cell_type": "markdown",
      "metadata": {
        "application/vnd.databricks.v1+cell": {
          "cellMetadata": {},
          "inputWidgets": {},
          "nuid": "20a445c2-7d77-4ff7-9ad3-1b703abf7101",
          "showTitle": false,
          "title": ""
        },
        "id": "ccB29RmiVDqD"
      },
      "source": [
        "O numero de instituições que receberam algum tipo de bolsa em 06/2023 foi de 491."
      ]
    },
    {
      "cell_type": "code",
      "execution_count": null,
      "metadata": {
        "application/vnd.databricks.v1+cell": {
          "cellMetadata": {
            "byteLimit": 2048000,
            "rowLimit": 10000
          },
          "inputWidgets": {},
          "nuid": "385db0c3-1405-4e86-aa9d-f4e4430a1864",
          "showTitle": false,
          "title": ""
        },
        "id": "RxJkScN2VDqD",
        "outputId": "dc454643-9a97-4d8c-b8df-49d900e485bd"
      },
      "outputs": [
        {
          "output_type": "display_data",
          "data": {
            "text/html": [
              "<style scoped>\n",
              "  .table-result-container {\n",
              "    max-height: 300px;\n",
              "    overflow: auto;\n",
              "  }\n",
              "  table, th, td {\n",
              "    border: 1px solid black;\n",
              "    border-collapse: collapse;\n",
              "  }\n",
              "  th, td {\n",
              "    padding: 5px;\n",
              "  }\n",
              "  th {\n",
              "    text-align: left;\n",
              "  }\n",
              "</style><div class='table-result-container'><table class='table-result'><thead style='background-color: white'><tr><th>TOTAL</th><th>INSTITUICAO</th></tr></thead><tbody><tr><td>543</td><td>INST CIENCIAS BIOMEDICAS/USP</td></tr><tr><td>477</td><td>FAC FILOSOFIA LETRAS CIENCIAS HUMANAS/USP</td></tr><tr><td>425</td><td>CENTRO CIENCIAS EXATAS TECNOLOGIA/UFSCAR</td></tr><tr><td>395</td><td>FAC MEDICINA RIBEIRAO PRETO/USP</td></tr><tr><td>389</td><td>INST BIOLOGIA/UNICAMP</td></tr><tr><td>364</td><td>ESC PAULISTA MEDICINA/UNIFESP</td></tr><tr><td>325</td><td>INST BIOCIENCIAS/USP</td></tr><tr><td>305</td><td>CENTRO CIENCIAS BIOLOGICAS SAUDE/UFSCAR</td></tr><tr><td>296</td><td>INST QUIMICA/USP</td></tr><tr><td>290</td><td>ESC SUPERIOR AGRICULTURA LUIZ DE QUEIROZ/USP</td></tr><tr><td>278</td><td>FAC FILOSOFIA CIENCIAS LETRAS RIBEIRAO PRETO/USP</td></tr><tr><td>247</td><td>INST QUIMICA/UNICAMP</td></tr><tr><td>238</td><td>FAC CIENCIAS TECNOLOGIA PRESIDENTE PRUDENTE/UNESP</td></tr><tr><td>228</td><td>FAC MEDICINA/USP</td></tr><tr><td>212</td><td>CENTRO EDUCACAO CIENCIAS HUMANAS/UFSCAR</td></tr><tr><td>210</td><td>INST FISICA SAO CARLOS/USP</td></tr><tr><td>199</td><td>INST FISICA/USP</td></tr><tr><td>190</td><td>FAC CIENCIAS AGRARIAS VETERINARIAS JABOTICABAL/UNESP</td></tr><tr><td>177</td><td>INST BIOCIENCIAS BOTUCATU/UNESP</td></tr><tr><td>177</td><td>FAC CIENCIAS MEDICAS/UNICAMP</td></tr><tr><td>169</td><td>INST FILOSOFIA CIENCIAS HUMANAS/UNICAMP</td></tr><tr><td>167</td><td>ESC ENGENHARIA SAO CARLOS/USP</td></tr><tr><td>165</td><td>INST BUTANTAN/SSSP</td></tr><tr><td>161</td><td>CENTRO NACIONAL PESQUISA ENERGIA MATERIAIS/MCTI</td></tr><tr><td>161</td><td>INST BIOCIENCIAS RIO CLARO/UNESP</td></tr><tr><td>159</td><td>FAC CIENCIAS FARMACEUTICAS RIBEIRAO PRETO/USP</td></tr><tr><td>158</td><td>ESC FILOSOFIA LETRAS CIENCIAS HUMANAS/UNIFESP</td></tr><tr><td>158</td><td>INST CIENCIAS MATEMATICAS COMPUTACAO SAO CARLOS/USP</td></tr><tr><td>153</td><td>FAC ZOOTECNIA ENGENHARIA ALIMENTOS/USP</td></tr><tr><td>151</td><td>INST QUIMICA SAO CARLOS/USP</td></tr><tr><td>148</td><td>ESC POLITECNICA/USP</td></tr><tr><td>136</td><td>CENTRO CIENCIAS NATURAIS HUMANAS/UFABC</td></tr><tr><td>125</td><td>FAC CIENCIAS BAURU/UNESP</td></tr><tr><td>118</td><td>INST ASTRONOMIA GEOFISICA CIENCIAS ATMOSFERICAS/USP</td></tr><tr><td>118</td><td>INST CIENCIAS AMBIENTAIS QUIMICAS FARMACEUTICAS/UNIFESP</td></tr><tr><td>116</td><td>FAC CIENCIAS FARMACEUTICAS/USP</td></tr><tr><td>111</td><td>FAC CIENCIAS LETRAS ASSIS/UNESP</td></tr><tr><td>108</td><td>FAC ODONTOLOGIA BAURU/USP</td></tr><tr><td>108</td><td>INST QUIMICA ARARAQUARA/UNESP</td></tr><tr><td>106</td><td>FAC CIENCIAS FARMACEUTICAS ARARAQUARA/UNESP</td></tr><tr><td>104</td><td>FAC SAUDE PUBLICA/USP</td></tr><tr><td>104</td><td>INST FISICA GLEB WATAGHIN/UNICAMP</td></tr><tr><td>103</td><td>FAC ENGENHARIA ALIMENTOS/UNICAMP</td></tr><tr><td>99</td><td>FAC CIENCIAS APLICADAS/UNICAMP</td></tr><tr><td>98</td><td>FAC MEDICINA VETERINARIA ZOOTECNIA/USP</td></tr><tr><td>96</td><td>CENTRO ENERGIA NUCLEAR AGRICULTURA/USP</td></tr><tr><td>96</td><td>FAC ODONTOLOGIA ARARAQUARA/UNESP</td></tr><tr><td>90</td><td>FAC ARQUITETURA URBANISMO/USP</td></tr><tr><td>90</td><td>INST MATEMATICA ESTATISTICA/USP</td></tr><tr><td>89</td><td>INST MATEMATICA ESTATISTICA COMPUTACAO CIENTIFICA/UNICAMP</td></tr><tr><td>89</td><td>FAC ODONTOLOGIA RIBEIRAO PRETO/USP</td></tr><tr><td>87</td><td>INST PSICOLOGIA/USP</td></tr><tr><td>87</td><td>INST BIOCIENCIAS LETRAS CIENCIAS EXATAS SAO JOSE RIO PRETO/UNESP</td></tr><tr><td>84</td><td>FAC ENGENHARIA ELETRICA COMPUTACAO/UNICAMP</td></tr><tr><td>81</td><td>INST OCEANOGRAFICO/USP</td></tr><tr><td>81</td><td>ESC COMUNICACOES ARTES/USP</td></tr><tr><td>80</td><td>FAC ODONTOLOGIA PIRACICABA/UNICAMP</td></tr><tr><td>79</td><td>FAC ODONTOLOGIA ARACATUBA/UNESP</td></tr><tr><td>78</td><td>FAC MEDICINA BOTUCATU/UNESP</td></tr><tr><td>76</td><td>FAC ENGENHARIA ILHA SOLTEIRA/UNESP</td></tr><tr><td>75</td><td>INST SAUDE SOCIEDADE/UNIFESP</td></tr><tr><td>75</td><td>INST GEOCIENCIAS/USP</td></tr><tr><td>70</td><td>FAC MEDICINA VETERINARIA ZOOTECNIA BOTUCATU/UNESP</td></tr><tr><td>63</td><td>INST GEOCIENCIAS CIENCIAS EXATAS RIO CLARO/UNESP</td></tr><tr><td>63</td><td>FAC CIENCIAS LETRAS ARARAQUARA/UNESP</td></tr><tr><td>62</td><td>ESC ARTES CIENCIAS HUMANIDADES/USP</td></tr><tr><td>60</td><td>ESC ENGENHARIA LORENA/USP</td></tr><tr><td>59</td><td>FAC ENGENHARIA MECANICA/UNICAMP</td></tr><tr><td>58</td><td>INST GEOCIENCIAS/UNICAMP</td></tr><tr><td>58</td><td>CENTRO ENGENHARIA MODELAGEM CIENCIAS SOCIAIS APLICADAS/UFABC</td></tr><tr><td>57</td><td>INST CORACAO DO HOSP CLINICAS SAO PAULO/SSSP</td></tr><tr><td>53</td><td>ESC ADMINISTRACAO EMPRESAS SAO PAULO/FGVSP</td></tr><tr><td>53</td><td>EMBRAPA INSTRUMENTACAO AGROPECUARIA/EMBRAPA</td></tr><tr><td>52</td><td>FAC EDUCACAO/UNICAMP</td></tr><tr><td>50</td><td>INST FISICA TEORICA/UNESP</td></tr><tr><td>49</td><td>INST CIENCIA TECNOLOGIA SAO JOSE CAMPOS/UNESP</td></tr><tr><td>48</td><td>CENTRO CIENCIAS AGRARIAS/UFSCAR</td></tr><tr><td>48</td><td>INST CIENCIA TECNOLOGIA/UNIFESP</td></tr><tr><td>47</td><td>INST ESTUDOS LINGUAGEM/UNICAMP</td></tr><tr><td>47</td><td>CENTRO HEMATOLOGIA HEMOTERAPIA HEMOCENTRO/UNICAMP</td></tr><tr><td>46</td><td>CENTRO BIOLOGIA MOLECULAR ENGENHARIA GENETICA/UNICAMP</td></tr><tr><td>46</td><td>FAC CIENCIAS FARMACEUTICAS/UNICAMP</td></tr><tr><td>46</td><td>FAC ENGENHARIA QUIMICA/UNICAMP</td></tr><tr><td>44</td><td>FAC CIENCIAS AGRONOMICAS BOTUCATU/UNESP</td></tr><tr><td>43</td><td>CENTRO MATEMATICA COMPUTACAO COGNICAO/UFABC</td></tr><tr><td>43</td><td>MUSEU ZOOLOGIA/USP</td></tr><tr><td>43</td><td>INST BIOCIENCIAS CAMPUS LITORAL PAULISTA/UNESP</td></tr><tr><td>41</td><td>INST ARTES/UNICAMP</td></tr><tr><td>39</td><td>FAC ODONTOLOGIA/USP</td></tr><tr><td>37</td><td>CENTRO BRASILEIRO ANALISE PLANEJAMENTO/CEBRAP</td></tr><tr><td>35</td><td>FAC CIENCIAS HUMANAS SOCIAIS FRANCA/UNESP</td></tr><tr><td>33</td><td>INST NACIONAL PESQUISAS ESPACIAIS/MCTI</td></tr><tr><td>33</td><td>HOSP CANCER BARRETOS/FP</td></tr><tr><td>32</td><td>INST COMPUTACAO/UNICAMP</td></tr><tr><td>32</td><td>FAC ARQUITETURA ARTES COMUNICACAO DESIGN BAURU/UNESP</td></tr><tr><td>31</td><td>FAC EDUCACAO/USP</td></tr><tr><td>31</td><td>INST RELACOES INTERNACIONAIS/USP</td></tr><tr><td>31</td><td>INST ESTUDOS AVANCADOS/USP</td></tr><tr><td>30</td><td>FUND HEMOCENTRO RIBEIRAO PRETO/SSSP</td></tr><tr><td>30</td><td>HOSP CLINICAS SAO PAULO/SSSP</td></tr><tr><td>30</td><td>FAC ENGENHARIA GUARATINGUETA/UNESP</td></tr><tr><td>29</td><td>INSPER INST ENSINO PESQUISA/INSPER</td></tr><tr><td>29</td><td>INST ARQUITETURA URBANISMO SAO CARLOS/USP</td></tr><tr><td>29</td><td>INST ISRAELITA ENSINO PESQUISA ALBERT EINSTEIN/SBIBAE</td></tr><tr><td>29</td><td>ESC ENFERMAGEM RIBEIRAO PRETO/USP</td></tr><tr><td>28</td><td>FAC TECNOLOGIA/UNICAMP</td></tr><tr><td>27</td><td>INST MAR/UNIFESP</td></tr><tr><td>26</td><td>FAC FILOSOFIA CIENCIAS MARILIA/UNESP</td></tr><tr><td>26</td><td>INST PESQUISAS ENERGETICAS NUCLEARES/SDE</td></tr><tr><td>24</td><td>FAC ENGENHARIA AGRICOLA/UNICAMP</td></tr><tr><td>24</td><td>A C CAMARGO CANCER CENTER/FAP</td></tr><tr><td>24</td><td>MUSEU ARQUEOLOGIA ETNOLOGIA/USP</td></tr><tr><td>24</td><td>FAC MEDICINA SAO JOSE RIO PRETO/SDE</td></tr><tr><td>23</td><td>INST CANCER ESTADO SAO PAULO/SSSP</td></tr><tr><td>23</td><td>INST AGRONOMICO CAMPINAS/SAASP</td></tr><tr><td>23</td><td>PRO REITORIA POS GRADUACAO PESQUISA EXTENSAO INOVACAO/UNISO</td></tr><tr><td>23</td><td>INST PESQUISAS AMBIENTAIS/SIMA</td></tr><tr><td>23</td><td>FAC ENGENHARIA BAURU/UNESP</td></tr><tr><td>22</td><td>INST ARTES SAO PAULO/UNESP</td></tr><tr><td>22</td><td>DIVISAO CIENCIAS FUNDAMENTAIS/ITA</td></tr><tr><td>22</td><td>CENTRO CIENCIAS HUMANAS BIOLOGICAS/UFSCAR</td></tr><tr><td>21</td><td>ESC CIENCIAS HUMANAS JURIDICAS SOCIAIS/PUCCAMPINAS</td></tr><tr><td>21</td><td>ESC EDUCACAO FISICA ESPORTE RIBEIRAO PRETO/USP</td></tr><tr><td>21</td><td>CENTRO CIENCIAS BIOLOGICAS SAUDE/UPM</td></tr><tr><td>21</td><td>FAC CIENCIAS AGRARIAS TECNOLOGICAS DRACENA/UNESP</td></tr><tr><td>20</td><td>CENTRO EDUCACAO FILOSOFIA TEOLOGIA/UPM</td></tr><tr><td>19</td><td>PRO REITORIA PESQUISA POS GRADUACAO/UNOESTE</td></tr><tr><td>19</td><td>CENTRO BIOLOGIA MARINHA/USP</td></tr><tr><td>19</td><td>HOSP SIRIO LIBANES/SBSHSL</td></tr><tr><td>18</td><td>FAC CIENCIAS ENGENHARIA TUPA/UNESP</td></tr><tr><td>18</td><td>CENTRO LOGICA EPISTEMOLOGIA HISTORIA CIENCIA/UNICAMP</td></tr><tr><td>17</td><td>FAC ENGENHARIA SAO JOAO BOA VISTA/UNESP</td></tr><tr><td>17</td><td>CENTRO CIENCIAS NATUREZA/UFSCAR</td></tr><tr><td>17</td><td>CENTRO CIENCIAS TECNOLOGIAS SUSTENTABILIDADE/UFSCAR</td></tr><tr><td>16</td><td>HOSP UNIVERSITARIO/USP</td></tr><tr><td>16</td><td>INST PESCA/SAASP</td></tr><tr><td>16</td><td>INST ZOOTECNIA/SAASP</td></tr><tr><td>16</td><td>ESC EDUCACAO FISICA ESPORTE/USP</td></tr><tr><td>16</td><td>INST CIENCIA TECNOLOGIA SOROCABA/UNESP</td></tr><tr><td>16</td><td>FAC MEDICINA VETERINARIA ARACATUBA/UNESP</td></tr><tr><td>16</td><td>ESC DIREITO SAO PAULO/FGVSP</td></tr><tr><td>15</td><td>FAC ENGENHARIA CIVIL ARQUITETURA URBANISMO/UNICAMP</td></tr><tr><td>15</td><td>PRO REITORIA ADJUNTA PESQUISA POS GRADUACAO/UNIFRAN</td></tr><tr><td>15</td><td>FAC MEDICINA/UNOESTE</td></tr><tr><td>14</td><td>INST PSIQUIATRIA/SSSP</td></tr><tr><td>14</td><td>EMBRAPA AGRICULTURA DIGITAL/EMBRAPA</td></tr><tr><td>14</td><td>ESC ENGENHARIA/UPM</td></tr><tr><td>14</td><td>INST CIENCIAS EXATAS/UFMG</td></tr><tr><td>14</td><td>NUCLEO ESTUDOS PESQUISAS AMBIENTAIS/UNICAMP</td></tr><tr><td>14</td><td>CENTRO AQUICULTURA JABOTICABAL/UNESP</td></tr><tr><td>13</td><td>INST PESQUISA BIOENERGIA UNESP/UNESP</td></tr><tr><td>13</td><td>NUCLEO DESENVOLVIMENTO CRIATIVIDADE/UNICAMP</td></tr><tr><td>13</td><td>UNIV RIBEIRAO PRETO CAMPUS RIBEIRAO PRETO/UNAERP</td></tr><tr><td>13</td><td>PRO REITORIA ACADEMICA CAMPUS SEDE/UMC</td></tr><tr><td>13</td><td>DIVISAO ENGENHARIA AERONAUTICA/ITA</td></tr><tr><td>13</td><td>FAC ECONOMIA ADMINISTRACAO CONTABILIDADE ATUARIA/USP</td></tr><tr><td>12</td><td>CENTRO CIENCIAS GESTAO TECNOLOGIA/UFSCAR</td></tr><tr><td>12</td><td>CENTRO UNIVERSITARIO FMABC/FUABC</td></tr><tr><td>12</td><td>INST TECNOLOGIA ALIMENTOS/SAASP</td></tr><tr><td>12</td><td>PRO REITORIA POS GRADUACAO PESQUISA/UNICSUL</td></tr><tr><td>11</td><td>MATCH IT SERVICOS DE TECNOLOGIA LTDA</td></tr><tr><td>11</td><td>NUCLEO INTERDISCIPLINAR PLANEJAMENTO ENERGETICO/UNICAMP</td></tr><tr><td>11</td><td>CT INFANTIL INVESTIGACOES HEMATOLOGICAS DR DOMINGOS BOLDRINI/CIB</td></tr><tr><td>11</td><td>INST FARMACOLOGIA BIOLOGIA MOLECULAR/UNIFESP</td></tr><tr><td>11</td><td>CENTRO ESTUDOS AMBIENTAIS/UNESP</td></tr><tr><td>11</td><td>INST PESQUISA DESENVOLVIMENTO/UNIVAP</td></tr><tr><td>10</td><td>TECH INOVACOES TECNOLOGICAS PARA A AGROPECUARIA S A (FILIAL)</td></tr><tr><td>10</td><td>EMBRAPA PECUARIA SUDESTE/EMBRAPA</td></tr><tr><td>10</td><td>ESC ECONOMIA SAO PAULO/FGVSP</td></tr><tr><td>10</td><td>APTA REGIONAL DDD/SAASP</td></tr><tr><td>10</td><td>UNIV ARARAQUARA/UNIARA</td></tr><tr><td>9</td><td>FAC DIREITO/USP</td></tr><tr><td>9</td><td>FAC MEDICINA JUNDIAI/FMJ</td></tr><tr><td>9</td><td>CENTRO ATENCAO INTEGRAL SAUDE MULHER/UNICAMP</td></tr><tr><td>9</td><td>INST ENERGIA AMBIENTE/USP</td></tr><tr><td>9</td><td>FAC CIENCIAS MEDICAS SANTA CASA SAO PAULO/FAVC</td></tr><tr><td>9</td><td>DIVISAO ENGENHARIA MECANICA/ITA</td></tr><tr><td>9</td><td>ESC CIENCIAS VIDA/PUCCAMPINAS</td></tr><tr><td>9</td><td>UNIV SAO FRANCISCO CAMPUS BRAGANCA PAULISTA/USF</td></tr><tr><td>8</td><td>FAC CIENCIAS AGRARIAS VALE RIBEIRA/UNESP</td></tr><tr><td>8</td><td>DIVISAO CIENCIA COMPUTACAO/ITA</td></tr><tr><td>8</td><td>ESC ENGENHARIA MAUA/IMT</td></tr><tr><td>8</td><td>INST MACKENZIE PESQUISAS GRAFENO NANOTECNOLOGIAS/UPM</td></tr><tr><td>8</td><td>INST POLITICAS PUBLICAS RELACOES INTERNACIONAIS/UNESP</td></tr><tr><td>8</td><td>PRO REITORIA POS GRADUACAO PESQUISA EXTENSAO/UNICID</td></tr><tr><td>8</td><td>FAC MEDICINA MARILIA/SDE</td></tr><tr><td>8</td><td>CENTRO NACIONAL MONITORAMENTO ALERTAS DESASTRES NATURAIS/MCTI</td></tr><tr><td>8</td><td>PRO REITORIA POS GRADUACAO PESQUISA/ITA</td></tr><tr><td>8</td><td>FAC CIENCIAS HUMANAS SAUDE/PUCSP</td></tr><tr><td>8</td><td>MUSEU PAULISTA/USP</td></tr><tr><td>8</td><td>FAC ENGENHARIA CIENCIAS ROSANA/UNESP</td></tr><tr><td>8</td><td>CENTRO UNIVERSITARIO FEI CAMPUS SAO BERNARDO CAMPO/UNIFEI</td></tr><tr><td>8</td><td>CENTRO ESTUDOS ENERGIA PETROLEO/UNICAMP</td></tr><tr><td>7</td><td>ESC MATEMATICA APLICADA/FGV</td></tr><tr><td>7</td><td>COR SYNC DESENVOLVIMENTO DE SISTEMAS LTDA</td></tr><tr><td>7</td><td>UNIV SANTO AMARO/UNISA</td></tr><tr><td>7</td><td>CENTRO CIENCIAS BIOLOGICAS SAUDE/UNICSUL</td></tr><tr><td>7</td><td>FAC ENFERMAGEM/UNICAMP</td></tr><tr><td>7</td><td>INST ESTUDOS BRASILEIROS/USP</td></tr><tr><td>7</td><td>SOC BENEFICENTE ISRAELITA BRASILEIRA HOSP ALBERT EINSTEIN/SBIBAE</td></tr><tr><td>6</td><td>NUCLEO COMPUTACAO CIENTIFICA/UNESP</td></tr><tr><td>6</td><td>RAD-IA INOVA SIMPLES (I.S.)</td></tr><tr><td>6</td><td>INST INFORMATICA/UFRGS</td></tr><tr><td>6</td><td>UNIDADE ACADEMICA DE PESQUISA POS GRADUACAO/UNISINO</td></tr><tr><td>6</td><td>HOSP REABILITACAO ANOMALIAS CRANIOFACIAIS/USP</td></tr><tr><td>6</td><td>INST BIOLOGICO SAO PAULO/SAASP</td></tr><tr><td>6</td><td>UNIV SAO FRANCISCO CAMPUS CAMPINAS/USF</td></tr><tr><td>6</td><td>PICSEL SOLUCOES EM GERENCIAMENT LTDA</td></tr><tr><td>6</td><td>B.NANO SOLUCOES TECNOLOGICAS LTDA</td></tr><tr><td>6</td><td>FLORADA TECH LTDA</td></tr><tr><td>6</td><td>CAMPUS SAO PAULO/IFSP</td></tr><tr><td>6</td><td>CENTRO INOVACAO UNIVERSIDADE SAO PAULO/USP</td></tr><tr><td>6</td><td>MUSEU ARTE CONTEMPORANEA/USP</td></tr><tr><td>6</td><td>INST JO CLEMENTE/APAESP</td></tr><tr><td>6</td><td>FUND ONCOCENTRO SAO PAULO/SSSP</td></tr><tr><td>6</td><td>INST SUPERIOR EDUCACAO SAO PAULO/ISESP</td></tr><tr><td>6</td><td>KERSYS DESENVOLVIMENTO DE SISTEMAS LTDA ME</td></tr><tr><td>6</td><td>HOSP CLINICAS RIBEIRAO PRETO/SSSP</td></tr><tr><td>6</td><td>INST BIOTECNOLOGIA/UNESP</td></tr><tr><td>5</td><td>593ICAN SOLUCOES EM IMPRESSAO 3D LTDA</td></tr><tr><td>5</td><td>VICE REITORIA PESQUISA POS GRADUACAO/UNIP</td></tr><tr><td>5</td><td>KANDER SERVICOS ONLINE E INTERMEDIACAO DE EDUCACAO E CONTEUDO LTDA</td></tr><tr><td>5</td><td>FAC CIENCIAS MEDICAS SAUDE/PUCSP</td></tr><tr><td>5</td><td>INST PESQUISAS TECNOLOGICAS ESTADO SAO PAULO/SDE</td></tr><tr><td>5</td><td>DIVEGEN GESTAO E TRATAMENTO DE DADOS LTDA</td></tr><tr><td>5</td><td>INST PASTEUR SAO PAULO/SSSP</td></tr><tr><td>5</td><td>CENTRO ESTUDOS VENENO ANIMAIS PECONHENTOS/UNESP</td></tr><tr><td>5</td><td>CENTRO TERAPIA CELULAR MOLECULAR/UNIFESP</td></tr><tr><td>5</td><td>INST ECONOMIA/UNICAMP</td></tr><tr><td>5</td><td>HOSP CLINICAS/UNICAMP</td></tr><tr><td>5</td><td>INST ADOLFO LUTZ/SSSP</td></tr><tr><td>4</td><td>SELF APLICACOES TECNOLOGICAS PARA SAUDE EDUCACAO E BEM ESTAR LTDA</td></tr><tr><td>4</td><td>SANTA SEMENTE LTDA</td></tr><tr><td>4</td><td>FORZA COMPOSITES TECNOLOGIA EM MATERIAIS COMPOSITOS LTDA</td></tr><tr><td>4</td><td>XYZ MOLECULAR TARGET LTDA</td></tr><tr><td>4</td><td>ADB PESQUISA E DESENVOLVIMENTO LTDA</td></tr><tr><td>4</td><td>REDE NACIONAL ENSINO PESQUISA/MCTIC</td></tr><tr><td>4</td><td>ITECH SOLUCOES LTDA</td></tr><tr><td>4</td><td>SPECTRUM LINE PRESTACAO DE SERVICOS ELETRO-ELETRONICOS LTDA - EPP</td></tr><tr><td>4</td><td>NUCLEO ESTUDOS GENERO/UNICAMP</td></tr><tr><td>4</td><td>PRO REITORIA PESQUISA POS-GRADUACAO EXTENSAO/PUCCAMPINAS</td></tr><tr><td>4</td><td>AL7 SOLUCOES AO ALUMINIO LTDA ME</td></tr><tr><td>4</td><td>CENTRO CIENCIAS SOCIAIS APLICADAS/UFS</td></tr><tr><td>4</td><td>50.211.381 INOVA SIMPLES (I.S.)</td></tr><tr><td>4</td><td>CENTRO PLURIDISCIPLINAR PESQ QUIMICAS BIOLOGICAS AGRICOLAS/UNICAMP</td></tr><tr><td>4</td><td>NATCROM SOLUCOES SUSTENTAVEIS LTDA</td></tr><tr><td>4</td><td>ORBI SERVICOS DE INTERNET EIRELI</td></tr><tr><td>4</td><td>CENTRO UNIVERSITARIO FACULDADES INTEGRADAS OURINHOS/FEMM</td></tr><tr><td>4</td><td>52.580.092 INOVA SIMPLES (I.S.)</td></tr><tr><td>4</td><td>PRO REITORIA PESQUISA POS GRADUACAO/PUCCAMPINAS</td></tr><tr><td>4</td><td>52.864.792 FABIANE TEIXEIRA DE JESUS</td></tr><tr><td>4</td><td>SOLUCOES E INSTRUMENTACOES AVANCADAS LTDA</td></tr><tr><td>4</td><td>CENTRO MULTIDISCIPLINAR INVESTIGACAO BIOLOGICA/UNICAMP</td></tr><tr><td>4</td><td>BALTIERE INDUSTRIA COMERCIO EXPORTACAO E IMPORTACAO LTDA</td></tr><tr><td>4</td><td>FAC CIENCIAS AGRARIAS/UNOESTE</td></tr><tr><td>4</td><td>BLATRON TECNOLOGIA LTDA</td></tr><tr><td>4</td><td>PRO REITORIA PESQUISA POS GRADUACAO/UPM</td></tr><tr><td>4</td><td>FAC DIREITO RIBEIRAO PRETO/USP</td></tr><tr><td>4</td><td>CENTRO INFORMATICA/UFPE</td></tr><tr><td>4</td><td>CAMPUS MATAO/IFSP</td></tr><tr><td>4</td><td>SUBITER DIAGNOSTICOS POR IMAGEM LTDA</td></tr><tr><td>3</td><td>STHENOS INOVACOES EM SAUDE LTDA</td></tr><tr><td>3</td><td>PROTECH PESQUISA E DESENVOLVIMENTO LTDA</td></tr><tr><td>3</td><td>ENDLESS GREEN TECHNOLOGY LTDA</td></tr><tr><td>3</td><td>ONCODATA SOLUCOES TECNOLOGICAS LTDA</td></tr><tr><td>3</td><td>SMART CONSULTORIA AGRONOMICA E SERVICOS AGRICOLAS LTDA</td></tr><tr><td>3</td><td>MLA SUPRIMENTOS MEDICOS LTDA</td></tr><tr><td>3</td><td>HUNA LTDA</td></tr><tr><td>3</td><td>RTM INFRAESTRUTURA EM TECNOLOGIA DA INFORMACAO EIRELI</td></tr><tr><td>3</td><td>BRAZIL BEEF QUALITY LTDA - ME</td></tr><tr><td>3</td><td>ORBTY SOLUCOES AMBIENTAIS E ENGENHARIA LTDA</td></tr><tr><td>3</td><td>WETTERLAB LTDA</td></tr><tr><td>3</td><td>CENTRO CIENCIAS TECNOLOGICAS/UNIFOR</td></tr><tr><td>3</td><td>CENTRO TECNOLOGICO/UFES</td></tr><tr><td>3</td><td>FAC GRAN TIETE/IERT</td></tr><tr><td>3</td><td>MAGNITUD DESENVOLVIMENTO DE TALENTOS LTDA</td></tr><tr><td>3</td><td>JOAO MARCELO ROBAZZI BIGNELLI VALENTE AGUIAR 33617689850</td></tr><tr><td>3</td><td>FAC CIENCIAS SAUDE BARRETOS PAULO PRATA/FACISB</td></tr><tr><td>3</td><td>BYMYCELL INOVA SIMPLES LTDA</td></tr><tr><td>3</td><td>ESC ENFERMAGEM/USP</td></tr><tr><td>3</td><td>DANIEL SILVA ANTONELO PESQUISA E DESENVOLVIMENTO CIENTIFICO</td></tr><tr><td>3</td><td>NUCLEO ESTUDOS POLITICAS PUBLICAS/UNICAMP</td></tr><tr><td>3</td><td>HARPIA HEALTH SOLUTIONS LTDA</td></tr><tr><td>3</td><td>CAMPUS CURITIBA/UTFPR</td></tr><tr><td>3</td><td>INST RADIOLOGIA HOSPITAL CLINICAS SAO PAULO/SSSP</td></tr><tr><td>3</td><td>SOUZA P&D FARMACEUTICO LTDA</td></tr><tr><td>3</td><td>HI SOLUCOES EM SAUDE LTDA</td></tr><tr><td>3</td><td>PAULA C DOS SANTOS SUPORTE TECNICO E DESENVOLVIMENTO DE SISTEMAS LTD</td></tr><tr><td>3</td><td>FINDME TECNOLOGIA LTDA</td></tr><tr><td>3</td><td>ISGAME INTERNATIONAL SCHOOL OF GAME LTDA</td></tr><tr><td>3</td><td>FAC COMPUTACAO INFORMATICA/UPM</td></tr><tr><td>3</td><td>INST CRIANCA/SSSP</td></tr><tr><td>3</td><td>FAC TECNOLOGIA SOROCABA/CEETPS</td></tr><tr><td>3</td><td>DOROTH INDUSTRIA COMERCIO E SERVICOS DE INFORMACAO LTDA</td></tr><tr><td>3</td><td>3DTIME SOLUCOES TRIDIMENSIONAIS LTDA ME</td></tr><tr><td>3</td><td>42.916.449 ANGELA FAUSTINO JOZALA</td></tr><tr><td>3</td><td>DEFENSE FERTILIZER LTDA</td></tr><tr><td>3</td><td>FAC FILOSOFIA COMUNICACAO LETRAS ARTES/PUCSP</td></tr><tr><td>3</td><td>INST NACIONAL TELECOMUNICACOES/FINATEL</td></tr><tr><td>3</td><td>INST SAUDE/SSSP</td></tr><tr><td>3</td><td>INST FISICA/UFF</td></tr><tr><td>3</td><td>ECOTRACE TECNOLOGIA DA INFORMACAO S A</td></tr><tr><td>3</td><td>INST CIENCIAS ENGENHARIA ITAPEVA/UNESP</td></tr><tr><td>3</td><td>CAMPUS SAO ROQUE/IFSP</td></tr><tr><td>3</td><td>45.993.313 INOVA SIMPLES (I.S.)</td></tr><tr><td>3</td><td>AGROBEE SOLUCOES EM POLINIZACAO E SUSTENTABILIDADE LTDA</td></tr><tr><td>3</td><td>CENTRO PESQ METEOROLOGICAS CLIMATICAS APLICADAS AGRICULTURA/UNICAMP</td></tr><tr><td>3</td><td>SUPPLY COMERCIO DE PRODUTOS QUIMICOS LTDA</td></tr><tr><td>3</td><td>SYNBD PESQUISA DESENVOLVIMENTO E PRODUCAO DE INSUMOS FARMACEUTICOS</td></tr><tr><td>3</td><td>RIZOBIOMA BRASIL TECNOLOGIA MICROBIANA LTDA</td></tr><tr><td>2</td><td>AURHORA ANALISES QUIMICAS LTDA</td></tr><tr><td>2</td><td>CAMPUS ITAPETININGA/IFSP</td></tr><tr><td>2</td><td>IDEELAB BIOTECNOLOGIA S/A</td></tr><tr><td>2</td><td>BLOX - SISTEMA GAMIFICADO DE EDUCACAO POR COMPETENCIA LTDA</td></tr><tr><td>2</td><td>INST CENTRO PESQUISAS SAO LEOPOLDO MANDIC/SLMANDIC</td></tr><tr><td>2</td><td>PATRICIA MILANO - ME</td></tr><tr><td>2</td><td>FAC COMPUTACAO/UFU</td></tr><tr><td>2</td><td>INST NEUROCIENCIAS COMPORTAMENTO/INEC</td></tr><tr><td>2</td><td>CAROLINA CINTO DE MORAES 36924453856</td></tr><tr><td>2</td><td>IN SITU TERAPIA CELULAR LTDA</td></tr><tr><td>2</td><td>INST INFORMATICA/UFG</td></tr><tr><td>2</td><td>NAIAD DESENVOLVIMENTO COMPUTACIONAL DE FARMACOS LTDA</td></tr><tr><td>2</td><td>VETRA PESQUISA DESENVOLVIMENTO PRODUTOS CERAMICOS DE ALTA TECNOLOGIA</td></tr><tr><td>2</td><td>EMBRAPA MEIO AMBIENTE/EMBRAPA</td></tr><tr><td>2</td><td>FAC ECONOMIA ADMINISTRACAO CONTABILIDADE RIBEIRAO PRETO/USP</td></tr><tr><td>2</td><td>BIOBREYER PESQUISA E DESENVOLVIMENTO CIENTIFICO LTDA</td></tr><tr><td>2</td><td>SANTA MARTHA AGRO LTDA - ME</td></tr><tr><td>2</td><td>SIGRIA SOLUCOES EM INVESTIMENTOS E EMPRISTIMOS RURAIS LTDA</td></tr><tr><td>2</td><td>F J V DA SILVA TECNOLOGIA INFORMACAO LTDA</td></tr><tr><td>2</td><td>DRC ADMINISTRACAO TREINAMENTO E CONSULTORIA LTDA</td></tr><tr><td>2</td><td>NAZARE & PETRONIO PESQ DESENV EXPERIMENTAL CIENCIAS FISICAS NATURAIS</td></tr><tr><td>2</td><td>OPTARIUM COMERCIO DE ARTIGOS DE OPTICA EIRELI - ME</td></tr><tr><td>2</td><td>CONNECTING BLOCKS CONSULTORIA LTDA</td></tr><tr><td>2</td><td>HUMANIZADAS DESENVOLVIMENTO DE SOFTWARE LTDA</td></tr><tr><td>2</td><td>TERRA AZUL TECNOLOGIA DE POLIMEROS NATURAIS LTDA</td></tr><tr><td>2</td><td>LIVING OUT LABORATORIO DE TESTES CELULARES IN VITRO LTDA</td></tr><tr><td>2</td><td>METEOIA DATASCIENCE LTDA</td></tr><tr><td>2</td><td>BIOTECH BUSINESS BIOTECHNOLOGY SOLUTIONS LTDA</td></tr><tr><td>2</td><td>SOFIEN SOLUCOES TECNOLOGICAS PARA AGROINDUSTRIA LTDA</td></tr><tr><td>2</td><td>CENTRO DE TREINAMENTO E INOVACAO EM BIOFABRICACAO 3D LTDA</td></tr><tr><td>2</td><td>INNANO TECNOLOGIA LTDA</td></tr><tr><td>2</td><td>SLEEPUP TECNOLOGIA EM SAUDE LTDA</td></tr><tr><td>2</td><td>UNIV SAO FRANCISCO CAMPUS ITATIBA/USF</td></tr><tr><td>2</td><td>INVENT BIOTECNOLOGIA LTDA ME</td></tr><tr><td>2</td><td>BIO.INN LTDA</td></tr><tr><td>2</td><td>VIGILANTES DO SONO QUALIDADE DE VIDA E TECNOLOGIA LTDA</td></tr><tr><td>2</td><td>PROTOLAB LABORATORIO DE PROPRIEDADES TERMOFISICAS PROTOTIPACAO LTDA</td></tr><tr><td>2</td><td>TIAGO MILANIN 33733312856</td></tr><tr><td>2</td><td>UNIDADE MOOCA/USJT</td></tr><tr><td>2</td><td>CENTRO ESTUDOS OPINIAO PUBLICA/UNICAMP</td></tr><tr><td>2</td><td>FAC CIENCIAS SOCIAIS APLICADAS/UFLA</td></tr><tr><td>2</td><td>SINAPSIS INOVACAO EM ENERGIA SS LTDA</td></tr><tr><td>2</td><td>HOSP BENEFICENCIA PORTUGUESA SAO PAULO/RBAPB</td></tr><tr><td>2</td><td>LUPULO TROPICAL CONSULTORIA E PESQUISA LTDA</td></tr><tr><td>2</td><td>CAMPUS OSASCO/UNIFESP</td></tr><tr><td>2</td><td>ESC PAULISTA ENFERMAGEM/UNIFESP</td></tr><tr><td>2</td><td>EPL EMPRESA PRODUTORA DE INOVACOES TECNOLOGICAS LTDA</td></tr><tr><td>2</td><td>TRAPA CAMERA EQUIPAMENTOS ELETRONICOS PARA PRESERVAGCO DA FAUNA LTDA</td></tr><tr><td>2</td><td>CAMPUS SAO CARLOS/IFSP</td></tr><tr><td>2</td><td>DOM ROCK SERVICOS EM TECNOLOGIA S A</td></tr><tr><td>2</td><td>ESC ECONOMIA NEGOCIOS/PUCCAMPINAS</td></tr><tr><td>2</td><td>PRO REITORIA POS GRADUACAO PESQUISA/UNIFESP</td></tr><tr><td>2</td><td>BIOMONETIZE - VALORACAO E MONETIZACAO DE SERVICOS AMBIENTAIS LTDA</td></tr><tr><td>2</td><td>MULTISCALE SOLUTIONS TECNOLOGIA E CONSULTORIA LTDA</td></tr><tr><td>2</td><td>CENTRO CIENCIAS NATUREZA/UFPI</td></tr><tr><td>2</td><td>GENOTYPING LABORATORIO DE BIOTECNOLOGIA LTDA</td></tr><tr><td>2</td><td>MICROGENE LTDA</td></tr><tr><td>2</td><td>SC CONDI ASSESSORIA INDUSTRIAL</td></tr><tr><td>2</td><td>ESC CIENCIAS AGRARIAS/UFLA</td></tr><tr><td>2</td><td>FAC CIENCIAS SOCIAIS/PUCSP</td></tr><tr><td>2</td><td>GEN&VITA INOVA SIMPLES (I.S.)</td></tr><tr><td>2</td><td>AGRIO TECNOLOGIA LTDA</td></tr><tr><td>2</td><td>CENTRO CIENCIAS/UFC</td></tr><tr><td>2</td><td>RENAFLORA RECURSOS NATURAIS INOVA SIMPLES (I.S.)</td></tr><tr><td>2</td><td>VILLAS BOAS & LOPES PESQUISA EXPERIMENTAL LTDA</td></tr><tr><td>2</td><td>INST PASTEUR SAO PAULO/IPSP</td></tr><tr><td>2</td><td>FAC EDUCACAO FISICA/UNICAMP</td></tr><tr><td>2</td><td>PRO REITORIA PESQUISA POS GRADUACAO/UNITAU</td></tr><tr><td>2</td><td>KRABS DESENVOLVIMENTO EM BIOTECNOLOGIA LTDA</td></tr><tr><td>2</td><td>ASSOCIACAO FUNDO INCENTIVO PESQUISA/AFIP</td></tr><tr><td>2</td><td>MIRSCIENCE THERAPEUTICS SERVICOS DE PESQUISA E DESENVOLVIMENTO LTDA</td></tr><tr><td>2</td><td>BRAZILIAN NANO FEED PESQUISA E DESENVOLVIMENTO DE ADITIVOS LTDA</td></tr><tr><td>2</td><td>ALEXANDRE GRELUK SZYKMAN 38040489865</td></tr><tr><td>2</td><td>BIOTECHNO SCIENCE FARMACEUTICA</td></tr><tr><td>2</td><td>PRO REITORIA POS GRADUACAO PESQUISA/USCS</td></tr><tr><td>2</td><td>FISIOATUAL COMERCIO ATACADISTA EQUIPAMENTOS MEDICO HOSPITALARES LTDA</td></tr><tr><td>2</td><td>T DE MORAES ALVES ARQUITETURA</td></tr><tr><td>2</td><td>LINKAGES DESENVOLVIMENTO EMPRESARIAL LTDA</td></tr><tr><td>1</td><td>BIOATIVA PESQUISAS E COMPOSTOS BIOATIVOS LTDA</td></tr><tr><td>1</td><td>BSV ROBOTICS LTDA</td></tr><tr><td>1</td><td>ESTACAO EXPERIMENTAL AGRONEGOCIO BEBEDOURO/FUPAB</td></tr><tr><td>1</td><td>SOLUCOES TECNOLOGICAS PARA O APERFEICOAMENTO DA ACADEMIA LTDA</td></tr><tr><td>1</td><td>RELOAD HEALTH DEVICES LTDA</td></tr><tr><td>1</td><td>BRASILBIOTEC - PESQUISA E DESENVOLVIMENTO LTDA</td></tr><tr><td>1</td><td>MICROBIOMEX BIOTECNOLOGIA E SOLUCOES MICROBIANAS LTDA</td></tr><tr><td>1</td><td>DALLAS AUTONOMUS LTDA</td></tr><tr><td>1</td><td>FAZ VERDE SOLUCOES AMBIENTAIS LTDA</td></tr><tr><td>1</td><td>INFOPRECOS S A</td></tr><tr><td>1</td><td>GOMEZ & GOMEZ LTDA - ME</td></tr><tr><td>1</td><td>NOCK - PESQUISA E DESENVOLVIMENTO DE EQUIPAMENTOS ESTERILIZACAO LTDA</td></tr><tr><td>1</td><td>NEXUS CAPITAL LTDA</td></tr><tr><td>1</td><td>CAMPUS SOROCABA/IFSP</td></tr><tr><td>1</td><td>NUCLEO INTERDISCIPLINAR PESQUISAS TEATRAIS/UNICAMP</td></tr><tr><td>1</td><td>INST TECNOLOGIA/UFPA</td></tr><tr><td>1</td><td>CAMPUS BRAGANCA PAULISTA/IFSP</td></tr><tr><td>1</td><td>DSMA DESENVOLVIMENTO SUSTENTAVEL E MONITORAMENTO AMBIENTAL LTDA</td></tr><tr><td>1</td><td>CLARITY HEALTHCARE DESENVOLVIMENTO DE SOFTWARE LTDA</td></tr><tr><td>1</td><td>ALCHEMYPET MEDICINA DIAGNOSTICA VETERINARIA LTDA</td></tr><tr><td>1</td><td>MARZIEH KADIVAR 24096777897</td></tr><tr><td>1</td><td>NOVO GAS PROJETOS DE ENERGIA RENOVAVEL LTDA</td></tr><tr><td>1</td><td>AGRINANO SOLUCOES SUSTENTAVEIS LTDA</td></tr><tr><td>1</td><td>ALBERTO O FARRILL VANNINI PESSINA - ME</td></tr><tr><td>1</td><td>CAMPUS BIRIGUI/IFSP</td></tr><tr><td>1</td><td>FAC ARQUITETURA URBANISMO/UPM</td></tr><tr><td>1</td><td>MONERA AGROCENCIA INOVA SIMPLES (I.S)</td></tr><tr><td>1</td><td>FAC SESI-SP EDUCACAO/SESI</td></tr><tr><td>1</td><td>CAMPUS JACAREI/IFSP</td></tr><tr><td>1</td><td>IMUNODOT - INDUSTRIA E PESQUISA DE PRODUTOS PARA DIAGNOSTICO LTDA-ME</td></tr><tr><td>1</td><td>GUSTAVO TRINDADE VALIO 35540175824</td></tr><tr><td>1</td><td>ESC SUPERIOR PROPAGANDA MARKETING SAO PAULO/AESPM</td></tr><tr><td>1</td><td>52.610.027 ARYANNE RODRIGUES DE LIMA COSTA</td></tr><tr><td>1</td><td>CENTRO TECNICO CIENTIFICO/PUCRIO</td></tr><tr><td>1</td><td>ESC POLITECNICA/PUCCAMPINAS</td></tr><tr><td>1</td><td>FLUXOFARMA PESQUISA E DESENVOLVIMENTO LTDA</td></tr><tr><td>1</td><td>CENTRO TECNOLOGIA INFORMACAO RENATO ARCHER/MCTI</td></tr><tr><td>1</td><td>UP BIOPRODUTOS LTDA</td></tr><tr><td>1</td><td>INST MUNICIPAL ENSINO SUPERIOR ASSIS/FEMA</td></tr><tr><td>1</td><td>METAURA PRESTACAO DE SERVICOS DE PESQUISA E DESENVOLVIMENTO LTDA</td></tr><tr><td>1</td><td>HOSP CLINICAS PORTO ALEGRE/UFRGS</td></tr><tr><td>1</td><td>ANDRE ZUFFO BOARATTI 41807621880</td></tr><tr><td>1</td><td>REITORIA/UNIFRAN</td></tr><tr><td>1</td><td>BINAHKI SOLUCOES TECNOLOGICAS LTDA</td></tr><tr><td>1</td><td>VALORA MADEIRA CLASSIFICACAO E INSPECAO LTDA</td></tr><tr><td>1</td><td>R&R NOVABIO PESQUISA E DESENVOLVIMENTO EM CIENCIAS NATURAIS LTDA</td></tr><tr><td>1</td><td>MICROONDAS DESENVOLVIMENTO E TECNOLOGIAS LTDA</td></tr><tr><td>1</td><td>FALCAO HIGHTEC SOLUTION LTDA</td></tr><tr><td>1</td><td>AGENCIA PAULISTA TECNOLOGIA AGRONEGOCIOS/SAASP</td></tr><tr><td>1</td><td>CAMPUS AVARE/IFSP</td></tr><tr><td>1</td><td>CAMPUS SAO JOSE DOS CAMPOS/IFSP</td></tr><tr><td>1</td><td>HUMMAMI PRODUTOS ALIMENTICIOS LTDA</td></tr><tr><td>1</td><td>IMUNOTERA SOLUCOES TERAPEUTICAS LTDA</td></tr><tr><td>1</td><td>INST BIOLOGICO CAMPINAS/SAASP</td></tr><tr><td>1</td><td>TR TECNOLOGIA EM RADARES LTDA</td></tr><tr><td>1</td><td>INST CIENCIAS EXATAS NATURAIS/UFPA</td></tr><tr><td>1</td><td>52.714.182 LAIZA MARIA DE JESUS SILVA</td></tr><tr><td>1</td><td>INST ESTUDOS AVANCADOS/DCTA</td></tr><tr><td>1</td><td>FAC TECNOLOGIA ITAQUERA PROFESSOR MIGUEL REALE/CEETPS</td></tr><tr><td>1</td><td>MODELWORKS ENGENHARIA LTDA - ME</td></tr><tr><td>1</td><td>CROPMAN INOVACAO TECNOLOGICA E AGRICULTURA DIGITAL LTDA</td></tr><tr><td>1</td><td>NUCLEO INTERDISCIPLINAR COMUNICACAO SONORA/UNICAMP</td></tr><tr><td>1</td><td>ECCAPLAN - CONSULTORIA EM DESENVOLVIMENTO SUSTENTAVEL LTDA - ME</td></tr><tr><td>1</td><td>PLATAFORMA PESQUISA MEDICINA TRANSLACIONAL/FIOCRUZ</td></tr><tr><td>1</td><td>POLI INK LTDA</td></tr><tr><td>1</td><td>LINAX COMERCIO DE OLEOS ESSENCIAIS LTDA</td></tr><tr><td>1</td><td>VERDAZ GESTAO SUSTENTAVEL E CONSULTORIA AMBIENTAL LTDA</td></tr><tr><td>1</td><td>CAMPUS CARAGUATATUBA/IFSP</td></tr><tr><td>1</td><td>UNIV NOVE JULHO CAMPUS VERGUEIRO/UNINOVE</td></tr><tr><td>1</td><td>HOSP CLINICAS FACULDADE MEDICINA BOTUCATU/SSSP</td></tr><tr><td>1</td><td>INST D OR PESQUISA ENSINO SAO PAULO/IDOR</td></tr><tr><td>1</td><td>CAMPUS FERNANDOPOLIS/UB</td></tr><tr><td>1</td><td>DIRAC INOVACOES TECNOLOGICAS LTDA</td></tr><tr><td>1</td><td>ALJAVA PESQUISA E DESENVOLVIMENTO EXPERIMENTAL EM BIOTECNOLOGIA LTDA</td></tr><tr><td>1</td><td>INST AERONAUTICA ESPACO/DCTA</td></tr><tr><td>1</td><td>ANDRE ALMEIDA SILVA</td></tr><tr><td>1</td><td>THOTECH SOLUCOES & SERVICOS LTDA</td></tr><tr><td>1</td><td>SUCCI AVILA LTDA</td></tr><tr><td>1</td><td>CAMPUS GUARULHOS/IFSP</td></tr><tr><td>1</td><td>KOSMOSCIENCE CIENCIA TEC COSMETICA IMPORTACAO EXPORTACAO (FILIAL)</td></tr><tr><td>1</td><td>52.816.526 JULIO CESAR EDUARDO DE SOUZA</td></tr><tr><td>1</td><td>BUZZ FLY P&D EM ALIMENTACAO ANIMAL S A</td></tr><tr><td>1</td><td>PRO REITORIA POS GRADUACAO/UFLA</td></tr><tr><td>1</td><td>TECCER INDUSTRIA E COMERCIO DE PRODUTOS CERAMICOS LTDA</td></tr><tr><td>1</td><td>I.RAD.PARTICLE INOVA SIMPLES (I.S.)</td></tr><tr><td>1</td><td>CENTRO PESQUISA DOCUMENTACAO HISTORIA CONTEMPORANEA SAO PAULO/FGVSP</td></tr><tr><td>1</td><td>CENTRO TECNOLOGIA/UFPI</td></tr><tr><td>1</td><td>ESC LINGUAGEM COMUNICACAO/PUCCAMPINAS</td></tr><tr><td>1</td><td>CAMPUS SERTAOZINHO/IFSP</td></tr><tr><td>1</td><td>JTAG EQUIPAMENTOS MEDICOS LTDA</td></tr><tr><td>1</td><td>PRO REITORIA GRADUACAO/UFSCAR</td></tr><tr><td>1</td><td>SENSE PLUS CONSULTORIA E DESENVOLVIMENTO LTDA - ME</td></tr><tr><td>1</td><td>PRUDENCIATTI E RIBEIRO PESQUISA E DESENVOLVIMENTO LTDA</td></tr><tr><td>1</td><td>CAMPUS ALEGRETE/UNIPAMPA</td></tr><tr><td>1</td><td>NUCLEO ESTUDOS POPULACAO/UNICAMP</td></tr><tr><td>1</td><td>ICTIOLOGICA CONSULTORIA AMBIENTAL LTDA</td></tr><tr><td>1</td><td>CENTRO UNIVERSITARIO SAO CAMILO CAMPUS IPIRANGA/CUSC</td></tr><tr><td>1</td><td>MIRA PESQUISA E DESENVOLVIMENTO LTDA ME</td></tr><tr><td>1</td><td>CENTRO TECNOLOGIA/UFC</td></tr><tr><td>1</td><td>TCARBON DIAMOND IND LTDA</td></tr><tr><td>1</td><td>PRO REITORIA POS GRADUACAO/PUCSP</td></tr><tr><td>1</td><td>INST BRASILEIRO CONTROLE CANCER</td></tr><tr><td>1</td><td>CAMPUS VOTUPORANGA/IFSP</td></tr></tbody></table></div>"
            ]
          },
          "metadata": {
            "application/vnd.databricks.v1+output": {
              "addedWidgets": {},
              "aggData": [],
              "aggError": "",
              "aggOverflow": false,
              "aggSchema": [],
              "aggSeriesLimitReached": false,
              "aggType": "",
              "arguments": {},
              "columnCustomDisplayInfos": {},
              "data": [
                [
                  543,
                  "INST CIENCIAS BIOMEDICAS/USP"
                ],
                [
                  477,
                  "FAC FILOSOFIA LETRAS CIENCIAS HUMANAS/USP"
                ],
                [
                  425,
                  "CENTRO CIENCIAS EXATAS TECNOLOGIA/UFSCAR"
                ],
                [
                  395,
                  "FAC MEDICINA RIBEIRAO PRETO/USP"
                ],
                [
                  389,
                  "INST BIOLOGIA/UNICAMP"
                ],
                [
                  364,
                  "ESC PAULISTA MEDICINA/UNIFESP"
                ],
                [
                  325,
                  "INST BIOCIENCIAS/USP"
                ],
                [
                  305,
                  "CENTRO CIENCIAS BIOLOGICAS SAUDE/UFSCAR"
                ],
                [
                  296,
                  "INST QUIMICA/USP"
                ],
                [
                  290,
                  "ESC SUPERIOR AGRICULTURA LUIZ DE QUEIROZ/USP"
                ],
                [
                  278,
                  "FAC FILOSOFIA CIENCIAS LETRAS RIBEIRAO PRETO/USP"
                ],
                [
                  247,
                  "INST QUIMICA/UNICAMP"
                ],
                [
                  238,
                  "FAC CIENCIAS TECNOLOGIA PRESIDENTE PRUDENTE/UNESP"
                ],
                [
                  228,
                  "FAC MEDICINA/USP"
                ],
                [
                  212,
                  "CENTRO EDUCACAO CIENCIAS HUMANAS/UFSCAR"
                ],
                [
                  210,
                  "INST FISICA SAO CARLOS/USP"
                ],
                [
                  199,
                  "INST FISICA/USP"
                ],
                [
                  190,
                  "FAC CIENCIAS AGRARIAS VETERINARIAS JABOTICABAL/UNESP"
                ],
                [
                  177,
                  "INST BIOCIENCIAS BOTUCATU/UNESP"
                ],
                [
                  177,
                  "FAC CIENCIAS MEDICAS/UNICAMP"
                ],
                [
                  169,
                  "INST FILOSOFIA CIENCIAS HUMANAS/UNICAMP"
                ],
                [
                  167,
                  "ESC ENGENHARIA SAO CARLOS/USP"
                ],
                [
                  165,
                  "INST BUTANTAN/SSSP"
                ],
                [
                  161,
                  "CENTRO NACIONAL PESQUISA ENERGIA MATERIAIS/MCTI"
                ],
                [
                  161,
                  "INST BIOCIENCIAS RIO CLARO/UNESP"
                ],
                [
                  159,
                  "FAC CIENCIAS FARMACEUTICAS RIBEIRAO PRETO/USP"
                ],
                [
                  158,
                  "ESC FILOSOFIA LETRAS CIENCIAS HUMANAS/UNIFESP"
                ],
                [
                  158,
                  "INST CIENCIAS MATEMATICAS COMPUTACAO SAO CARLOS/USP"
                ],
                [
                  153,
                  "FAC ZOOTECNIA ENGENHARIA ALIMENTOS/USP"
                ],
                [
                  151,
                  "INST QUIMICA SAO CARLOS/USP"
                ],
                [
                  148,
                  "ESC POLITECNICA/USP"
                ],
                [
                  136,
                  "CENTRO CIENCIAS NATURAIS HUMANAS/UFABC"
                ],
                [
                  125,
                  "FAC CIENCIAS BAURU/UNESP"
                ],
                [
                  118,
                  "INST ASTRONOMIA GEOFISICA CIENCIAS ATMOSFERICAS/USP"
                ],
                [
                  118,
                  "INST CIENCIAS AMBIENTAIS QUIMICAS FARMACEUTICAS/UNIFESP"
                ],
                [
                  116,
                  "FAC CIENCIAS FARMACEUTICAS/USP"
                ],
                [
                  111,
                  "FAC CIENCIAS LETRAS ASSIS/UNESP"
                ],
                [
                  108,
                  "FAC ODONTOLOGIA BAURU/USP"
                ],
                [
                  108,
                  "INST QUIMICA ARARAQUARA/UNESP"
                ],
                [
                  106,
                  "FAC CIENCIAS FARMACEUTICAS ARARAQUARA/UNESP"
                ],
                [
                  104,
                  "FAC SAUDE PUBLICA/USP"
                ],
                [
                  104,
                  "INST FISICA GLEB WATAGHIN/UNICAMP"
                ],
                [
                  103,
                  "FAC ENGENHARIA ALIMENTOS/UNICAMP"
                ],
                [
                  99,
                  "FAC CIENCIAS APLICADAS/UNICAMP"
                ],
                [
                  98,
                  "FAC MEDICINA VETERINARIA ZOOTECNIA/USP"
                ],
                [
                  96,
                  "CENTRO ENERGIA NUCLEAR AGRICULTURA/USP"
                ],
                [
                  96,
                  "FAC ODONTOLOGIA ARARAQUARA/UNESP"
                ],
                [
                  90,
                  "FAC ARQUITETURA URBANISMO/USP"
                ],
                [
                  90,
                  "INST MATEMATICA ESTATISTICA/USP"
                ],
                [
                  89,
                  "INST MATEMATICA ESTATISTICA COMPUTACAO CIENTIFICA/UNICAMP"
                ],
                [
                  89,
                  "FAC ODONTOLOGIA RIBEIRAO PRETO/USP"
                ],
                [
                  87,
                  "INST PSICOLOGIA/USP"
                ],
                [
                  87,
                  "INST BIOCIENCIAS LETRAS CIENCIAS EXATAS SAO JOSE RIO PRETO/UNESP"
                ],
                [
                  84,
                  "FAC ENGENHARIA ELETRICA COMPUTACAO/UNICAMP"
                ],
                [
                  81,
                  "INST OCEANOGRAFICO/USP"
                ],
                [
                  81,
                  "ESC COMUNICACOES ARTES/USP"
                ],
                [
                  80,
                  "FAC ODONTOLOGIA PIRACICABA/UNICAMP"
                ],
                [
                  79,
                  "FAC ODONTOLOGIA ARACATUBA/UNESP"
                ],
                [
                  78,
                  "FAC MEDICINA BOTUCATU/UNESP"
                ],
                [
                  76,
                  "FAC ENGENHARIA ILHA SOLTEIRA/UNESP"
                ],
                [
                  75,
                  "INST SAUDE SOCIEDADE/UNIFESP"
                ],
                [
                  75,
                  "INST GEOCIENCIAS/USP"
                ],
                [
                  70,
                  "FAC MEDICINA VETERINARIA ZOOTECNIA BOTUCATU/UNESP"
                ],
                [
                  63,
                  "INST GEOCIENCIAS CIENCIAS EXATAS RIO CLARO/UNESP"
                ],
                [
                  63,
                  "FAC CIENCIAS LETRAS ARARAQUARA/UNESP"
                ],
                [
                  62,
                  "ESC ARTES CIENCIAS HUMANIDADES/USP"
                ],
                [
                  60,
                  "ESC ENGENHARIA LORENA/USP"
                ],
                [
                  59,
                  "FAC ENGENHARIA MECANICA/UNICAMP"
                ],
                [
                  58,
                  "INST GEOCIENCIAS/UNICAMP"
                ],
                [
                  58,
                  "CENTRO ENGENHARIA MODELAGEM CIENCIAS SOCIAIS APLICADAS/UFABC"
                ],
                [
                  57,
                  "INST CORACAO DO HOSP CLINICAS SAO PAULO/SSSP"
                ],
                [
                  53,
                  "ESC ADMINISTRACAO EMPRESAS SAO PAULO/FGVSP"
                ],
                [
                  53,
                  "EMBRAPA INSTRUMENTACAO AGROPECUARIA/EMBRAPA"
                ],
                [
                  52,
                  "FAC EDUCACAO/UNICAMP"
                ],
                [
                  50,
                  "INST FISICA TEORICA/UNESP"
                ],
                [
                  49,
                  "INST CIENCIA TECNOLOGIA SAO JOSE CAMPOS/UNESP"
                ],
                [
                  48,
                  "CENTRO CIENCIAS AGRARIAS/UFSCAR"
                ],
                [
                  48,
                  "INST CIENCIA TECNOLOGIA/UNIFESP"
                ],
                [
                  47,
                  "INST ESTUDOS LINGUAGEM/UNICAMP"
                ],
                [
                  47,
                  "CENTRO HEMATOLOGIA HEMOTERAPIA HEMOCENTRO/UNICAMP"
                ],
                [
                  46,
                  "CENTRO BIOLOGIA MOLECULAR ENGENHARIA GENETICA/UNICAMP"
                ],
                [
                  46,
                  "FAC CIENCIAS FARMACEUTICAS/UNICAMP"
                ],
                [
                  46,
                  "FAC ENGENHARIA QUIMICA/UNICAMP"
                ],
                [
                  44,
                  "FAC CIENCIAS AGRONOMICAS BOTUCATU/UNESP"
                ],
                [
                  43,
                  "CENTRO MATEMATICA COMPUTACAO COGNICAO/UFABC"
                ],
                [
                  43,
                  "MUSEU ZOOLOGIA/USP"
                ],
                [
                  43,
                  "INST BIOCIENCIAS CAMPUS LITORAL PAULISTA/UNESP"
                ],
                [
                  41,
                  "INST ARTES/UNICAMP"
                ],
                [
                  39,
                  "FAC ODONTOLOGIA/USP"
                ],
                [
                  37,
                  "CENTRO BRASILEIRO ANALISE PLANEJAMENTO/CEBRAP"
                ],
                [
                  35,
                  "FAC CIENCIAS HUMANAS SOCIAIS FRANCA/UNESP"
                ],
                [
                  33,
                  "INST NACIONAL PESQUISAS ESPACIAIS/MCTI"
                ],
                [
                  33,
                  "HOSP CANCER BARRETOS/FP"
                ],
                [
                  32,
                  "INST COMPUTACAO/UNICAMP"
                ],
                [
                  32,
                  "FAC ARQUITETURA ARTES COMUNICACAO DESIGN BAURU/UNESP"
                ],
                [
                  31,
                  "FAC EDUCACAO/USP"
                ],
                [
                  31,
                  "INST RELACOES INTERNACIONAIS/USP"
                ],
                [
                  31,
                  "INST ESTUDOS AVANCADOS/USP"
                ],
                [
                  30,
                  "FUND HEMOCENTRO RIBEIRAO PRETO/SSSP"
                ],
                [
                  30,
                  "HOSP CLINICAS SAO PAULO/SSSP"
                ],
                [
                  30,
                  "FAC ENGENHARIA GUARATINGUETA/UNESP"
                ],
                [
                  29,
                  "INSPER INST ENSINO PESQUISA/INSPER"
                ],
                [
                  29,
                  "INST ARQUITETURA URBANISMO SAO CARLOS/USP"
                ],
                [
                  29,
                  "INST ISRAELITA ENSINO PESQUISA ALBERT EINSTEIN/SBIBAE"
                ],
                [
                  29,
                  "ESC ENFERMAGEM RIBEIRAO PRETO/USP"
                ],
                [
                  28,
                  "FAC TECNOLOGIA/UNICAMP"
                ],
                [
                  27,
                  "INST MAR/UNIFESP"
                ],
                [
                  26,
                  "FAC FILOSOFIA CIENCIAS MARILIA/UNESP"
                ],
                [
                  26,
                  "INST PESQUISAS ENERGETICAS NUCLEARES/SDE"
                ],
                [
                  24,
                  "FAC ENGENHARIA AGRICOLA/UNICAMP"
                ],
                [
                  24,
                  "A C CAMARGO CANCER CENTER/FAP"
                ],
                [
                  24,
                  "MUSEU ARQUEOLOGIA ETNOLOGIA/USP"
                ],
                [
                  24,
                  "FAC MEDICINA SAO JOSE RIO PRETO/SDE"
                ],
                [
                  23,
                  "INST CANCER ESTADO SAO PAULO/SSSP"
                ],
                [
                  23,
                  "INST AGRONOMICO CAMPINAS/SAASP"
                ],
                [
                  23,
                  "PRO REITORIA POS GRADUACAO PESQUISA EXTENSAO INOVACAO/UNISO"
                ],
                [
                  23,
                  "INST PESQUISAS AMBIENTAIS/SIMA"
                ],
                [
                  23,
                  "FAC ENGENHARIA BAURU/UNESP"
                ],
                [
                  22,
                  "INST ARTES SAO PAULO/UNESP"
                ],
                [
                  22,
                  "DIVISAO CIENCIAS FUNDAMENTAIS/ITA"
                ],
                [
                  22,
                  "CENTRO CIENCIAS HUMANAS BIOLOGICAS/UFSCAR"
                ],
                [
                  21,
                  "ESC CIENCIAS HUMANAS JURIDICAS SOCIAIS/PUCCAMPINAS"
                ],
                [
                  21,
                  "ESC EDUCACAO FISICA ESPORTE RIBEIRAO PRETO/USP"
                ],
                [
                  21,
                  "CENTRO CIENCIAS BIOLOGICAS SAUDE/UPM"
                ],
                [
                  21,
                  "FAC CIENCIAS AGRARIAS TECNOLOGICAS DRACENA/UNESP"
                ],
                [
                  20,
                  "CENTRO EDUCACAO FILOSOFIA TEOLOGIA/UPM"
                ],
                [
                  19,
                  "PRO REITORIA PESQUISA POS GRADUACAO/UNOESTE"
                ],
                [
                  19,
                  "CENTRO BIOLOGIA MARINHA/USP"
                ],
                [
                  19,
                  "HOSP SIRIO LIBANES/SBSHSL"
                ],
                [
                  18,
                  "FAC CIENCIAS ENGENHARIA TUPA/UNESP"
                ],
                [
                  18,
                  "CENTRO LOGICA EPISTEMOLOGIA HISTORIA CIENCIA/UNICAMP"
                ],
                [
                  17,
                  "FAC ENGENHARIA SAO JOAO BOA VISTA/UNESP"
                ],
                [
                  17,
                  "CENTRO CIENCIAS NATUREZA/UFSCAR"
                ],
                [
                  17,
                  "CENTRO CIENCIAS TECNOLOGIAS SUSTENTABILIDADE/UFSCAR"
                ],
                [
                  16,
                  "HOSP UNIVERSITARIO/USP"
                ],
                [
                  16,
                  "INST PESCA/SAASP"
                ],
                [
                  16,
                  "INST ZOOTECNIA/SAASP"
                ],
                [
                  16,
                  "ESC EDUCACAO FISICA ESPORTE/USP"
                ],
                [
                  16,
                  "INST CIENCIA TECNOLOGIA SOROCABA/UNESP"
                ],
                [
                  16,
                  "FAC MEDICINA VETERINARIA ARACATUBA/UNESP"
                ],
                [
                  16,
                  "ESC DIREITO SAO PAULO/FGVSP"
                ],
                [
                  15,
                  "FAC ENGENHARIA CIVIL ARQUITETURA URBANISMO/UNICAMP"
                ],
                [
                  15,
                  "PRO REITORIA ADJUNTA PESQUISA POS GRADUACAO/UNIFRAN"
                ],
                [
                  15,
                  "FAC MEDICINA/UNOESTE"
                ],
                [
                  14,
                  "INST PSIQUIATRIA/SSSP"
                ],
                [
                  14,
                  "EMBRAPA AGRICULTURA DIGITAL/EMBRAPA"
                ],
                [
                  14,
                  "ESC ENGENHARIA/UPM"
                ],
                [
                  14,
                  "INST CIENCIAS EXATAS/UFMG"
                ],
                [
                  14,
                  "NUCLEO ESTUDOS PESQUISAS AMBIENTAIS/UNICAMP"
                ],
                [
                  14,
                  "CENTRO AQUICULTURA JABOTICABAL/UNESP"
                ],
                [
                  13,
                  "INST PESQUISA BIOENERGIA UNESP/UNESP"
                ],
                [
                  13,
                  "NUCLEO DESENVOLVIMENTO CRIATIVIDADE/UNICAMP"
                ],
                [
                  13,
                  "UNIV RIBEIRAO PRETO CAMPUS RIBEIRAO PRETO/UNAERP"
                ],
                [
                  13,
                  "PRO REITORIA ACADEMICA CAMPUS SEDE/UMC"
                ],
                [
                  13,
                  "DIVISAO ENGENHARIA AERONAUTICA/ITA"
                ],
                [
                  13,
                  "FAC ECONOMIA ADMINISTRACAO CONTABILIDADE ATUARIA/USP"
                ],
                [
                  12,
                  "CENTRO CIENCIAS GESTAO TECNOLOGIA/UFSCAR"
                ],
                [
                  12,
                  "CENTRO UNIVERSITARIO FMABC/FUABC"
                ],
                [
                  12,
                  "INST TECNOLOGIA ALIMENTOS/SAASP"
                ],
                [
                  12,
                  "PRO REITORIA POS GRADUACAO PESQUISA/UNICSUL"
                ],
                [
                  11,
                  "MATCH IT SERVICOS DE TECNOLOGIA LTDA"
                ],
                [
                  11,
                  "NUCLEO INTERDISCIPLINAR PLANEJAMENTO ENERGETICO/UNICAMP"
                ],
                [
                  11,
                  "CT INFANTIL INVESTIGACOES HEMATOLOGICAS DR DOMINGOS BOLDRINI/CIB"
                ],
                [
                  11,
                  "INST FARMACOLOGIA BIOLOGIA MOLECULAR/UNIFESP"
                ],
                [
                  11,
                  "CENTRO ESTUDOS AMBIENTAIS/UNESP"
                ],
                [
                  11,
                  "INST PESQUISA DESENVOLVIMENTO/UNIVAP"
                ],
                [
                  10,
                  "TECH INOVACOES TECNOLOGICAS PARA A AGROPECUARIA S A (FILIAL)"
                ],
                [
                  10,
                  "EMBRAPA PECUARIA SUDESTE/EMBRAPA"
                ],
                [
                  10,
                  "ESC ECONOMIA SAO PAULO/FGVSP"
                ],
                [
                  10,
                  "APTA REGIONAL DDD/SAASP"
                ],
                [
                  10,
                  "UNIV ARARAQUARA/UNIARA"
                ],
                [
                  9,
                  "FAC DIREITO/USP"
                ],
                [
                  9,
                  "FAC MEDICINA JUNDIAI/FMJ"
                ],
                [
                  9,
                  "CENTRO ATENCAO INTEGRAL SAUDE MULHER/UNICAMP"
                ],
                [
                  9,
                  "INST ENERGIA AMBIENTE/USP"
                ],
                [
                  9,
                  "FAC CIENCIAS MEDICAS SANTA CASA SAO PAULO/FAVC"
                ],
                [
                  9,
                  "DIVISAO ENGENHARIA MECANICA/ITA"
                ],
                [
                  9,
                  "ESC CIENCIAS VIDA/PUCCAMPINAS"
                ],
                [
                  9,
                  "UNIV SAO FRANCISCO CAMPUS BRAGANCA PAULISTA/USF"
                ],
                [
                  8,
                  "FAC CIENCIAS AGRARIAS VALE RIBEIRA/UNESP"
                ],
                [
                  8,
                  "DIVISAO CIENCIA COMPUTACAO/ITA"
                ],
                [
                  8,
                  "ESC ENGENHARIA MAUA/IMT"
                ],
                [
                  8,
                  "INST MACKENZIE PESQUISAS GRAFENO NANOTECNOLOGIAS/UPM"
                ],
                [
                  8,
                  "INST POLITICAS PUBLICAS RELACOES INTERNACIONAIS/UNESP"
                ],
                [
                  8,
                  "PRO REITORIA POS GRADUACAO PESQUISA EXTENSAO/UNICID"
                ],
                [
                  8,
                  "FAC MEDICINA MARILIA/SDE"
                ],
                [
                  8,
                  "CENTRO NACIONAL MONITORAMENTO ALERTAS DESASTRES NATURAIS/MCTI"
                ],
                [
                  8,
                  "PRO REITORIA POS GRADUACAO PESQUISA/ITA"
                ],
                [
                  8,
                  "FAC CIENCIAS HUMANAS SAUDE/PUCSP"
                ],
                [
                  8,
                  "MUSEU PAULISTA/USP"
                ],
                [
                  8,
                  "FAC ENGENHARIA CIENCIAS ROSANA/UNESP"
                ],
                [
                  8,
                  "CENTRO UNIVERSITARIO FEI CAMPUS SAO BERNARDO CAMPO/UNIFEI"
                ],
                [
                  8,
                  "CENTRO ESTUDOS ENERGIA PETROLEO/UNICAMP"
                ],
                [
                  7,
                  "ESC MATEMATICA APLICADA/FGV"
                ],
                [
                  7,
                  "COR SYNC DESENVOLVIMENTO DE SISTEMAS LTDA"
                ],
                [
                  7,
                  "UNIV SANTO AMARO/UNISA"
                ],
                [
                  7,
                  "CENTRO CIENCIAS BIOLOGICAS SAUDE/UNICSUL"
                ],
                [
                  7,
                  "FAC ENFERMAGEM/UNICAMP"
                ],
                [
                  7,
                  "INST ESTUDOS BRASILEIROS/USP"
                ],
                [
                  7,
                  "SOC BENEFICENTE ISRAELITA BRASILEIRA HOSP ALBERT EINSTEIN/SBIBAE"
                ],
                [
                  6,
                  "NUCLEO COMPUTACAO CIENTIFICA/UNESP"
                ],
                [
                  6,
                  "RAD-IA INOVA SIMPLES (I.S.)"
                ],
                [
                  6,
                  "INST INFORMATICA/UFRGS"
                ],
                [
                  6,
                  "UNIDADE ACADEMICA DE PESQUISA POS GRADUACAO/UNISINO"
                ],
                [
                  6,
                  "HOSP REABILITACAO ANOMALIAS CRANIOFACIAIS/USP"
                ],
                [
                  6,
                  "INST BIOLOGICO SAO PAULO/SAASP"
                ],
                [
                  6,
                  "UNIV SAO FRANCISCO CAMPUS CAMPINAS/USF"
                ],
                [
                  6,
                  "PICSEL SOLUCOES EM GERENCIAMENT LTDA"
                ],
                [
                  6,
                  "B.NANO SOLUCOES TECNOLOGICAS LTDA"
                ],
                [
                  6,
                  "FLORADA TECH LTDA"
                ],
                [
                  6,
                  "CAMPUS SAO PAULO/IFSP"
                ],
                [
                  6,
                  "CENTRO INOVACAO UNIVERSIDADE SAO PAULO/USP"
                ],
                [
                  6,
                  "MUSEU ARTE CONTEMPORANEA/USP"
                ],
                [
                  6,
                  "INST JO CLEMENTE/APAESP"
                ],
                [
                  6,
                  "FUND ONCOCENTRO SAO PAULO/SSSP"
                ],
                [
                  6,
                  "INST SUPERIOR EDUCACAO SAO PAULO/ISESP"
                ],
                [
                  6,
                  "KERSYS DESENVOLVIMENTO DE SISTEMAS LTDA ME"
                ],
                [
                  6,
                  "HOSP CLINICAS RIBEIRAO PRETO/SSSP"
                ],
                [
                  6,
                  "INST BIOTECNOLOGIA/UNESP"
                ],
                [
                  5,
                  "593ICAN SOLUCOES EM IMPRESSAO 3D LTDA"
                ],
                [
                  5,
                  "VICE REITORIA PESQUISA POS GRADUACAO/UNIP"
                ],
                [
                  5,
                  "KANDER SERVICOS ONLINE E INTERMEDIACAO DE EDUCACAO E CONTEUDO LTDA"
                ],
                [
                  5,
                  "FAC CIENCIAS MEDICAS SAUDE/PUCSP"
                ],
                [
                  5,
                  "INST PESQUISAS TECNOLOGICAS ESTADO SAO PAULO/SDE"
                ],
                [
                  5,
                  "DIVEGEN GESTAO E TRATAMENTO DE DADOS LTDA"
                ],
                [
                  5,
                  "INST PASTEUR SAO PAULO/SSSP"
                ],
                [
                  5,
                  "CENTRO ESTUDOS VENENO ANIMAIS PECONHENTOS/UNESP"
                ],
                [
                  5,
                  "CENTRO TERAPIA CELULAR MOLECULAR/UNIFESP"
                ],
                [
                  5,
                  "INST ECONOMIA/UNICAMP"
                ],
                [
                  5,
                  "HOSP CLINICAS/UNICAMP"
                ],
                [
                  5,
                  "INST ADOLFO LUTZ/SSSP"
                ],
                [
                  4,
                  "SELF APLICACOES TECNOLOGICAS PARA SAUDE EDUCACAO E BEM ESTAR LTDA"
                ],
                [
                  4,
                  "SANTA SEMENTE LTDA"
                ],
                [
                  4,
                  "FORZA COMPOSITES TECNOLOGIA EM MATERIAIS COMPOSITOS LTDA"
                ],
                [
                  4,
                  "XYZ MOLECULAR TARGET LTDA"
                ],
                [
                  4,
                  "ADB PESQUISA E DESENVOLVIMENTO LTDA"
                ],
                [
                  4,
                  "REDE NACIONAL ENSINO PESQUISA/MCTIC"
                ],
                [
                  4,
                  "ITECH SOLUCOES LTDA"
                ],
                [
                  4,
                  "SPECTRUM LINE PRESTACAO DE SERVICOS ELETRO-ELETRONICOS LTDA - EPP"
                ],
                [
                  4,
                  "NUCLEO ESTUDOS GENERO/UNICAMP"
                ],
                [
                  4,
                  "PRO REITORIA PESQUISA POS-GRADUACAO EXTENSAO/PUCCAMPINAS"
                ],
                [
                  4,
                  "AL7 SOLUCOES AO ALUMINIO LTDA ME"
                ],
                [
                  4,
                  "CENTRO CIENCIAS SOCIAIS APLICADAS/UFS"
                ],
                [
                  4,
                  "50.211.381 INOVA SIMPLES (I.S.)"
                ],
                [
                  4,
                  "CENTRO PLURIDISCIPLINAR PESQ QUIMICAS BIOLOGICAS AGRICOLAS/UNICAMP"
                ],
                [
                  4,
                  "NATCROM SOLUCOES SUSTENTAVEIS LTDA"
                ],
                [
                  4,
                  "ORBI SERVICOS DE INTERNET EIRELI"
                ],
                [
                  4,
                  "CENTRO UNIVERSITARIO FACULDADES INTEGRADAS OURINHOS/FEMM"
                ],
                [
                  4,
                  "52.580.092 INOVA SIMPLES (I.S.)"
                ],
                [
                  4,
                  "PRO REITORIA PESQUISA POS GRADUACAO/PUCCAMPINAS"
                ],
                [
                  4,
                  "52.864.792 FABIANE TEIXEIRA DE JESUS"
                ],
                [
                  4,
                  "SOLUCOES E INSTRUMENTACOES AVANCADAS LTDA"
                ],
                [
                  4,
                  "CENTRO MULTIDISCIPLINAR INVESTIGACAO BIOLOGICA/UNICAMP"
                ],
                [
                  4,
                  "BALTIERE INDUSTRIA COMERCIO EXPORTACAO E IMPORTACAO LTDA"
                ],
                [
                  4,
                  "FAC CIENCIAS AGRARIAS/UNOESTE"
                ],
                [
                  4,
                  "BLATRON TECNOLOGIA LTDA"
                ],
                [
                  4,
                  "PRO REITORIA PESQUISA POS GRADUACAO/UPM"
                ],
                [
                  4,
                  "FAC DIREITO RIBEIRAO PRETO/USP"
                ],
                [
                  4,
                  "CENTRO INFORMATICA/UFPE"
                ],
                [
                  4,
                  "CAMPUS MATAO/IFSP"
                ],
                [
                  4,
                  "SUBITER DIAGNOSTICOS POR IMAGEM LTDA"
                ],
                [
                  3,
                  "STHENOS INOVACOES EM SAUDE LTDA"
                ],
                [
                  3,
                  "PROTECH PESQUISA E DESENVOLVIMENTO LTDA"
                ],
                [
                  3,
                  "ENDLESS GREEN TECHNOLOGY LTDA"
                ],
                [
                  3,
                  "ONCODATA SOLUCOES TECNOLOGICAS LTDA"
                ],
                [
                  3,
                  "SMART CONSULTORIA AGRONOMICA E SERVICOS AGRICOLAS LTDA"
                ],
                [
                  3,
                  "MLA SUPRIMENTOS MEDICOS LTDA"
                ],
                [
                  3,
                  "HUNA LTDA"
                ],
                [
                  3,
                  "RTM INFRAESTRUTURA EM TECNOLOGIA DA INFORMACAO EIRELI"
                ],
                [
                  3,
                  "BRAZIL BEEF QUALITY LTDA - ME"
                ],
                [
                  3,
                  "ORBTY SOLUCOES AMBIENTAIS E ENGENHARIA LTDA"
                ],
                [
                  3,
                  "WETTERLAB LTDA"
                ],
                [
                  3,
                  "CENTRO CIENCIAS TECNOLOGICAS/UNIFOR"
                ],
                [
                  3,
                  "CENTRO TECNOLOGICO/UFES"
                ],
                [
                  3,
                  "FAC GRAN TIETE/IERT"
                ],
                [
                  3,
                  "MAGNITUD DESENVOLVIMENTO DE TALENTOS LTDA"
                ],
                [
                  3,
                  "JOAO MARCELO ROBAZZI BIGNELLI VALENTE AGUIAR 33617689850"
                ],
                [
                  3,
                  "FAC CIENCIAS SAUDE BARRETOS PAULO PRATA/FACISB"
                ],
                [
                  3,
                  "BYMYCELL INOVA SIMPLES LTDA"
                ],
                [
                  3,
                  "ESC ENFERMAGEM/USP"
                ],
                [
                  3,
                  "DANIEL SILVA ANTONELO PESQUISA E DESENVOLVIMENTO CIENTIFICO"
                ],
                [
                  3,
                  "NUCLEO ESTUDOS POLITICAS PUBLICAS/UNICAMP"
                ],
                [
                  3,
                  "HARPIA HEALTH SOLUTIONS LTDA"
                ],
                [
                  3,
                  "CAMPUS CURITIBA/UTFPR"
                ],
                [
                  3,
                  "INST RADIOLOGIA HOSPITAL CLINICAS SAO PAULO/SSSP"
                ],
                [
                  3,
                  "SOUZA P&D FARMACEUTICO LTDA"
                ],
                [
                  3,
                  "HI SOLUCOES EM SAUDE LTDA"
                ],
                [
                  3,
                  "PAULA C DOS SANTOS SUPORTE TECNICO E DESENVOLVIMENTO DE SISTEMAS LTD"
                ],
                [
                  3,
                  "FINDME TECNOLOGIA LTDA"
                ],
                [
                  3,
                  "ISGAME INTERNATIONAL SCHOOL OF GAME LTDA"
                ],
                [
                  3,
                  "FAC COMPUTACAO INFORMATICA/UPM"
                ],
                [
                  3,
                  "INST CRIANCA/SSSP"
                ],
                [
                  3,
                  "FAC TECNOLOGIA SOROCABA/CEETPS"
                ],
                [
                  3,
                  "DOROTH INDUSTRIA COMERCIO E SERVICOS DE INFORMACAO LTDA"
                ],
                [
                  3,
                  "3DTIME SOLUCOES TRIDIMENSIONAIS LTDA ME"
                ],
                [
                  3,
                  "42.916.449 ANGELA FAUSTINO JOZALA"
                ],
                [
                  3,
                  "DEFENSE FERTILIZER LTDA"
                ],
                [
                  3,
                  "FAC FILOSOFIA COMUNICACAO LETRAS ARTES/PUCSP"
                ],
                [
                  3,
                  "INST NACIONAL TELECOMUNICACOES/FINATEL"
                ],
                [
                  3,
                  "INST SAUDE/SSSP"
                ],
                [
                  3,
                  "INST FISICA/UFF"
                ],
                [
                  3,
                  "ECOTRACE TECNOLOGIA DA INFORMACAO S A"
                ],
                [
                  3,
                  "INST CIENCIAS ENGENHARIA ITAPEVA/UNESP"
                ],
                [
                  3,
                  "CAMPUS SAO ROQUE/IFSP"
                ],
                [
                  3,
                  "45.993.313 INOVA SIMPLES (I.S.)"
                ],
                [
                  3,
                  "AGROBEE SOLUCOES EM POLINIZACAO E SUSTENTABILIDADE LTDA"
                ],
                [
                  3,
                  "CENTRO PESQ METEOROLOGICAS CLIMATICAS APLICADAS AGRICULTURA/UNICAMP"
                ],
                [
                  3,
                  "SUPPLY COMERCIO DE PRODUTOS QUIMICOS LTDA"
                ],
                [
                  3,
                  "SYNBD PESQUISA DESENVOLVIMENTO E PRODUCAO DE INSUMOS FARMACEUTICOS"
                ],
                [
                  3,
                  "RIZOBIOMA BRASIL TECNOLOGIA MICROBIANA LTDA"
                ],
                [
                  2,
                  "AURHORA ANALISES QUIMICAS LTDA"
                ],
                [
                  2,
                  "CAMPUS ITAPETININGA/IFSP"
                ],
                [
                  2,
                  "IDEELAB BIOTECNOLOGIA S/A"
                ],
                [
                  2,
                  "BLOX - SISTEMA GAMIFICADO DE EDUCACAO POR COMPETENCIA LTDA"
                ],
                [
                  2,
                  "INST CENTRO PESQUISAS SAO LEOPOLDO MANDIC/SLMANDIC"
                ],
                [
                  2,
                  "PATRICIA MILANO - ME"
                ],
                [
                  2,
                  "FAC COMPUTACAO/UFU"
                ],
                [
                  2,
                  "INST NEUROCIENCIAS COMPORTAMENTO/INEC"
                ],
                [
                  2,
                  "CAROLINA CINTO DE MORAES 36924453856"
                ],
                [
                  2,
                  "IN SITU TERAPIA CELULAR LTDA"
                ],
                [
                  2,
                  "INST INFORMATICA/UFG"
                ],
                [
                  2,
                  "NAIAD DESENVOLVIMENTO COMPUTACIONAL DE FARMACOS LTDA"
                ],
                [
                  2,
                  "VETRA PESQUISA DESENVOLVIMENTO PRODUTOS CERAMICOS DE ALTA TECNOLOGIA"
                ],
                [
                  2,
                  "EMBRAPA MEIO AMBIENTE/EMBRAPA"
                ],
                [
                  2,
                  "FAC ECONOMIA ADMINISTRACAO CONTABILIDADE RIBEIRAO PRETO/USP"
                ],
                [
                  2,
                  "BIOBREYER PESQUISA E DESENVOLVIMENTO CIENTIFICO LTDA"
                ],
                [
                  2,
                  "SANTA MARTHA AGRO LTDA - ME"
                ],
                [
                  2,
                  "SIGRIA SOLUCOES EM INVESTIMENTOS E EMPRISTIMOS RURAIS LTDA"
                ],
                [
                  2,
                  "F J V DA SILVA TECNOLOGIA INFORMACAO LTDA"
                ],
                [
                  2,
                  "DRC ADMINISTRACAO TREINAMENTO E CONSULTORIA LTDA"
                ],
                [
                  2,
                  "NAZARE & PETRONIO PESQ DESENV EXPERIMENTAL CIENCIAS FISICAS NATURAIS"
                ],
                [
                  2,
                  "OPTARIUM COMERCIO DE ARTIGOS DE OPTICA EIRELI - ME"
                ],
                [
                  2,
                  "CONNECTING BLOCKS CONSULTORIA LTDA"
                ],
                [
                  2,
                  "HUMANIZADAS DESENVOLVIMENTO DE SOFTWARE LTDA"
                ],
                [
                  2,
                  "TERRA AZUL TECNOLOGIA DE POLIMEROS NATURAIS LTDA"
                ],
                [
                  2,
                  "LIVING OUT LABORATORIO DE TESTES CELULARES IN VITRO LTDA"
                ],
                [
                  2,
                  "METEOIA DATASCIENCE LTDA"
                ],
                [
                  2,
                  "BIOTECH BUSINESS BIOTECHNOLOGY SOLUTIONS LTDA"
                ],
                [
                  2,
                  "SOFIEN SOLUCOES TECNOLOGICAS PARA AGROINDUSTRIA LTDA"
                ],
                [
                  2,
                  "CENTRO DE TREINAMENTO E INOVACAO EM BIOFABRICACAO 3D LTDA"
                ],
                [
                  2,
                  "INNANO TECNOLOGIA LTDA"
                ],
                [
                  2,
                  "SLEEPUP TECNOLOGIA EM SAUDE LTDA"
                ],
                [
                  2,
                  "UNIV SAO FRANCISCO CAMPUS ITATIBA/USF"
                ],
                [
                  2,
                  "INVENT BIOTECNOLOGIA LTDA ME"
                ],
                [
                  2,
                  "BIO.INN LTDA"
                ],
                [
                  2,
                  "VIGILANTES DO SONO QUALIDADE DE VIDA E TECNOLOGIA LTDA"
                ],
                [
                  2,
                  "PROTOLAB LABORATORIO DE PROPRIEDADES TERMOFISICAS PROTOTIPACAO LTDA"
                ],
                [
                  2,
                  "TIAGO MILANIN 33733312856"
                ],
                [
                  2,
                  "UNIDADE MOOCA/USJT"
                ],
                [
                  2,
                  "CENTRO ESTUDOS OPINIAO PUBLICA/UNICAMP"
                ],
                [
                  2,
                  "FAC CIENCIAS SOCIAIS APLICADAS/UFLA"
                ],
                [
                  2,
                  "SINAPSIS INOVACAO EM ENERGIA SS LTDA"
                ],
                [
                  2,
                  "HOSP BENEFICENCIA PORTUGUESA SAO PAULO/RBAPB"
                ],
                [
                  2,
                  "LUPULO TROPICAL CONSULTORIA E PESQUISA LTDA"
                ],
                [
                  2,
                  "CAMPUS OSASCO/UNIFESP"
                ],
                [
                  2,
                  "ESC PAULISTA ENFERMAGEM/UNIFESP"
                ],
                [
                  2,
                  "EPL EMPRESA PRODUTORA DE INOVACOES TECNOLOGICAS LTDA"
                ],
                [
                  2,
                  "TRAPA CAMERA EQUIPAMENTOS ELETRONICOS PARA PRESERVAGCO DA FAUNA LTDA"
                ],
                [
                  2,
                  "CAMPUS SAO CARLOS/IFSP"
                ],
                [
                  2,
                  "DOM ROCK SERVICOS EM TECNOLOGIA S A"
                ],
                [
                  2,
                  "ESC ECONOMIA NEGOCIOS/PUCCAMPINAS"
                ],
                [
                  2,
                  "PRO REITORIA POS GRADUACAO PESQUISA/UNIFESP"
                ],
                [
                  2,
                  "BIOMONETIZE - VALORACAO E MONETIZACAO DE SERVICOS AMBIENTAIS LTDA"
                ],
                [
                  2,
                  "MULTISCALE SOLUTIONS TECNOLOGIA E CONSULTORIA LTDA"
                ],
                [
                  2,
                  "CENTRO CIENCIAS NATUREZA/UFPI"
                ],
                [
                  2,
                  "GENOTYPING LABORATORIO DE BIOTECNOLOGIA LTDA"
                ],
                [
                  2,
                  "MICROGENE LTDA"
                ],
                [
                  2,
                  "SC CONDI ASSESSORIA INDUSTRIAL"
                ],
                [
                  2,
                  "ESC CIENCIAS AGRARIAS/UFLA"
                ],
                [
                  2,
                  "FAC CIENCIAS SOCIAIS/PUCSP"
                ],
                [
                  2,
                  "GEN&VITA INOVA SIMPLES (I.S.)"
                ],
                [
                  2,
                  "AGRIO TECNOLOGIA LTDA"
                ],
                [
                  2,
                  "CENTRO CIENCIAS/UFC"
                ],
                [
                  2,
                  "RENAFLORA RECURSOS NATURAIS INOVA SIMPLES (I.S.)"
                ],
                [
                  2,
                  "VILLAS BOAS & LOPES PESQUISA EXPERIMENTAL LTDA"
                ],
                [
                  2,
                  "INST PASTEUR SAO PAULO/IPSP"
                ],
                [
                  2,
                  "FAC EDUCACAO FISICA/UNICAMP"
                ],
                [
                  2,
                  "PRO REITORIA PESQUISA POS GRADUACAO/UNITAU"
                ],
                [
                  2,
                  "KRABS DESENVOLVIMENTO EM BIOTECNOLOGIA LTDA"
                ],
                [
                  2,
                  "ASSOCIACAO FUNDO INCENTIVO PESQUISA/AFIP"
                ],
                [
                  2,
                  "MIRSCIENCE THERAPEUTICS SERVICOS DE PESQUISA E DESENVOLVIMENTO LTDA"
                ],
                [
                  2,
                  "BRAZILIAN NANO FEED PESQUISA E DESENVOLVIMENTO DE ADITIVOS LTDA"
                ],
                [
                  2,
                  "ALEXANDRE GRELUK SZYKMAN 38040489865"
                ],
                [
                  2,
                  "BIOTECHNO SCIENCE FARMACEUTICA"
                ],
                [
                  2,
                  "PRO REITORIA POS GRADUACAO PESQUISA/USCS"
                ],
                [
                  2,
                  "FISIOATUAL COMERCIO ATACADISTA EQUIPAMENTOS MEDICO HOSPITALARES LTDA"
                ],
                [
                  2,
                  "T DE MORAES ALVES ARQUITETURA"
                ],
                [
                  2,
                  "LINKAGES DESENVOLVIMENTO EMPRESARIAL LTDA"
                ],
                [
                  1,
                  "BIOATIVA PESQUISAS E COMPOSTOS BIOATIVOS LTDA"
                ],
                [
                  1,
                  "BSV ROBOTICS LTDA"
                ],
                [
                  1,
                  "ESTACAO EXPERIMENTAL AGRONEGOCIO BEBEDOURO/FUPAB"
                ],
                [
                  1,
                  "SOLUCOES TECNOLOGICAS PARA O APERFEICOAMENTO DA ACADEMIA LTDA"
                ],
                [
                  1,
                  "RELOAD HEALTH DEVICES LTDA"
                ],
                [
                  1,
                  "BRASILBIOTEC - PESQUISA E DESENVOLVIMENTO LTDA"
                ],
                [
                  1,
                  "MICROBIOMEX BIOTECNOLOGIA E SOLUCOES MICROBIANAS LTDA"
                ],
                [
                  1,
                  "DALLAS AUTONOMUS LTDA"
                ],
                [
                  1,
                  "FAZ VERDE SOLUCOES AMBIENTAIS LTDA"
                ],
                [
                  1,
                  "INFOPRECOS S A"
                ],
                [
                  1,
                  "GOMEZ & GOMEZ LTDA - ME"
                ],
                [
                  1,
                  "NOCK - PESQUISA E DESENVOLVIMENTO DE EQUIPAMENTOS ESTERILIZACAO LTDA"
                ],
                [
                  1,
                  "NEXUS CAPITAL LTDA"
                ],
                [
                  1,
                  "CAMPUS SOROCABA/IFSP"
                ],
                [
                  1,
                  "NUCLEO INTERDISCIPLINAR PESQUISAS TEATRAIS/UNICAMP"
                ],
                [
                  1,
                  "INST TECNOLOGIA/UFPA"
                ],
                [
                  1,
                  "CAMPUS BRAGANCA PAULISTA/IFSP"
                ],
                [
                  1,
                  "DSMA DESENVOLVIMENTO SUSTENTAVEL E MONITORAMENTO AMBIENTAL LTDA"
                ],
                [
                  1,
                  "CLARITY HEALTHCARE DESENVOLVIMENTO DE SOFTWARE LTDA"
                ],
                [
                  1,
                  "ALCHEMYPET MEDICINA DIAGNOSTICA VETERINARIA LTDA"
                ],
                [
                  1,
                  "MARZIEH KADIVAR 24096777897"
                ],
                [
                  1,
                  "NOVO GAS PROJETOS DE ENERGIA RENOVAVEL LTDA"
                ],
                [
                  1,
                  "AGRINANO SOLUCOES SUSTENTAVEIS LTDA"
                ],
                [
                  1,
                  "ALBERTO O FARRILL VANNINI PESSINA - ME"
                ],
                [
                  1,
                  "CAMPUS BIRIGUI/IFSP"
                ],
                [
                  1,
                  "FAC ARQUITETURA URBANISMO/UPM"
                ],
                [
                  1,
                  "MONERA AGROCENCIA INOVA SIMPLES (I.S)"
                ],
                [
                  1,
                  "FAC SESI-SP EDUCACAO/SESI"
                ],
                [
                  1,
                  "CAMPUS JACAREI/IFSP"
                ],
                [
                  1,
                  "IMUNODOT - INDUSTRIA E PESQUISA DE PRODUTOS PARA DIAGNOSTICO LTDA-ME"
                ],
                [
                  1,
                  "GUSTAVO TRINDADE VALIO 35540175824"
                ],
                [
                  1,
                  "ESC SUPERIOR PROPAGANDA MARKETING SAO PAULO/AESPM"
                ],
                [
                  1,
                  "52.610.027 ARYANNE RODRIGUES DE LIMA COSTA"
                ],
                [
                  1,
                  "CENTRO TECNICO CIENTIFICO/PUCRIO"
                ],
                [
                  1,
                  "ESC POLITECNICA/PUCCAMPINAS"
                ],
                [
                  1,
                  "FLUXOFARMA PESQUISA E DESENVOLVIMENTO LTDA"
                ],
                [
                  1,
                  "CENTRO TECNOLOGIA INFORMACAO RENATO ARCHER/MCTI"
                ],
                [
                  1,
                  "UP BIOPRODUTOS LTDA"
                ],
                [
                  1,
                  "INST MUNICIPAL ENSINO SUPERIOR ASSIS/FEMA"
                ],
                [
                  1,
                  "METAURA PRESTACAO DE SERVICOS DE PESQUISA E DESENVOLVIMENTO LTDA"
                ],
                [
                  1,
                  "HOSP CLINICAS PORTO ALEGRE/UFRGS"
                ],
                [
                  1,
                  "ANDRE ZUFFO BOARATTI 41807621880"
                ],
                [
                  1,
                  "REITORIA/UNIFRAN"
                ],
                [
                  1,
                  "BINAHKI SOLUCOES TECNOLOGICAS LTDA"
                ],
                [
                  1,
                  "VALORA MADEIRA CLASSIFICACAO E INSPECAO LTDA"
                ],
                [
                  1,
                  "R&R NOVABIO PESQUISA E DESENVOLVIMENTO EM CIENCIAS NATURAIS LTDA"
                ],
                [
                  1,
                  "MICROONDAS DESENVOLVIMENTO E TECNOLOGIAS LTDA"
                ],
                [
                  1,
                  "FALCAO HIGHTEC SOLUTION LTDA"
                ],
                [
                  1,
                  "AGENCIA PAULISTA TECNOLOGIA AGRONEGOCIOS/SAASP"
                ],
                [
                  1,
                  "CAMPUS AVARE/IFSP"
                ],
                [
                  1,
                  "CAMPUS SAO JOSE DOS CAMPOS/IFSP"
                ],
                [
                  1,
                  "HUMMAMI PRODUTOS ALIMENTICIOS LTDA"
                ],
                [
                  1,
                  "IMUNOTERA SOLUCOES TERAPEUTICAS LTDA"
                ],
                [
                  1,
                  "INST BIOLOGICO CAMPINAS/SAASP"
                ],
                [
                  1,
                  "TR TECNOLOGIA EM RADARES LTDA"
                ],
                [
                  1,
                  "INST CIENCIAS EXATAS NATURAIS/UFPA"
                ],
                [
                  1,
                  "52.714.182 LAIZA MARIA DE JESUS SILVA"
                ],
                [
                  1,
                  "INST ESTUDOS AVANCADOS/DCTA"
                ],
                [
                  1,
                  "FAC TECNOLOGIA ITAQUERA PROFESSOR MIGUEL REALE/CEETPS"
                ],
                [
                  1,
                  "MODELWORKS ENGENHARIA LTDA - ME"
                ],
                [
                  1,
                  "CROPMAN INOVACAO TECNOLOGICA E AGRICULTURA DIGITAL LTDA"
                ],
                [
                  1,
                  "NUCLEO INTERDISCIPLINAR COMUNICACAO SONORA/UNICAMP"
                ],
                [
                  1,
                  "ECCAPLAN - CONSULTORIA EM DESENVOLVIMENTO SUSTENTAVEL LTDA - ME"
                ],
                [
                  1,
                  "PLATAFORMA PESQUISA MEDICINA TRANSLACIONAL/FIOCRUZ"
                ],
                [
                  1,
                  "POLI INK LTDA"
                ],
                [
                  1,
                  "LINAX COMERCIO DE OLEOS ESSENCIAIS LTDA"
                ],
                [
                  1,
                  "VERDAZ GESTAO SUSTENTAVEL E CONSULTORIA AMBIENTAL LTDA"
                ],
                [
                  1,
                  "CAMPUS CARAGUATATUBA/IFSP"
                ],
                [
                  1,
                  "UNIV NOVE JULHO CAMPUS VERGUEIRO/UNINOVE"
                ],
                [
                  1,
                  "HOSP CLINICAS FACULDADE MEDICINA BOTUCATU/SSSP"
                ],
                [
                  1,
                  "INST D OR PESQUISA ENSINO SAO PAULO/IDOR"
                ],
                [
                  1,
                  "CAMPUS FERNANDOPOLIS/UB"
                ],
                [
                  1,
                  "DIRAC INOVACOES TECNOLOGICAS LTDA"
                ],
                [
                  1,
                  "ALJAVA PESQUISA E DESENVOLVIMENTO EXPERIMENTAL EM BIOTECNOLOGIA LTDA"
                ],
                [
                  1,
                  "INST AERONAUTICA ESPACO/DCTA"
                ],
                [
                  1,
                  "ANDRE ALMEIDA SILVA"
                ],
                [
                  1,
                  "THOTECH SOLUCOES & SERVICOS LTDA"
                ],
                [
                  1,
                  "SUCCI AVILA LTDA"
                ],
                [
                  1,
                  "CAMPUS GUARULHOS/IFSP"
                ],
                [
                  1,
                  "KOSMOSCIENCE CIENCIA TEC COSMETICA IMPORTACAO EXPORTACAO (FILIAL)"
                ],
                [
                  1,
                  "52.816.526 JULIO CESAR EDUARDO DE SOUZA"
                ],
                [
                  1,
                  "BUZZ FLY P&D EM ALIMENTACAO ANIMAL S A"
                ],
                [
                  1,
                  "PRO REITORIA POS GRADUACAO/UFLA"
                ],
                [
                  1,
                  "TECCER INDUSTRIA E COMERCIO DE PRODUTOS CERAMICOS LTDA"
                ],
                [
                  1,
                  "I.RAD.PARTICLE INOVA SIMPLES (I.S.)"
                ],
                [
                  1,
                  "CENTRO PESQUISA DOCUMENTACAO HISTORIA CONTEMPORANEA SAO PAULO/FGVSP"
                ],
                [
                  1,
                  "CENTRO TECNOLOGIA/UFPI"
                ],
                [
                  1,
                  "ESC LINGUAGEM COMUNICACAO/PUCCAMPINAS"
                ],
                [
                  1,
                  "CAMPUS SERTAOZINHO/IFSP"
                ],
                [
                  1,
                  "JTAG EQUIPAMENTOS MEDICOS LTDA"
                ],
                [
                  1,
                  "PRO REITORIA GRADUACAO/UFSCAR"
                ],
                [
                  1,
                  "SENSE PLUS CONSULTORIA E DESENVOLVIMENTO LTDA - ME"
                ],
                [
                  1,
                  "PRUDENCIATTI E RIBEIRO PESQUISA E DESENVOLVIMENTO LTDA"
                ],
                [
                  1,
                  "CAMPUS ALEGRETE/UNIPAMPA"
                ],
                [
                  1,
                  "NUCLEO ESTUDOS POPULACAO/UNICAMP"
                ],
                [
                  1,
                  "ICTIOLOGICA CONSULTORIA AMBIENTAL LTDA"
                ],
                [
                  1,
                  "CENTRO UNIVERSITARIO SAO CAMILO CAMPUS IPIRANGA/CUSC"
                ],
                [
                  1,
                  "MIRA PESQUISA E DESENVOLVIMENTO LTDA ME"
                ],
                [
                  1,
                  "CENTRO TECNOLOGIA/UFC"
                ],
                [
                  1,
                  "TCARBON DIAMOND IND LTDA"
                ],
                [
                  1,
                  "PRO REITORIA POS GRADUACAO/PUCSP"
                ],
                [
                  1,
                  "INST BRASILEIRO CONTROLE CANCER"
                ],
                [
                  1,
                  "CAMPUS VOTUPORANGA/IFSP"
                ]
              ],
              "datasetInfos": [],
              "dbfsResultPath": null,
              "isJsonSchema": true,
              "metadata": {},
              "overflow": false,
              "plotOptions": {
                "customPlotOptions": {},
                "displayType": "table",
                "pivotAggregation": null,
                "pivotColumns": null,
                "xColumns": null,
                "yColumns": null
              },
              "removedWidgets": [],
              "schema": [
                {
                  "metadata": "{}",
                  "name": "TOTAL",
                  "type": "\"long\""
                },
                {
                  "metadata": "{}",
                  "name": "INSTITUICAO",
                  "type": "\"string\""
                }
              ],
              "type": "table"
            }
          }
        }
      ],
      "source": [
        "#3. Qual instituição contém mais bolsistas?\n",
        "\n",
        "instituicao = spark.sql(\"SELECT COUNT(INSTITUICAO) TOTAL, INSTITUICAO FROM Bolsas GROUP BY INSTITUICAO ORDER BY TOTAL DESC\")\n",
        "display(instituicao)\n"
      ]
    },
    {
      "cell_type": "markdown",
      "metadata": {
        "application/vnd.databricks.v1+cell": {
          "cellMetadata": {},
          "inputWidgets": {},
          "nuid": "c9427f05-0e25-493a-a50a-929471d45518",
          "showTitle": false,
          "title": ""
        },
        "id": "TTy1n5QiVDqD"
      },
      "source": [
        "Para saber qual instituição contém mais bolsistas (Questão 3) foi feita uma pesquisa listando em ordem decrescente a soma de cada ocorrência de recebimento de bolsa para cada instituição. Portanto, a resposta para essa questão é o \"Instituto de Ciencias Biomédicas da USP\" com 543 bolsas. É importante salientar que com a busca criada pode-se também ter o valor do número de bolsas total para cada instituição listada no atual BD."
      ]
    },
    {
      "cell_type": "code",
      "execution_count": null,
      "metadata": {
        "application/vnd.databricks.v1+cell": {
          "cellMetadata": {
            "byteLimit": 2048000,
            "rowLimit": 10000
          },
          "inputWidgets": {},
          "nuid": "9ab48784-7ea1-4dde-a8b2-a44731ca6065",
          "showTitle": false,
          "title": ""
        },
        "id": "VzgQpBGnVDqE",
        "outputId": "01a59a76-06a3-4102-a600-2a56228920ba"
      },
      "outputs": [
        {
          "output_type": "display_data",
          "data": {
            "text/html": [
              "<style scoped>\n",
              "  .table-result-container {\n",
              "    max-height: 300px;\n",
              "    overflow: auto;\n",
              "  }\n",
              "  table, th, td {\n",
              "    border: 1px solid black;\n",
              "    border-collapse: collapse;\n",
              "  }\n",
              "  th, td {\n",
              "    padding: 5px;\n",
              "  }\n",
              "  th {\n",
              "    text-align: left;\n",
              "  }\n",
              "</style><div class='table-result-container'><table class='table-result'><thead style='background-color: white'><tr><th>TOTAL</th><th>INSTITUICAO</th></tr></thead><tbody><tr><td>2116715.69</td><td>INST CIENCIAS BIOMEDICAS/USP</td></tr><tr><td>2112722.59</td><td>FAC FILOSOFIA LETRAS CIENCIAS HUMANAS/USP</td></tr><tr><td>1582853.77</td><td>FAC MEDICINA RIBEIRAO PRETO/USP</td></tr><tr><td>1567997.67</td><td>INST BIOLOGIA/UNICAMP</td></tr><tr><td>1524479.19</td><td>CENTRO CIENCIAS EXATAS TECNOLOGIA/UFSCAR</td></tr><tr><td>1373917.46</td><td>ESC PAULISTA MEDICINA/UNIFESP</td></tr><tr><td>1360854.36</td><td>INST BIOCIENCIAS/USP</td></tr><tr><td>1332856.65</td><td>INST QUIMICA/USP</td></tr><tr><td>1266610.87</td><td>ESC SUPERIOR AGRICULTURA LUIZ DE QUEIROZ/USP</td></tr><tr><td>1225413.02</td><td>INST QUIMICA/UNICAMP</td></tr><tr><td>1105389.21</td><td>FAC FILOSOFIA CIENCIAS LETRAS RIBEIRAO PRETO/USP</td></tr><tr><td>1070418.43</td><td>FAC MEDICINA/USP</td></tr><tr><td>993890.19</td><td>INST FISICA SAO CARLOS/USP</td></tr><tr><td>829095.30</td><td>INST FISICA/USP</td></tr><tr><td>814063.43</td><td>CENTRO CIENCIAS BIOLOGICAS SAUDE/UFSCAR</td></tr><tr><td>755568.52</td><td>ESC POLITECNICA/USP</td></tr><tr><td>754284.13</td><td>FAC CIENCIAS FARMACEUTICAS RIBEIRAO PRETO/USP</td></tr><tr><td>749618.87</td><td>INST CIENCIAS MATEMATICAS COMPUTACAO SAO CARLOS/USP</td></tr><tr><td>749135.44</td><td>ESC ENGENHARIA SAO CARLOS/USP</td></tr><tr><td>746013.50</td><td>FAC CIENCIAS TECNOLOGIA PRESIDENTE PRUDENTE/UNESP</td></tr><tr><td>720700.59</td><td>INST QUIMICA SAO CARLOS/USP</td></tr><tr><td>685406.76</td><td>INST BUTANTAN/SSSP</td></tr><tr><td>672715.71</td><td>FAC CIENCIAS AGRARIAS VETERINARIAS JABOTICABAL/UNESP</td></tr><tr><td>663517.57</td><td>INST FILOSOFIA CIENCIAS HUMANAS/UNICAMP</td></tr><tr><td>645575.13</td><td>CENTRO EDUCACAO CIENCIAS HUMANAS/UFSCAR</td></tr><tr><td>642599.10</td><td>CENTRO NACIONAL PESQUISA ENERGIA MATERIAIS/MCTI</td></tr><tr><td>633182.26</td><td>FAC ZOOTECNIA ENGENHARIA ALIMENTOS/USP</td></tr><tr><td>614011.10</td><td>INST BIOCIENCIAS RIO CLARO/UNESP</td></tr><tr><td>612345.95</td><td>ESC FILOSOFIA LETRAS CIENCIAS HUMANAS/UNIFESP</td></tr><tr><td>606096.28</td><td>FAC CIENCIAS MEDICAS/UNICAMP</td></tr><tr><td>590558.69</td><td>CENTRO CIENCIAS NATURAIS HUMANAS/UFABC</td></tr><tr><td>553810.86</td><td>INST MATEMATICA ESTATISTICA COMPUTACAO CIENTIFICA/UNICAMP</td></tr><tr><td>550160.77</td><td>INST ASTRONOMIA GEOFISICA CIENCIAS ATMOSFERICAS/USP</td></tr><tr><td>546384.92</td><td>INST BIOCIENCIAS BOTUCATU/UNESP</td></tr><tr><td>535977.39</td><td>FAC CIENCIAS FARMACEUTICAS/USP</td></tr><tr><td>509518.47</td><td>INST MATEMATICA ESTATISTICA/USP</td></tr><tr><td>500859.38</td><td>FAC SAUDE PUBLICA/USP</td></tr><tr><td>497023.18</td><td>INST FISICA GLEB WATAGHIN/UNICAMP</td></tr><tr><td>492324.98</td><td>CENTRO ENERGIA NUCLEAR AGRICULTURA/USP</td></tr><tr><td>466223.19</td><td>FAC ENGENHARIA ALIMENTOS/UNICAMP</td></tr><tr><td>444927.33</td><td>FAC CIENCIAS APLICADAS/UNICAMP</td></tr><tr><td>418310.40</td><td>INST QUIMICA ARARAQUARA/UNESP</td></tr><tr><td>396624.56</td><td>FAC ARQUITETURA URBANISMO/USP</td></tr><tr><td>394952.79</td><td>FAC CIENCIAS FARMACEUTICAS ARARAQUARA/UNESP</td></tr><tr><td>379456.60</td><td>FAC ENGENHARIA ILHA SOLTEIRA/UNESP</td></tr><tr><td>365455.57</td><td>INST CIENCIAS AMBIENTAIS QUIMICAS FARMACEUTICAS/UNIFESP</td></tr><tr><td>365365.33</td><td>FAC CIENCIAS BAURU/UNESP</td></tr><tr><td>354559.39</td><td>FAC ENGENHARIA ELETRICA COMPUTACAO/UNICAMP</td></tr><tr><td>350512.62</td><td>ESC ADMINISTRACAO EMPRESAS SAO PAULO/FGVSP</td></tr><tr><td>339412.85</td><td>INST BIOCIENCIAS LETRAS CIENCIAS EXATAS SAO JOSE RIO PRETO/UNESP</td></tr><tr><td>333905.90</td><td>ESC COMUNICACOES ARTES/USP</td></tr><tr><td>312664.75</td><td>CENTRO ENGENHARIA MODELAGEM CIENCIAS SOCIAIS APLICADAS/UFABC</td></tr><tr><td>311168.98</td><td>INST GEOCIENCIAS/USP</td></tr><tr><td>306909.39</td><td>INST FISICA TEORICA/UNESP</td></tr><tr><td>300663.11</td><td>FAC ODONTOLOGIA ARARAQUARA/UNESP</td></tr><tr><td>294638.82</td><td>FAC ODONTOLOGIA BAURU/USP</td></tr><tr><td>286304.68</td><td>ESC ARTES CIENCIAS HUMANIDADES/USP</td></tr><tr><td>283160.61</td><td>FAC ENGENHARIA MECANICA/UNICAMP</td></tr><tr><td>279581.09</td><td>INST PSICOLOGIA/USP</td></tr><tr><td>279567.99</td><td>INST OCEANOGRAFICO/USP</td></tr><tr><td>274858.16</td><td>INST GEOCIENCIAS/UNICAMP</td></tr><tr><td>271146.32</td><td>FAC CIENCIAS LETRAS ASSIS/UNESP</td></tr><tr><td>265799.30</td><td>FAC MEDICINA VETERINARIA ZOOTECNIA/USP</td></tr><tr><td>263710.92</td><td>INST ESTUDOS LINGUAGEM/UNICAMP</td></tr><tr><td>255558.03</td><td>EMBRAPA INSTRUMENTACAO AGROPECUARIA/EMBRAPA</td></tr><tr><td>253893.42</td><td>INST CORACAO DO HOSP CLINICAS SAO PAULO/SSSP</td></tr><tr><td>251821.38</td><td>FAC ODONTOLOGIA RIBEIRAO PRETO/USP</td></tr><tr><td>249816.83</td><td>INST SAUDE SOCIEDADE/UNIFESP</td></tr><tr><td>240038.54</td><td>FAC ODONTOLOGIA PIRACICABA/UNICAMP</td></tr><tr><td>228811.73</td><td>CENTRO BIOLOGIA MOLECULAR ENGENHARIA GENETICA/UNICAMP</td></tr><tr><td>220830.29</td><td>INST CIENCIA TECNOLOGIA/UNIFESP</td></tr><tr><td>200190.50</td><td>INST ARTES/UNICAMP</td></tr><tr><td>198476.71</td><td>FAC MEDICINA BOTUCATU/UNESP</td></tr><tr><td>196285.92</td><td>INST NACIONAL PESQUISAS ESPACIAIS/MCTI</td></tr><tr><td>189411.04</td><td>INST GEOCIENCIAS CIENCIAS EXATAS RIO CLARO/UNESP</td></tr><tr><td>186876.85</td><td>CENTRO MATEMATICA COMPUTACAO COGNICAO/UFABC</td></tr><tr><td>183126.79</td><td>INST ESTUDOS AVANCADOS/USP</td></tr><tr><td>177180.31</td><td>FAC CIENCIAS LETRAS ARARAQUARA/UNESP</td></tr><tr><td>175506.46</td><td>ESC ENGENHARIA LORENA/USP</td></tr><tr><td>174621.66</td><td>INST MAR/UNIFESP</td></tr><tr><td>173408.54</td><td>FAC MEDICINA VETERINARIA ZOOTECNIA BOTUCATU/UNESP</td></tr><tr><td>171890.20</td><td>FAC CIENCIAS FARMACEUTICAS/UNICAMP</td></tr><tr><td>170276.96</td><td>FAC EDUCACAO/UNICAMP</td></tr><tr><td>167623.82</td><td>INST RELACOES INTERNACIONAIS/USP</td></tr><tr><td>165460.96</td><td>CENTRO BRASILEIRO ANALISE PLANEJAMENTO/CEBRAP</td></tr><tr><td>160004.07</td><td>FAC CIENCIAS AGRONOMICAS BOTUCATU/UNESP</td></tr><tr><td>158049.17</td><td>FUND HEMOCENTRO RIBEIRAO PRETO/SSSP</td></tr><tr><td>156042.82</td><td>INST COMPUTACAO/UNICAMP</td></tr><tr><td>151966.59</td><td>INST CIENCIA TECNOLOGIA SAO JOSE CAMPOS/UNESP</td></tr><tr><td>145756.39</td><td>FAC ENGENHARIA GUARATINGUETA/UNESP</td></tr><tr><td>144116.25</td><td>INSPER INST ENSINO PESQUISA/INSPER</td></tr><tr><td>143246.72</td><td>INST BIOCIENCIAS CAMPUS LITORAL PAULISTA/UNESP</td></tr><tr><td>143079.88</td><td>INST AGRONOMICO CAMPINAS/SAASP</td></tr><tr><td>134351.22</td><td>FAC ODONTOLOGIA/USP</td></tr><tr><td>133860.65</td><td>FAC ENGENHARIA QUIMICA/UNICAMP</td></tr><tr><td>130486.72</td><td>MUSEU ZOOLOGIA/USP</td></tr><tr><td>126443.05</td><td>MUSEU ARQUEOLOGIA ETNOLOGIA/USP</td></tr><tr><td>123611.41</td><td>CENTRO HEMATOLOGIA HEMOTERAPIA HEMOCENTRO/UNICAMP</td></tr><tr><td>120884.71</td><td>HOSP CANCER BARRETOS/FP</td></tr><tr><td>119925.14</td><td>FAC ODONTOLOGIA ARACATUBA/UNESP</td></tr><tr><td>118824.93</td><td>INST PESQUISAS ENERGETICAS NUCLEARES/SDE</td></tr><tr><td>117701.98</td><td>INST ISRAELITA ENSINO PESQUISA ALBERT EINSTEIN/SBIBAE</td></tr><tr><td>114991.35</td><td>CENTRO LOGICA EPISTEMOLOGIA HISTORIA CIENCIA/UNICAMP</td></tr><tr><td>112195.94</td><td>FAC ECONOMIA ADMINISTRACAO CONTABILIDADE ATUARIA/USP</td></tr><tr><td>110157.15</td><td>FAC TECNOLOGIA/UNICAMP</td></tr><tr><td>107692.83</td><td>ESC EDUCACAO FISICA ESPORTE RIBEIRAO PRETO/USP</td></tr><tr><td>106856.69</td><td>ESC ENFERMAGEM RIBEIRAO PRETO/USP</td></tr><tr><td>104268.85</td><td>INST ARQUITETURA URBANISMO SAO CARLOS/USP</td></tr><tr><td>101909.03</td><td>CENTRO CIENCIAS BIOLOGICAS SAUDE/UPM</td></tr><tr><td>100761.44</td><td>FAC EDUCACAO/USP</td></tr><tr><td>97574.64</td><td>CENTRO CIENCIAS AGRARIAS/UFSCAR</td></tr><tr><td>96291.28</td><td>INST PESQUISAS AMBIENTAIS/SIMA</td></tr><tr><td>95429.93</td><td>FAC CIENCIAS HUMANAS SOCIAIS FRANCA/UNESP</td></tr><tr><td>93856.15</td><td>DIVISAO CIENCIAS FUNDAMENTAIS/ITA</td></tr><tr><td>91870.35</td><td>ESC ENGENHARIA/UPM</td></tr><tr><td>89217.94</td><td>INST ZOOTECNIA/SAASP</td></tr><tr><td>88749.01</td><td>A C CAMARGO CANCER CENTER/FAP</td></tr><tr><td>88213.54</td><td>INST CANCER ESTADO SAO PAULO/SSSP</td></tr><tr><td>86467.45</td><td>CENTRO BIOLOGIA MARINHA/USP</td></tr><tr><td>85306.43</td><td>HOSP UNIVERSITARIO/USP</td></tr><tr><td>82516.89</td><td>FAC FILOSOFIA CIENCIAS MARILIA/UNESP</td></tr><tr><td>82509.85</td><td>ESC DIREITO SAO PAULO/FGVSP</td></tr><tr><td>81225.12</td><td>NUCLEO ESTUDOS PESQUISAS AMBIENTAIS/UNICAMP</td></tr><tr><td>79771.31</td><td>INST ARTES SAO PAULO/UNESP</td></tr><tr><td>79573.10</td><td>FAC ARQUITETURA ARTES COMUNICACAO DESIGN BAURU/UNESP</td></tr><tr><td>79546.13</td><td>HOSP CLINICAS SAO PAULO/SSSP</td></tr><tr><td>77296.41</td><td>EMBRAPA PECUARIA SUDESTE/EMBRAPA</td></tr><tr><td>74487.54</td><td>INST TECNOLOGIA ALIMENTOS/SAASP</td></tr><tr><td>73570.67</td><td>HOSP SIRIO LIBANES/SBSHSL</td></tr><tr><td>73100.83</td><td>NUCLEO DESENVOLVIMENTO CRIATIVIDADE/UNICAMP</td></tr><tr><td>70393.85</td><td>FAC ENGENHARIA BAURU/UNESP</td></tr><tr><td>69715.44</td><td>INST CIENCIA TECNOLOGIA SOROCABA/UNESP</td></tr><tr><td>69372.87</td><td>ESC EDUCACAO FISICA ESPORTE/USP</td></tr><tr><td>68096.59</td><td>EMBRAPA AGRICULTURA DIGITAL/EMBRAPA</td></tr><tr><td>67912.22</td><td>INST PSIQUIATRIA/SSSP</td></tr><tr><td>63054.26</td><td>FAC MEDICINA SAO JOSE RIO PRETO/SDE</td></tr><tr><td>62515.70</td><td>MATCH IT SERVICOS DE TECNOLOGIA LTDA</td></tr><tr><td>62206.30</td><td>INST MACKENZIE PESQUISAS GRAFENO NANOTECNOLOGIAS/UPM</td></tr><tr><td>61127.11</td><td>DIVISAO ENGENHARIA AERONAUTICA/ITA</td></tr><tr><td>60772.00</td><td>TECH INOVACOES TECNOLOGICAS PARA A AGROPECUARIA S A (FILIAL)</td></tr><tr><td>59247.79</td><td>INST FARMACOLOGIA BIOLOGIA MOLECULAR/UNIFESP</td></tr><tr><td>58568.80</td><td>INST ESTUDOS BRASILEIROS/USP</td></tr><tr><td>58561.90</td><td>INST PESCA/SAASP</td></tr><tr><td>57863.00</td><td>FAC DIREITO/USP</td></tr><tr><td>57570.00</td><td>MUSEU ARTE CONTEMPORANEA/USP</td></tr><tr><td>57432.78</td><td>DIVISAO ENGENHARIA MECANICA/ITA</td></tr><tr><td>55551.10</td><td>NUCLEO INTERDISCIPLINAR PLANEJAMENTO ENERGETICO/UNICAMP</td></tr><tr><td>54494.20</td><td>B.NANO SOLUCOES TECNOLOGICAS LTDA</td></tr><tr><td>54382.20</td><td>INST CIENCIAS EXATAS/UFMG</td></tr><tr><td>54248.82</td><td>ESC ECONOMIA SAO PAULO/FGVSP</td></tr><tr><td>53907.34</td><td>CENTRO CIENCIAS GESTAO TECNOLOGIA/UFSCAR</td></tr><tr><td>53714.10</td><td>FUND ONCOCENTRO SAO PAULO/SSSP</td></tr><tr><td>53067.71</td><td>CENTRO ESTUDOS AMBIENTAIS/UNESP</td></tr><tr><td>52497.15</td><td>DIVISAO CIENCIA COMPUTACAO/ITA</td></tr><tr><td>52202.00</td><td>CENTRO CIENCIAS TECNOLOGIAS SUSTENTABILIDADE/UFSCAR</td></tr><tr><td>52074.24</td><td>CENTRO AQUICULTURA JABOTICABAL/UNESP</td></tr><tr><td>51671.60</td><td>DIVEGEN GESTAO E TRATAMENTO DE DADOS LTDA</td></tr><tr><td>51535.00</td><td>MUSEU PAULISTA/USP</td></tr><tr><td>50179.80</td><td>COR SYNC DESENVOLVIMENTO DE SISTEMAS LTDA</td></tr><tr><td>49536.78</td><td>FAC CIENCIAS ENGENHARIA TUPA/UNESP</td></tr><tr><td>49416.60</td><td>PICSEL SOLUCOES EM GERENCIAMENT LTDA</td></tr><tr><td>48344.24</td><td>INST PESQUISA BIOENERGIA UNESP/UNESP</td></tr><tr><td>47581.11</td><td>PRO REITORIA POS GRADUACAO PESQUISA EXTENSAO INOVACAO/UNISO</td></tr><tr><td>46789.07</td><td>INST ENERGIA AMBIENTE/USP</td></tr><tr><td>44974.60</td><td>KANDER SERVICOS ONLINE E INTERMEDIACAO DE EDUCACAO E CONTEUDO LTDA</td></tr><tr><td>44511.44</td><td>UNIV ARARAQUARA/UNIARA</td></tr><tr><td>44357.60</td><td>FLORADA TECH LTDA</td></tr><tr><td>44136.37</td><td>PRO REITORIA POS GRADUACAO PESQUISA/ITA</td></tr><tr><td>43728.86</td><td>CENTRO INOVACAO UNIVERSIDADE SAO PAULO/USP</td></tr><tr><td>42085.80</td><td>593ICAN SOLUCOES EM IMPRESSAO 3D LTDA</td></tr><tr><td>40991.40</td><td>FAC CIENCIAS MEDICAS SAUDE/PUCSP</td></tr><tr><td>40899.90</td><td>INST PESQUISA DESENVOLVIMENTO/UNIVAP</td></tr><tr><td>40608.38</td><td>FAC ENGENHARIA CIVIL ARQUITETURA URBANISMO/UNICAMP</td></tr><tr><td>40286.55</td><td>FAC CIENCIAS HUMANAS SAUDE/PUCSP</td></tr><tr><td>39829.57</td><td>CENTRO CIENCIAS NATUREZA/UFSCAR</td></tr><tr><td>38385.41</td><td>CENTRO ESTUDOS ENERGIA PETROLEO/UNICAMP</td></tr><tr><td>37287.20</td><td>UNIV SAO FRANCISCO CAMPUS BRAGANCA PAULISTA/USF</td></tr><tr><td>36925.20</td><td>SPECTRUM LINE PRESTACAO DE SERVICOS ELETRO-ELETRONICOS LTDA - EPP</td></tr><tr><td>35655.80</td><td>SOLUCOES E INSTRUMENTACOES AVANCADAS LTDA</td></tr><tr><td>35521.98</td><td>CENTRO CIENCIAS HUMANAS BIOLOGICAS/UFSCAR</td></tr><tr><td>35444.04</td><td>PRO REITORIA POS GRADUACAO PESQUISA/UNICSUL</td></tr><tr><td>35321.40</td><td>INST POLITICAS PUBLICAS RELACOES INTERNACIONAIS/UNESP</td></tr><tr><td>34753.70</td><td>CENTRO NACIONAL MONITORAMENTO ALERTAS DESASTRES NATURAIS/MCTI</td></tr><tr><td>34569.60</td><td>NUCLEO COMPUTACAO CIENTIFICA/UNESP</td></tr><tr><td>33780.65</td><td>REDE NACIONAL ENSINO PESQUISA/MCTIC</td></tr><tr><td>33073.20</td><td>FORZA COMPOSITES TECNOLOGIA EM MATERIAIS COMPOSITOS LTDA</td></tr><tr><td>32256.40</td><td>KERSYS DESENVOLVIMENTO DE SISTEMAS LTDA ME</td></tr><tr><td>31764.60</td><td>RIZOBIOMA BRASIL TECNOLOGIA MICROBIANA LTDA</td></tr><tr><td>30112.02</td><td>CENTRO CIENCIAS BIOLOGICAS SAUDE/UNICSUL</td></tr><tr><td>30074.86</td><td>CT INFANTIL INVESTIGACOES HEMATOLOGICAS DR DOMINGOS BOLDRINI/CIB</td></tr><tr><td>29993.74</td><td>PRO REITORIA PESQUISA POS-GRADUACAO EXTENSAO/PUCCAMPINAS</td></tr><tr><td>29509.90</td><td>NUCLEO ESTUDOS GENERO/UNICAMP</td></tr><tr><td>29316.10</td><td>UNIV SAO FRANCISCO CAMPUS CAMPINAS/USF</td></tr><tr><td>29238.70</td><td>PRO REITORIA ACADEMICA CAMPUS SEDE/UMC</td></tr><tr><td>29225.80</td><td>PAULA C DOS SANTOS SUPORTE TECNICO E DESENVOLVIMENTO DE SISTEMAS LTD</td></tr><tr><td>29026.00</td><td>SANTA SEMENTE LTDA</td></tr><tr><td>28871.20</td><td>ORBI SERVICOS DE INTERNET EIRELI</td></tr><tr><td>28746.90</td><td>SUPPLY COMERCIO DE PRODUTOS QUIMICOS LTDA</td></tr><tr><td>27723.70</td><td>INST PASTEUR SAO PAULO/SSSP</td></tr><tr><td>27227.58</td><td>FAC CIENCIAS MEDICAS SANTA CASA SAO PAULO/FAVC</td></tr><tr><td>26889.02</td><td>FAC CIENCIAS AGRARIAS TECNOLOGICAS DRACENA/UNESP</td></tr><tr><td>26654.40</td><td>SUBITER DIAGNOSTICOS POR IMAGEM LTDA</td></tr><tr><td>26208.10</td><td>HUNA LTDA</td></tr><tr><td>26201.55</td><td>HOSP CLINICAS RIBEIRAO PRETO/SSSP</td></tr><tr><td>25774.60</td><td>ESC CIENCIAS HUMANAS JURIDICAS SOCIAIS/PUCCAMPINAS</td></tr><tr><td>25304.76</td><td>PRO REITORIA POS GRADUACAO PESQUISA EXTENSAO/UNICID</td></tr><tr><td>25067.60</td><td>ISGAME INTERNATIONAL SCHOOL OF GAME LTDA</td></tr><tr><td>24864.80</td><td>AL7 SOLUCOES AO ALUMINIO LTDA ME</td></tr><tr><td>24736.09</td><td>INST NACIONAL TELECOMUNICACOES/FINATEL</td></tr><tr><td>24170.30</td><td>EMBRAPA MEIO AMBIENTE/EMBRAPA</td></tr><tr><td>23831.80</td><td>ORBTY SOLUCOES AMBIENTAIS E ENGENHARIA LTDA</td></tr><tr><td>23831.80</td><td>JOAO MARCELO ROBAZZI BIGNELLI VALENTE AGUIAR 33617689850</td></tr><tr><td>23754.40</td><td>ONCODATA SOLUCOES TECNOLOGICAS LTDA</td></tr><tr><td>23682.69</td><td>ESC SUPERIOR PROPAGANDA MARKETING SAO PAULO/AESPM</td></tr><tr><td>23448.20</td><td>WETTERLAB LTDA</td></tr><tr><td>23252.16</td><td>ESC ENGENHARIA MAUA/IMT</td></tr><tr><td>22756.50</td><td>DOROTH INDUSTRIA COMERCIO E SERVICOS DE INFORMACAO LTDA</td></tr><tr><td>22178.80</td><td>RTM INFRAESTRUTURA EM TECNOLOGIA DA INFORMACAO EIRELI</td></tr><tr><td>22178.80</td><td>FINDME TECNOLOGIA LTDA</td></tr><tr><td>22010.23</td><td>PRO REITORIA ADJUNTA PESQUISA POS GRADUACAO/UNIFRAN</td></tr><tr><td>21990.97</td><td>FAC MEDICINA MARILIA/SDE</td></tr><tr><td>21968.04</td><td>SOUZA P&D FARMACEUTICO LTDA</td></tr><tr><td>21845.89</td><td>FAC ENGENHARIA AGRICOLA/UNICAMP</td></tr><tr><td>21759.80</td><td>CENTRO PLURIDISCIPLINAR PESQ QUIMICAS BIOLOGICAS AGRICOLAS/UNICAMP</td></tr><tr><td>21460.20</td><td>BRAZIL BEEF QUALITY LTDA - ME</td></tr><tr><td>21311.70</td><td>PRO REITORIA PESQUISA POS GRADUACAO/UNOESTE</td></tr><tr><td>21176.40</td><td>PATRICIA MILANO - ME</td></tr><tr><td>21176.40</td><td>SANTA MARTHA AGRO LTDA - ME</td></tr><tr><td>21176.40</td><td>METEOIA DATASCIENCE LTDA</td></tr><tr><td>21176.40</td><td>PROTOLAB LABORATORIO DE PROPRIEDADES TERMOFISICAS PROTOTIPACAO LTDA</td></tr><tr><td>21176.40</td><td>EPL EMPRESA PRODUTORA DE INOVACOES TECNOLOGICAS LTDA</td></tr><tr><td>21176.40</td><td>TRAPA CAMERA EQUIPAMENTOS ELETRONICOS PARA PRESERVAGCO DA FAUNA LTDA</td></tr><tr><td>21176.40</td><td>RENAFLORA RECURSOS NATURAIS INOVA SIMPLES (I.S.)</td></tr><tr><td>20821.80</td><td>ENDLESS GREEN TECHNOLOGY LTDA</td></tr><tr><td>20725.80</td><td>INST JO CLEMENTE/APAESP</td></tr><tr><td>20501.58</td><td>FAC CIENCIAS SOCIAIS/PUCSP</td></tr><tr><td>20467.20</td><td>52.580.092 INOVA SIMPLES (I.S.)</td></tr><tr><td>20467.20</td><td>52.864.792 FABIANE TEIXEIRA DE JESUS</td></tr><tr><td>20336.62</td><td>FAC ENGENHARIA SAO JOAO BOA VISTA/UNESP</td></tr><tr><td>20249.45</td><td>APTA REGIONAL DDD/SAASP</td></tr><tr><td>19959.20</td><td>INST ECONOMIA/UNICAMP</td></tr><tr><td>19907.00</td><td>AURHORA ANALISES QUIMICAS LTDA</td></tr><tr><td>19907.00</td><td>MULTISCALE SOLUTIONS TECNOLOGIA E CONSULTORIA LTDA</td></tr><tr><td>19907.00</td><td>AGRIO TECNOLOGIA LTDA</td></tr><tr><td>19907.00</td><td>VILLAS BOAS & LOPES PESQUISA EXPERIMENTAL LTDA</td></tr><tr><td>19831.70</td><td>CENTRO TERAPIA CELULAR MOLECULAR/UNIFESP</td></tr><tr><td>19429.57</td><td>CAMPUS SAO PAULO/IFSP</td></tr><tr><td>18916.40</td><td>BALTIERE INDUSTRIA COMERCIO EXPORTACAO E IMPORTACAO LTDA</td></tr><tr><td>18637.80</td><td>FAC CIENCIAS SOCIAIS APLICADAS/UFLA</td></tr><tr><td>18637.60</td><td>HUMANIZADAS DESENVOLVIMENTO DE SOFTWARE LTDA</td></tr><tr><td>18637.60</td><td>CENTRO DE TREINAMENTO E INOVACAO EM BIOFABRICACAO 3D LTDA</td></tr><tr><td>18278.80</td><td>ITECH SOLUCOES LTDA</td></tr><tr><td>18086.32</td><td>CENTRO UNIVERSITARIO FMABC/FUABC</td></tr><tr><td>17630.20</td><td>ESC MATEMATICA APLICADA/FGV</td></tr><tr><td>17596.20</td><td>CENTRO EDUCACAO FILOSOFIA TEOLOGIA/UPM</td></tr><tr><td>17508.10</td><td>CENTRO CIENCIAS SOCIAIS APLICADAS/UFS</td></tr><tr><td>17184.50</td><td>INST BIOLOGICO SAO PAULO/SAASP</td></tr><tr><td>17168.40</td><td>MAGNITUD DESENVOLVIMENTO DE TALENTOS LTDA</td></tr><tr><td>17168.40</td><td>BYMYCELL INOVA SIMPLES LTDA</td></tr><tr><td>17018.20</td><td>SIGRIA SOLUCOES EM INVESTIMENTOS E EMPRISTIMOS RURAIS LTDA</td></tr><tr><td>17018.20</td><td>TERRA AZUL TECNOLOGIA DE POLIMEROS NATURAIS LTDA</td></tr><tr><td>17018.20</td><td>BIO.INN LTDA</td></tr><tr><td>17018.20</td><td>KRABS DESENVOLVIMENTO EM BIOTECNOLOGIA LTDA</td></tr><tr><td>17018.20</td><td>MIRSCIENCE THERAPEUTICS SERVICOS DE PESQUISA E DESENVOLVIMENTO LTDA</td></tr><tr><td>17018.20</td><td>FISIOATUAL COMERCIO ATACADISTA EQUIPAMENTOS MEDICO HOSPITALARES LTDA</td></tr><tr><td>16965.60</td><td>FAC MEDICINA VETERINARIA ARACATUBA/UNESP</td></tr><tr><td>16930.40</td><td>INST FISICA/UFF</td></tr><tr><td>16889.30</td><td>ALEXANDRE GRELUK SZYKMAN 38040489865</td></tr><tr><td>16818.27</td><td>INST BIOTECNOLOGIA/UNESP</td></tr><tr><td>16817.80</td><td>PRO REITORIA PESQUISA POS GRADUACAO/UPM</td></tr><tr><td>16614.00</td><td>CENTRO PESQ METEOROLOGICAS CLIMATICAS APLICADAS AGRICULTURA/UNICAMP</td></tr><tr><td>16350.00</td><td>CENTRO MULTIDISCIPLINAR INVESTIGACAO BIOLOGICA/UNICAMP</td></tr><tr><td>15748.80</td><td>BLOX - SISTEMA GAMIFICADO DE EDUCACAO POR COMPETENCIA LTDA</td></tr><tr><td>15748.80</td><td>SLEEPUP TECNOLOGIA EM SAUDE LTDA</td></tr><tr><td>15705.00</td><td>CAROLINA CINTO DE MORAES 36924453856</td></tr><tr><td>15513.16</td><td>NATCROM SOLUCOES SUSTENTAVEIS LTDA</td></tr><tr><td>15420.10</td><td>HARPIA HEALTH SOLUTIONS LTDA</td></tr><tr><td>15313.60</td><td>INST INFORMATICA/UFRGS</td></tr><tr><td>15263.10</td><td>PROTECH PESQUISA E DESENVOLVIMENTO LTDA</td></tr><tr><td>15247.80</td><td>XYZ MOLECULAR TARGET LTDA</td></tr><tr><td>15069.00</td><td>DEFENSE FERTILIZER LTDA</td></tr><tr><td>14908.80</td><td>FAC FILOSOFIA COMUNICACAO LETRAS ARTES/PUCSP</td></tr><tr><td>14836.90</td><td>CENTRO ESTUDOS VENENO ANIMAIS PECONHENTOS/UNESP</td></tr><tr><td>14596.50</td><td>SOC BENEFICENTE ISRAELITA BRASILEIRA HOSP ALBERT EINSTEIN/SBIBAE</td></tr><tr><td>14513.00</td><td>BIOBREYER PESQUISA E DESENVOLVIMENTO CIENTIFICO LTDA</td></tr><tr><td>14513.00</td><td>BIOTECH BUSINESS BIOTECHNOLOGY SOLUTIONS LTDA</td></tr><tr><td>14513.00</td><td>INNANO TECNOLOGIA LTDA</td></tr><tr><td>14513.00</td><td>INVENT BIOTECNOLOGIA LTDA ME</td></tr><tr><td>14513.00</td><td>SC CONDI ASSESSORIA INDUSTRIAL</td></tr><tr><td>14513.00</td><td>GEN&VITA INOVA SIMPLES (I.S.)</td></tr><tr><td>14315.72</td><td>TIAGO MILANIN 33733312856</td></tr><tr><td>13716.90</td><td>HOSP REABILITACAO ANOMALIAS CRANIOFACIAIS/USP</td></tr><tr><td>13716.80</td><td>UNIDADE ACADEMICA DE PESQUISA POS GRADUACAO/UNISINO</td></tr><tr><td>13694.60</td><td>45.993.313 INOVA SIMPLES (I.S.)</td></tr><tr><td>13243.60</td><td>VETRA PESQUISA DESENVOLVIMENTO PRODUTOS CERAMICOS DE ALTA TECNOLOGIA</td></tr><tr><td>12837.30</td><td>VICE REITORIA PESQUISA POS GRADUACAO/UNIP</td></tr><tr><td>12780.90</td><td>CENTRO CIENCIAS TECNOLOGICAS/UNIFOR</td></tr><tr><td>12697.40</td><td>DANIEL SILVA ANTONELO PESQUISA E DESENVOLVIMENTO CIENTIFICO</td></tr><tr><td>12607.30</td><td>BLATRON TECNOLOGIA LTDA</td></tr><tr><td>12533.80</td><td>DRC ADMINISTRACAO TREINAMENTO E CONSULTORIA LTDA</td></tr><tr><td>12460.50</td><td>INST PESQUISAS TECNOLOGICAS ESTADO SAO PAULO/SDE</td></tr><tr><td>12425.20</td><td>SYNBD PESQUISA DESENVOLVIMENTO E PRODUCAO DE INSUMOS FARMACEUTICOS</td></tr><tr><td>12256.20</td><td>50.211.381 INOVA SIMPLES (I.S.)</td></tr><tr><td>12254.60</td><td>SMART CONSULTORIA AGRONOMICA E SERVICOS AGRICOLAS LTDA</td></tr><tr><td>12226.30</td><td>UNIV SAO FRANCISCO CAMPUS ITATIBA/USF</td></tr><tr><td>12143.60</td><td>INST ADOLFO LUTZ/SSSP</td></tr><tr><td>12141.40</td><td>IDEELAB BIOTECNOLOGIA S/A</td></tr><tr><td>12141.40</td><td>VIGILANTES DO SONO QUALIDADE DE VIDA E TECNOLOGIA LTDA</td></tr><tr><td>12141.40</td><td>BIOMONETIZE - VALORACAO E MONETIZACAO DE SERVICOS AMBIENTAIS LTDA</td></tr><tr><td>12141.40</td><td>INST PASTEUR SAO PAULO/IPSP</td></tr><tr><td>12141.40</td><td>BRAZILIAN NANO FEED PESQUISA E DESENVOLVIMENTO DE ADITIVOS LTDA</td></tr><tr><td>12047.39</td><td>INST CRIANCA/SSSP</td></tr><tr><td>11957.70</td><td>FAC DIREITO RIBEIRAO PRETO/USP</td></tr><tr><td>11698.60</td><td>SOFIEN SOLUCOES TECNOLOGICAS PARA AGROINDUSTRIA LTDA</td></tr><tr><td>11698.60</td><td>HI SOLUCOES EM SAUDE LTDA</td></tr><tr><td>11539.60</td><td>ECOTRACE TECNOLOGIA DA INFORMACAO S A</td></tr><tr><td>11495.30</td><td>BIOTECHNO SCIENCE FARMACEUTICA</td></tr><tr><td>11252.50</td><td>SINAPSIS INOVACAO EM ENERGIA SS LTDA</td></tr><tr><td>11144.20</td><td>NAZARE & PETRONIO PESQ DESENV EXPERIMENTAL CIENCIAS FISICAS NATURAIS</td></tr><tr><td>11144.20</td><td>LUPULO TROPICAL CONSULTORIA E PESQUISA LTDA</td></tr><tr><td>10676.90</td><td>3DTIME SOLUCOES TRIDIMENSIONAIS LTDA ME</td></tr><tr><td>10588.20</td><td>BIOATIVA PESQUISAS E COMPOSTOS BIOATIVOS LTDA</td></tr><tr><td>10588.20</td><td>RELOAD HEALTH DEVICES LTDA</td></tr><tr><td>10588.20</td><td>BRASILBIOTEC - PESQUISA E DESENVOLVIMENTO LTDA</td></tr><tr><td>10588.20</td><td>MICROBIOMEX BIOTECNOLOGIA E SOLUCOES MICROBIANAS LTDA</td></tr><tr><td>10588.20</td><td>FAZ VERDE SOLUCOES AMBIENTAIS LTDA</td></tr><tr><td>10588.20</td><td>ALCHEMYPET MEDICINA DIAGNOSTICA VETERINARIA LTDA</td></tr><tr><td>10588.20</td><td>MARZIEH KADIVAR 24096777897</td></tr><tr><td>10588.20</td><td>MONERA AGROCENCIA INOVA SIMPLES (I.S)</td></tr><tr><td>10588.20</td><td>IMUNODOT - INDUSTRIA E PESQUISA DE PRODUTOS PARA DIAGNOSTICO LTDA-ME</td></tr><tr><td>10588.20</td><td>GUSTAVO TRINDADE VALIO 35540175824</td></tr><tr><td>10588.20</td><td>FLUXOFARMA PESQUISA E DESENVOLVIMENTO LTDA</td></tr><tr><td>10588.20</td><td>UP BIOPRODUTOS LTDA</td></tr><tr><td>10588.20</td><td>VALORA MADEIRA CLASSIFICACAO E INSPECAO LTDA</td></tr><tr><td>10588.20</td><td>R&R NOVABIO PESQUISA E DESENVOLVIMENTO EM CIENCIAS NATURAIS LTDA</td></tr><tr><td>10588.20</td><td>FALCAO HIGHTEC SOLUTION LTDA</td></tr><tr><td>10588.20</td><td>IMUNOTERA SOLUCOES TERAPEUTICAS LTDA</td></tr><tr><td>10588.20</td><td>POLI INK LTDA</td></tr><tr><td>10588.20</td><td>LINAX COMERCIO DE OLEOS ESSENCIAIS LTDA</td></tr><tr><td>10588.20</td><td>DIRAC INOVACOES TECNOLOGICAS LTDA</td></tr><tr><td>10588.20</td><td>ANDRE ALMEIDA SILVA</td></tr><tr><td>10588.20</td><td>TECCER INDUSTRIA E COMERCIO DE PRODUTOS CERAMICOS LTDA</td></tr><tr><td>10588.20</td><td>I.RAD.PARTICLE INOVA SIMPLES (I.S.)</td></tr><tr><td>10588.20</td><td>PRUDENCIATTI E RIBEIRO PESQUISA E DESENVOLVIMENTO LTDA</td></tr><tr><td>10588.20</td><td>ICTIOLOGICA CONSULTORIA AMBIENTAL LTDA</td></tr><tr><td>10588.20</td><td>MIRA PESQUISA E DESENVOLVIMENTO LTDA ME</td></tr><tr><td>10588.20</td><td>TCARBON DIAMOND IND LTDA</td></tr><tr><td>10513.20</td><td>SELF APLICACOES TECNOLOGICAS PARA SAUDE EDUCACAO E BEM ESTAR LTDA</td></tr><tr><td>10354.80</td><td>F J V DA SILVA TECNOLOGIA INFORMACAO LTDA</td></tr><tr><td>10198.50</td><td>HOSP BENEFICENCIA PORTUGUESA SAO PAULO/RBAPB</td></tr><tr><td>10198.50</td><td>ESC CIENCIAS AGRARIAS/UFLA</td></tr><tr><td>10101.52</td><td>UNIV RIBEIRAO PRETO CAMPUS RIBEIRAO PRETO/UNAERP</td></tr><tr><td>9778.50</td><td>FAC MEDICINA JUNDIAI/FMJ</td></tr><tr><td>9617.06</td><td>CENTRO UNIVERSITARIO FEI CAMPUS SAO BERNARDO CAMPO/UNIFEI</td></tr><tr><td>9583.90</td><td>CENTRO ESTUDOS OPINIAO PUBLICA/UNICAMP</td></tr><tr><td>9318.90</td><td>CENTRO TECNOLOGIA INFORMACAO RENATO ARCHER/MCTI</td></tr><tr><td>9318.90</td><td>AGENCIA PAULISTA TECNOLOGIA AGRONEGOCIOS/SAASP</td></tr><tr><td>9318.90</td><td>INST BIOLOGICO CAMPINAS/SAASP</td></tr><tr><td>9318.90</td><td>NUCLEO INTERDISCIPLINAR COMUNICACAO SONORA/UNICAMP</td></tr><tr><td>9318.90</td><td>UNIV NOVE JULHO CAMPUS VERGUEIRO/UNINOVE</td></tr><tr><td>9318.90</td><td>PRO REITORIA POS GRADUACAO/UFLA</td></tr><tr><td>9318.90</td><td>CENTRO TECNOLOGIA/UFPI</td></tr><tr><td>9318.90</td><td>PRO REITORIA POS GRADUACAO/PUCSP</td></tr><tr><td>9318.80</td><td>INFOPRECOS S A</td></tr><tr><td>9318.80</td><td>DSMA DESENVOLVIMENTO SUSTENTAVEL E MONITORAMENTO AMBIENTAL LTDA</td></tr><tr><td>9318.80</td><td>NOVO GAS PROJETOS DE ENERGIA RENOVAVEL LTDA</td></tr><tr><td>9318.80</td><td>ALBERTO O FARRILL VANNINI PESSINA - ME</td></tr><tr><td>9318.80</td><td>BINAHKI SOLUCOES TECNOLOGICAS LTDA</td></tr><tr><td>9318.80</td><td>VERDAZ GESTAO SUSTENTAVEL E CONSULTORIA AMBIENTAL LTDA</td></tr><tr><td>9318.80</td><td>SENSE PLUS CONSULTORIA E DESENVOLVIMENTO LTDA - ME</td></tr><tr><td>9220.40</td><td>FAC MEDICINA/UNOESTE</td></tr><tr><td>9123.70</td><td>IN SITU TERAPIA CELULAR LTDA</td></tr><tr><td>9041.60</td><td>LIVING OUT LABORATORIO DE TESTES CELULARES IN VITRO LTDA</td></tr><tr><td>8980.30</td><td>FAC CIENCIAS AGRARIAS/UNOESTE</td></tr><tr><td>8703.76</td><td>ESC CIENCIAS VIDA/PUCCAMPINAS</td></tr><tr><td>7983.20</td><td>OPTARIUM COMERCIO DE ARTIGOS DE OPTICA EIRELI - ME</td></tr><tr><td>7932.36</td><td>UNIV SANTO AMARO/UNISA</td></tr><tr><td>7916.40</td><td>CENTRO ATENCAO INTEGRAL SAUDE MULHER/UNICAMP</td></tr><tr><td>7849.60</td><td>FAC COMPUTACAO/UFU</td></tr><tr><td>7849.60</td><td>NAIAD DESENVOLVIMENTO COMPUTACIONAL DE FARMACOS LTDA</td></tr><tr><td>7849.60</td><td>CONNECTING BLOCKS CONSULTORIA LTDA</td></tr><tr><td>7849.60</td><td>LINKAGES DESENVOLVIMENTO EMPRESARIAL LTDA</td></tr><tr><td>7780.40</td><td>STHENOS INOVACOES EM SAUDE LTDA</td></tr><tr><td>7729.07</td><td>ADB PESQUISA E DESENVOLVIMENTO LTDA</td></tr><tr><td>7611.60</td><td>FAC ECONOMIA ADMINISTRACAO CONTABILIDADE RIBEIRAO PRETO/USP</td></tr><tr><td>7570.82</td><td>PRO REITORIA PESQUISA POS GRADUACAO/PUCCAMPINAS</td></tr><tr><td>7570.50</td><td>BSV ROBOTICS LTDA</td></tr><tr><td>7570.50</td><td>SOLUCOES TECNOLOGICAS PARA O APERFEICOAMENTO DA ACADEMIA LTDA</td></tr><tr><td>7570.50</td><td>NOCK - PESQUISA E DESENVOLVIMENTO DE EQUIPAMENTOS ESTERILIZACAO LTDA</td></tr><tr><td>7570.50</td><td>MICROONDAS DESENVOLVIMENTO E TECNOLOGIAS LTDA</td></tr><tr><td>7570.50</td><td>TR TECNOLOGIA EM RADARES LTDA</td></tr><tr><td>7570.50</td><td>MODELWORKS ENGENHARIA LTDA - ME</td></tr><tr><td>7570.50</td><td>BUZZ FLY P&D EM ALIMENTACAO ANIMAL S A</td></tr><tr><td>7276.00</td><td>CENTRO INFORMATICA/UFPE</td></tr><tr><td>7191.90</td><td>INST SUPERIOR EDUCACAO SAO PAULO/ISESP</td></tr><tr><td>7036.80</td><td>FAC ENGENHARIA CIENCIAS ROSANA/UNESP</td></tr><tr><td>7031.20</td><td>AGROBEE SOLUCOES EM POLINIZACAO E SUSTENTABILIDADE LTDA</td></tr><tr><td>6670.00</td><td>T DE MORAES ALVES ARQUITETURA</td></tr><tr><td>6523.16</td><td>CENTRO TECNICO CIENTIFICO/PUCRIO</td></tr><tr><td>6430.00</td><td>CROPMAN INOVACAO TECNOLOGICA E AGRICULTURA DIGITAL LTDA</td></tr><tr><td>6430.00</td><td>ALJAVA PESQUISA E DESENVOLVIMENTO EXPERIMENTAL EM BIOTECNOLOGIA LTDA</td></tr><tr><td>6430.00</td><td>JTAG EQUIPAMENTOS MEDICOS LTDA</td></tr><tr><td>6388.20</td><td>CENTRO CIENCIAS/UFC</td></tr><tr><td>6157.20</td><td>FAC ENFERMAGEM/UNICAMP</td></tr><tr><td>6034.00</td><td>NUCLEO ESTUDOS POLITICAS PUBLICAS/UNICAMP</td></tr><tr><td>6034.00</td><td>42.916.449 ANGELA FAUSTINO JOZALA</td></tr><tr><td>5684.00</td><td>CENTRO TECNOLOGICO/UFES</td></tr><tr><td>5565.00</td><td>FAC CIENCIAS SAUDE BARRETOS PAULO PRATA/FACISB</td></tr><tr><td>5328.34</td><td>FAC CIENCIAS AGRARIAS VALE RIBEIRA/UNESP</td></tr><tr><td>5177.80</td><td>PRO REITORIA POS GRADUACAO PESQUISA/UNIFESP</td></tr><tr><td>5116.80</td><td>DALLAS AUTONOMUS LTDA</td></tr><tr><td>5116.80</td><td>NEXUS CAPITAL LTDA</td></tr><tr><td>5116.80</td><td>AGRINANO SOLUCOES SUSTENTAVEIS LTDA</td></tr><tr><td>5116.80</td><td>52.610.027 ARYANNE RODRIGUES DE LIMA COSTA</td></tr><tr><td>5116.80</td><td>ANDRE ZUFFO BOARATTI 41807621880</td></tr><tr><td>5116.80</td><td>HUMMAMI PRODUTOS ALIMENTICIOS LTDA</td></tr><tr><td>5116.80</td><td>52.714.182 LAIZA MARIA DE JESUS SILVA</td></tr><tr><td>5116.80</td><td>THOTECH SOLUCOES & SERVICOS LTDA</td></tr><tr><td>5116.80</td><td>SUCCI AVILA LTDA</td></tr><tr><td>5116.80</td><td>52.816.526 JULIO CESAR EDUARDO DE SOUZA</td></tr><tr><td>4998.50</td><td>ASSOCIACAO FUNDO INCENTIVO PESQUISA/AFIP</td></tr><tr><td>4804.40</td><td>INST INFORMATICA/UFG</td></tr><tr><td>4710.30</td><td>INST ESTUDOS AVANCADOS/DCTA</td></tr><tr><td>4659.60</td><td>MLA SUPRIMENTOS MEDICOS LTDA</td></tr><tr><td>4659.60</td><td>INST SAUDE/SSSP</td></tr><tr><td>4480.80</td><td>GENOTYPING LABORATORIO DE BIOTECNOLOGIA LTDA</td></tr><tr><td>4480.80</td><td>MICROGENE LTDA</td></tr><tr><td>4398.00</td><td>HOSP CLINICAS/UNICAMP</td></tr><tr><td>4118.90</td><td>PLATAFORMA PESQUISA MEDICINA TRANSLACIONAL/FIOCRUZ</td></tr><tr><td>3924.80</td><td>GOMEZ & GOMEZ LTDA - ME</td></tr><tr><td>3924.80</td><td>INST TECNOLOGIA/UFPA</td></tr><tr><td>3924.80</td><td>INST AERONAUTICA ESPACO/DCTA</td></tr><tr><td>3924.80</td><td>KOSMOSCIENCE CIENCIA TEC COSMETICA IMPORTACAO EXPORTACAO (FILIAL)</td></tr><tr><td>3805.80</td><td>INST D OR PESQUISA ENSINO SAO PAULO/IDOR</td></tr><tr><td>3805.80</td><td>NUCLEO ESTUDOS POPULACAO/UNICAMP</td></tr><tr><td>3805.80</td><td>CENTRO TECNOLOGIA/UFC</td></tr><tr><td>3805.80</td><td>INST BRASILEIRO CONTROLE CANCER</td></tr><tr><td>3678.84</td><td>CAMPUS MATAO/IFSP</td></tr><tr><td>3621.30</td><td>PRO REITORIA PESQUISA POS GRADUACAO/UNITAU</td></tr><tr><td>3336.00</td><td>RAD-IA INOVA SIMPLES (I.S.)</td></tr><tr><td>3106.40</td><td>DOM ROCK SERVICOS EM TECNOLOGIA S A</td></tr><tr><td>2935.24</td><td>UNIDADE MOOCA/USJT</td></tr><tr><td>2924.10</td><td>ESC ENFERMAGEM/USP</td></tr><tr><td>2798.80</td><td>CENTRO UNIVERSITARIO FACULDADES INTEGRADAS OURINHOS/FEMM</td></tr><tr><td>2741.70</td><td>CAMPUS FERNANDOPOLIS/UB</td></tr><tr><td>2665.20</td><td>CAMPUS CURITIBA/UTFPR</td></tr><tr><td>2638.80</td><td>FAC GRAN TIETE/IERT</td></tr><tr><td>2638.80</td><td>FAC TECNOLOGIA SOROCABA/CEETPS</td></tr><tr><td>2638.80</td><td>INST CIENCIAS ENGENHARIA ITAPEVA/UNESP</td></tr><tr><td>2638.80</td><td>CAMPUS SAO ROQUE/IFSP</td></tr><tr><td>2462.88</td><td>INST RADIOLOGIA HOSPITAL CLINICAS SAO PAULO/SSSP</td></tr><tr><td>2432.80</td><td>FAC EDUCACAO FISICA/UNICAMP</td></tr><tr><td>1759.20</td><td>CAMPUS ITAPETININGA/IFSP</td></tr><tr><td>1759.20</td><td>INST CENTRO PESQUISAS SAO LEOPOLDO MANDIC/SLMANDIC</td></tr><tr><td>1759.20</td><td>CAMPUS OSASCO/UNIFESP</td></tr><tr><td>1759.20</td><td>ESC PAULISTA ENFERMAGEM/UNIFESP</td></tr><tr><td>1759.20</td><td>CAMPUS SAO CARLOS/IFSP</td></tr><tr><td>1759.20</td><td>CENTRO CIENCIAS NATUREZA/UFPI</td></tr><tr><td>1759.20</td><td>PRO REITORIA POS GRADUACAO PESQUISA/USCS</td></tr><tr><td>1668.00</td><td>FAC COMPUTACAO INFORMATICA/UPM</td></tr><tr><td>1553.20</td><td>ESTACAO EXPERIMENTAL AGRONEGOCIO BEBEDOURO/FUPAB</td></tr><tr><td>1553.20</td><td>METAURA PRESTACAO DE SERVICOS DE PESQUISA E DESENVOLVIMENTO LTDA</td></tr><tr><td>1553.20</td><td>ECCAPLAN - CONSULTORIA EM DESENVOLVIMENTO SUSTENTAVEL LTDA - ME</td></tr><tr><td>1435.60</td><td>ESC ECONOMIA NEGOCIOS/PUCCAMPINAS</td></tr><tr><td>1110.40</td><td>INST CIENCIAS EXATAS NATURAIS/UFPA</td></tr><tr><td>1079.60</td><td>INST NEUROCIENCIAS COMPORTAMENTO/INEC</td></tr><tr><td>879.60</td><td>CAMPUS SOROCABA/IFSP</td></tr><tr><td>879.60</td><td>NUCLEO INTERDISCIPLINAR PESQUISAS TEATRAIS/UNICAMP</td></tr><tr><td>879.60</td><td>CAMPUS BRAGANCA PAULISTA/IFSP</td></tr><tr><td>879.60</td><td>CAMPUS BIRIGUI/IFSP</td></tr><tr><td>879.60</td><td>FAC ARQUITETURA URBANISMO/UPM</td></tr><tr><td>879.60</td><td>FAC SESI-SP EDUCACAO/SESI</td></tr><tr><td>879.60</td><td>CAMPUS JACAREI/IFSP</td></tr><tr><td>879.60</td><td>ESC POLITECNICA/PUCCAMPINAS</td></tr><tr><td>879.60</td><td>INST MUNICIPAL ENSINO SUPERIOR ASSIS/FEMA</td></tr><tr><td>879.60</td><td>HOSP CLINICAS PORTO ALEGRE/UFRGS</td></tr><tr><td>879.60</td><td>REITORIA/UNIFRAN</td></tr><tr><td>879.60</td><td>CAMPUS AVARE/IFSP</td></tr><tr><td>879.60</td><td>CAMPUS SAO JOSE DOS CAMPOS/IFSP</td></tr><tr><td>879.60</td><td>FAC TECNOLOGIA ITAQUERA PROFESSOR MIGUEL REALE/CEETPS</td></tr><tr><td>879.60</td><td>CAMPUS CARAGUATATUBA/IFSP</td></tr><tr><td>879.60</td><td>HOSP CLINICAS FACULDADE MEDICINA BOTUCATU/SSSP</td></tr><tr><td>879.60</td><td>CAMPUS GUARULHOS/IFSP</td></tr><tr><td>879.60</td><td>ESC LINGUAGEM COMUNICACAO/PUCCAMPINAS</td></tr><tr><td>879.60</td><td>CAMPUS SERTAOZINHO/IFSP</td></tr><tr><td>879.60</td><td>PRO REITORIA GRADUACAO/UFSCAR</td></tr><tr><td>879.60</td><td>CENTRO UNIVERSITARIO SAO CAMILO CAMPUS IPIRANGA/CUSC</td></tr><tr><td>879.60</td><td>CAMPUS VOTUPORANGA/IFSP</td></tr><tr><td>556.00</td><td>CLARITY HEALTHCARE DESENVOLVIMENTO DE SOFTWARE LTDA</td></tr><tr><td>556.00</td><td>CENTRO PESQUISA DOCUMENTACAO HISTORIA CONTEMPORANEA SAO PAULO/FGVSP</td></tr><tr><td>556.00</td><td>CAMPUS ALEGRETE/UNIPAMPA</td></tr></tbody></table></div>"
            ]
          },
          "metadata": {
            "application/vnd.databricks.v1+output": {
              "addedWidgets": {},
              "aggData": [],
              "aggError": "",
              "aggOverflow": false,
              "aggSchema": [],
              "aggSeriesLimitReached": false,
              "aggType": "",
              "arguments": {},
              "columnCustomDisplayInfos": {},
              "data": [
                [
                  "2116715.69",
                  "INST CIENCIAS BIOMEDICAS/USP"
                ],
                [
                  "2112722.59",
                  "FAC FILOSOFIA LETRAS CIENCIAS HUMANAS/USP"
                ],
                [
                  "1582853.77",
                  "FAC MEDICINA RIBEIRAO PRETO/USP"
                ],
                [
                  "1567997.67",
                  "INST BIOLOGIA/UNICAMP"
                ],
                [
                  "1524479.19",
                  "CENTRO CIENCIAS EXATAS TECNOLOGIA/UFSCAR"
                ],
                [
                  "1373917.46",
                  "ESC PAULISTA MEDICINA/UNIFESP"
                ],
                [
                  "1360854.36",
                  "INST BIOCIENCIAS/USP"
                ],
                [
                  "1332856.65",
                  "INST QUIMICA/USP"
                ],
                [
                  "1266610.87",
                  "ESC SUPERIOR AGRICULTURA LUIZ DE QUEIROZ/USP"
                ],
                [
                  "1225413.02",
                  "INST QUIMICA/UNICAMP"
                ],
                [
                  "1105389.21",
                  "FAC FILOSOFIA CIENCIAS LETRAS RIBEIRAO PRETO/USP"
                ],
                [
                  "1070418.43",
                  "FAC MEDICINA/USP"
                ],
                [
                  "993890.19",
                  "INST FISICA SAO CARLOS/USP"
                ],
                [
                  "829095.30",
                  "INST FISICA/USP"
                ],
                [
                  "814063.43",
                  "CENTRO CIENCIAS BIOLOGICAS SAUDE/UFSCAR"
                ],
                [
                  "755568.52",
                  "ESC POLITECNICA/USP"
                ],
                [
                  "754284.13",
                  "FAC CIENCIAS FARMACEUTICAS RIBEIRAO PRETO/USP"
                ],
                [
                  "749618.87",
                  "INST CIENCIAS MATEMATICAS COMPUTACAO SAO CARLOS/USP"
                ],
                [
                  "749135.44",
                  "ESC ENGENHARIA SAO CARLOS/USP"
                ],
                [
                  "746013.50",
                  "FAC CIENCIAS TECNOLOGIA PRESIDENTE PRUDENTE/UNESP"
                ],
                [
                  "720700.59",
                  "INST QUIMICA SAO CARLOS/USP"
                ],
                [
                  "685406.76",
                  "INST BUTANTAN/SSSP"
                ],
                [
                  "672715.71",
                  "FAC CIENCIAS AGRARIAS VETERINARIAS JABOTICABAL/UNESP"
                ],
                [
                  "663517.57",
                  "INST FILOSOFIA CIENCIAS HUMANAS/UNICAMP"
                ],
                [
                  "645575.13",
                  "CENTRO EDUCACAO CIENCIAS HUMANAS/UFSCAR"
                ],
                [
                  "642599.10",
                  "CENTRO NACIONAL PESQUISA ENERGIA MATERIAIS/MCTI"
                ],
                [
                  "633182.26",
                  "FAC ZOOTECNIA ENGENHARIA ALIMENTOS/USP"
                ],
                [
                  "614011.10",
                  "INST BIOCIENCIAS RIO CLARO/UNESP"
                ],
                [
                  "612345.95",
                  "ESC FILOSOFIA LETRAS CIENCIAS HUMANAS/UNIFESP"
                ],
                [
                  "606096.28",
                  "FAC CIENCIAS MEDICAS/UNICAMP"
                ],
                [
                  "590558.69",
                  "CENTRO CIENCIAS NATURAIS HUMANAS/UFABC"
                ],
                [
                  "553810.86",
                  "INST MATEMATICA ESTATISTICA COMPUTACAO CIENTIFICA/UNICAMP"
                ],
                [
                  "550160.77",
                  "INST ASTRONOMIA GEOFISICA CIENCIAS ATMOSFERICAS/USP"
                ],
                [
                  "546384.92",
                  "INST BIOCIENCIAS BOTUCATU/UNESP"
                ],
                [
                  "535977.39",
                  "FAC CIENCIAS FARMACEUTICAS/USP"
                ],
                [
                  "509518.47",
                  "INST MATEMATICA ESTATISTICA/USP"
                ],
                [
                  "500859.38",
                  "FAC SAUDE PUBLICA/USP"
                ],
                [
                  "497023.18",
                  "INST FISICA GLEB WATAGHIN/UNICAMP"
                ],
                [
                  "492324.98",
                  "CENTRO ENERGIA NUCLEAR AGRICULTURA/USP"
                ],
                [
                  "466223.19",
                  "FAC ENGENHARIA ALIMENTOS/UNICAMP"
                ],
                [
                  "444927.33",
                  "FAC CIENCIAS APLICADAS/UNICAMP"
                ],
                [
                  "418310.40",
                  "INST QUIMICA ARARAQUARA/UNESP"
                ],
                [
                  "396624.56",
                  "FAC ARQUITETURA URBANISMO/USP"
                ],
                [
                  "394952.79",
                  "FAC CIENCIAS FARMACEUTICAS ARARAQUARA/UNESP"
                ],
                [
                  "379456.60",
                  "FAC ENGENHARIA ILHA SOLTEIRA/UNESP"
                ],
                [
                  "365455.57",
                  "INST CIENCIAS AMBIENTAIS QUIMICAS FARMACEUTICAS/UNIFESP"
                ],
                [
                  "365365.33",
                  "FAC CIENCIAS BAURU/UNESP"
                ],
                [
                  "354559.39",
                  "FAC ENGENHARIA ELETRICA COMPUTACAO/UNICAMP"
                ],
                [
                  "350512.62",
                  "ESC ADMINISTRACAO EMPRESAS SAO PAULO/FGVSP"
                ],
                [
                  "339412.85",
                  "INST BIOCIENCIAS LETRAS CIENCIAS EXATAS SAO JOSE RIO PRETO/UNESP"
                ],
                [
                  "333905.90",
                  "ESC COMUNICACOES ARTES/USP"
                ],
                [
                  "312664.75",
                  "CENTRO ENGENHARIA MODELAGEM CIENCIAS SOCIAIS APLICADAS/UFABC"
                ],
                [
                  "311168.98",
                  "INST GEOCIENCIAS/USP"
                ],
                [
                  "306909.39",
                  "INST FISICA TEORICA/UNESP"
                ],
                [
                  "300663.11",
                  "FAC ODONTOLOGIA ARARAQUARA/UNESP"
                ],
                [
                  "294638.82",
                  "FAC ODONTOLOGIA BAURU/USP"
                ],
                [
                  "286304.68",
                  "ESC ARTES CIENCIAS HUMANIDADES/USP"
                ],
                [
                  "283160.61",
                  "FAC ENGENHARIA MECANICA/UNICAMP"
                ],
                [
                  "279581.09",
                  "INST PSICOLOGIA/USP"
                ],
                [
                  "279567.99",
                  "INST OCEANOGRAFICO/USP"
                ],
                [
                  "274858.16",
                  "INST GEOCIENCIAS/UNICAMP"
                ],
                [
                  "271146.32",
                  "FAC CIENCIAS LETRAS ASSIS/UNESP"
                ],
                [
                  "265799.30",
                  "FAC MEDICINA VETERINARIA ZOOTECNIA/USP"
                ],
                [
                  "263710.92",
                  "INST ESTUDOS LINGUAGEM/UNICAMP"
                ],
                [
                  "255558.03",
                  "EMBRAPA INSTRUMENTACAO AGROPECUARIA/EMBRAPA"
                ],
                [
                  "253893.42",
                  "INST CORACAO DO HOSP CLINICAS SAO PAULO/SSSP"
                ],
                [
                  "251821.38",
                  "FAC ODONTOLOGIA RIBEIRAO PRETO/USP"
                ],
                [
                  "249816.83",
                  "INST SAUDE SOCIEDADE/UNIFESP"
                ],
                [
                  "240038.54",
                  "FAC ODONTOLOGIA PIRACICABA/UNICAMP"
                ],
                [
                  "228811.73",
                  "CENTRO BIOLOGIA MOLECULAR ENGENHARIA GENETICA/UNICAMP"
                ],
                [
                  "220830.29",
                  "INST CIENCIA TECNOLOGIA/UNIFESP"
                ],
                [
                  "200190.50",
                  "INST ARTES/UNICAMP"
                ],
                [
                  "198476.71",
                  "FAC MEDICINA BOTUCATU/UNESP"
                ],
                [
                  "196285.92",
                  "INST NACIONAL PESQUISAS ESPACIAIS/MCTI"
                ],
                [
                  "189411.04",
                  "INST GEOCIENCIAS CIENCIAS EXATAS RIO CLARO/UNESP"
                ],
                [
                  "186876.85",
                  "CENTRO MATEMATICA COMPUTACAO COGNICAO/UFABC"
                ],
                [
                  "183126.79",
                  "INST ESTUDOS AVANCADOS/USP"
                ],
                [
                  "177180.31",
                  "FAC CIENCIAS LETRAS ARARAQUARA/UNESP"
                ],
                [
                  "175506.46",
                  "ESC ENGENHARIA LORENA/USP"
                ],
                [
                  "174621.66",
                  "INST MAR/UNIFESP"
                ],
                [
                  "173408.54",
                  "FAC MEDICINA VETERINARIA ZOOTECNIA BOTUCATU/UNESP"
                ],
                [
                  "171890.20",
                  "FAC CIENCIAS FARMACEUTICAS/UNICAMP"
                ],
                [
                  "170276.96",
                  "FAC EDUCACAO/UNICAMP"
                ],
                [
                  "167623.82",
                  "INST RELACOES INTERNACIONAIS/USP"
                ],
                [
                  "165460.96",
                  "CENTRO BRASILEIRO ANALISE PLANEJAMENTO/CEBRAP"
                ],
                [
                  "160004.07",
                  "FAC CIENCIAS AGRONOMICAS BOTUCATU/UNESP"
                ],
                [
                  "158049.17",
                  "FUND HEMOCENTRO RIBEIRAO PRETO/SSSP"
                ],
                [
                  "156042.82",
                  "INST COMPUTACAO/UNICAMP"
                ],
                [
                  "151966.59",
                  "INST CIENCIA TECNOLOGIA SAO JOSE CAMPOS/UNESP"
                ],
                [
                  "145756.39",
                  "FAC ENGENHARIA GUARATINGUETA/UNESP"
                ],
                [
                  "144116.25",
                  "INSPER INST ENSINO PESQUISA/INSPER"
                ],
                [
                  "143246.72",
                  "INST BIOCIENCIAS CAMPUS LITORAL PAULISTA/UNESP"
                ],
                [
                  "143079.88",
                  "INST AGRONOMICO CAMPINAS/SAASP"
                ],
                [
                  "134351.22",
                  "FAC ODONTOLOGIA/USP"
                ],
                [
                  "133860.65",
                  "FAC ENGENHARIA QUIMICA/UNICAMP"
                ],
                [
                  "130486.72",
                  "MUSEU ZOOLOGIA/USP"
                ],
                [
                  "126443.05",
                  "MUSEU ARQUEOLOGIA ETNOLOGIA/USP"
                ],
                [
                  "123611.41",
                  "CENTRO HEMATOLOGIA HEMOTERAPIA HEMOCENTRO/UNICAMP"
                ],
                [
                  "120884.71",
                  "HOSP CANCER BARRETOS/FP"
                ],
                [
                  "119925.14",
                  "FAC ODONTOLOGIA ARACATUBA/UNESP"
                ],
                [
                  "118824.93",
                  "INST PESQUISAS ENERGETICAS NUCLEARES/SDE"
                ],
                [
                  "117701.98",
                  "INST ISRAELITA ENSINO PESQUISA ALBERT EINSTEIN/SBIBAE"
                ],
                [
                  "114991.35",
                  "CENTRO LOGICA EPISTEMOLOGIA HISTORIA CIENCIA/UNICAMP"
                ],
                [
                  "112195.94",
                  "FAC ECONOMIA ADMINISTRACAO CONTABILIDADE ATUARIA/USP"
                ],
                [
                  "110157.15",
                  "FAC TECNOLOGIA/UNICAMP"
                ],
                [
                  "107692.83",
                  "ESC EDUCACAO FISICA ESPORTE RIBEIRAO PRETO/USP"
                ],
                [
                  "106856.69",
                  "ESC ENFERMAGEM RIBEIRAO PRETO/USP"
                ],
                [
                  "104268.85",
                  "INST ARQUITETURA URBANISMO SAO CARLOS/USP"
                ],
                [
                  "101909.03",
                  "CENTRO CIENCIAS BIOLOGICAS SAUDE/UPM"
                ],
                [
                  "100761.44",
                  "FAC EDUCACAO/USP"
                ],
                [
                  "97574.64",
                  "CENTRO CIENCIAS AGRARIAS/UFSCAR"
                ],
                [
                  "96291.28",
                  "INST PESQUISAS AMBIENTAIS/SIMA"
                ],
                [
                  "95429.93",
                  "FAC CIENCIAS HUMANAS SOCIAIS FRANCA/UNESP"
                ],
                [
                  "93856.15",
                  "DIVISAO CIENCIAS FUNDAMENTAIS/ITA"
                ],
                [
                  "91870.35",
                  "ESC ENGENHARIA/UPM"
                ],
                [
                  "89217.94",
                  "INST ZOOTECNIA/SAASP"
                ],
                [
                  "88749.01",
                  "A C CAMARGO CANCER CENTER/FAP"
                ],
                [
                  "88213.54",
                  "INST CANCER ESTADO SAO PAULO/SSSP"
                ],
                [
                  "86467.45",
                  "CENTRO BIOLOGIA MARINHA/USP"
                ],
                [
                  "85306.43",
                  "HOSP UNIVERSITARIO/USP"
                ],
                [
                  "82516.89",
                  "FAC FILOSOFIA CIENCIAS MARILIA/UNESP"
                ],
                [
                  "82509.85",
                  "ESC DIREITO SAO PAULO/FGVSP"
                ],
                [
                  "81225.12",
                  "NUCLEO ESTUDOS PESQUISAS AMBIENTAIS/UNICAMP"
                ],
                [
                  "79771.31",
                  "INST ARTES SAO PAULO/UNESP"
                ],
                [
                  "79573.10",
                  "FAC ARQUITETURA ARTES COMUNICACAO DESIGN BAURU/UNESP"
                ],
                [
                  "79546.13",
                  "HOSP CLINICAS SAO PAULO/SSSP"
                ],
                [
                  "77296.41",
                  "EMBRAPA PECUARIA SUDESTE/EMBRAPA"
                ],
                [
                  "74487.54",
                  "INST TECNOLOGIA ALIMENTOS/SAASP"
                ],
                [
                  "73570.67",
                  "HOSP SIRIO LIBANES/SBSHSL"
                ],
                [
                  "73100.83",
                  "NUCLEO DESENVOLVIMENTO CRIATIVIDADE/UNICAMP"
                ],
                [
                  "70393.85",
                  "FAC ENGENHARIA BAURU/UNESP"
                ],
                [
                  "69715.44",
                  "INST CIENCIA TECNOLOGIA SOROCABA/UNESP"
                ],
                [
                  "69372.87",
                  "ESC EDUCACAO FISICA ESPORTE/USP"
                ],
                [
                  "68096.59",
                  "EMBRAPA AGRICULTURA DIGITAL/EMBRAPA"
                ],
                [
                  "67912.22",
                  "INST PSIQUIATRIA/SSSP"
                ],
                [
                  "63054.26",
                  "FAC MEDICINA SAO JOSE RIO PRETO/SDE"
                ],
                [
                  "62515.70",
                  "MATCH IT SERVICOS DE TECNOLOGIA LTDA"
                ],
                [
                  "62206.30",
                  "INST MACKENZIE PESQUISAS GRAFENO NANOTECNOLOGIAS/UPM"
                ],
                [
                  "61127.11",
                  "DIVISAO ENGENHARIA AERONAUTICA/ITA"
                ],
                [
                  "60772.00",
                  "TECH INOVACOES TECNOLOGICAS PARA A AGROPECUARIA S A (FILIAL)"
                ],
                [
                  "59247.79",
                  "INST FARMACOLOGIA BIOLOGIA MOLECULAR/UNIFESP"
                ],
                [
                  "58568.80",
                  "INST ESTUDOS BRASILEIROS/USP"
                ],
                [
                  "58561.90",
                  "INST PESCA/SAASP"
                ],
                [
                  "57863.00",
                  "FAC DIREITO/USP"
                ],
                [
                  "57570.00",
                  "MUSEU ARTE CONTEMPORANEA/USP"
                ],
                [
                  "57432.78",
                  "DIVISAO ENGENHARIA MECANICA/ITA"
                ],
                [
                  "55551.10",
                  "NUCLEO INTERDISCIPLINAR PLANEJAMENTO ENERGETICO/UNICAMP"
                ],
                [
                  "54494.20",
                  "B.NANO SOLUCOES TECNOLOGICAS LTDA"
                ],
                [
                  "54382.20",
                  "INST CIENCIAS EXATAS/UFMG"
                ],
                [
                  "54248.82",
                  "ESC ECONOMIA SAO PAULO/FGVSP"
                ],
                [
                  "53907.34",
                  "CENTRO CIENCIAS GESTAO TECNOLOGIA/UFSCAR"
                ],
                [
                  "53714.10",
                  "FUND ONCOCENTRO SAO PAULO/SSSP"
                ],
                [
                  "53067.71",
                  "CENTRO ESTUDOS AMBIENTAIS/UNESP"
                ],
                [
                  "52497.15",
                  "DIVISAO CIENCIA COMPUTACAO/ITA"
                ],
                [
                  "52202.00",
                  "CENTRO CIENCIAS TECNOLOGIAS SUSTENTABILIDADE/UFSCAR"
                ],
                [
                  "52074.24",
                  "CENTRO AQUICULTURA JABOTICABAL/UNESP"
                ],
                [
                  "51671.60",
                  "DIVEGEN GESTAO E TRATAMENTO DE DADOS LTDA"
                ],
                [
                  "51535.00",
                  "MUSEU PAULISTA/USP"
                ],
                [
                  "50179.80",
                  "COR SYNC DESENVOLVIMENTO DE SISTEMAS LTDA"
                ],
                [
                  "49536.78",
                  "FAC CIENCIAS ENGENHARIA TUPA/UNESP"
                ],
                [
                  "49416.60",
                  "PICSEL SOLUCOES EM GERENCIAMENT LTDA"
                ],
                [
                  "48344.24",
                  "INST PESQUISA BIOENERGIA UNESP/UNESP"
                ],
                [
                  "47581.11",
                  "PRO REITORIA POS GRADUACAO PESQUISA EXTENSAO INOVACAO/UNISO"
                ],
                [
                  "46789.07",
                  "INST ENERGIA AMBIENTE/USP"
                ],
                [
                  "44974.60",
                  "KANDER SERVICOS ONLINE E INTERMEDIACAO DE EDUCACAO E CONTEUDO LTDA"
                ],
                [
                  "44511.44",
                  "UNIV ARARAQUARA/UNIARA"
                ],
                [
                  "44357.60",
                  "FLORADA TECH LTDA"
                ],
                [
                  "44136.37",
                  "PRO REITORIA POS GRADUACAO PESQUISA/ITA"
                ],
                [
                  "43728.86",
                  "CENTRO INOVACAO UNIVERSIDADE SAO PAULO/USP"
                ],
                [
                  "42085.80",
                  "593ICAN SOLUCOES EM IMPRESSAO 3D LTDA"
                ],
                [
                  "40991.40",
                  "FAC CIENCIAS MEDICAS SAUDE/PUCSP"
                ],
                [
                  "40899.90",
                  "INST PESQUISA DESENVOLVIMENTO/UNIVAP"
                ],
                [
                  "40608.38",
                  "FAC ENGENHARIA CIVIL ARQUITETURA URBANISMO/UNICAMP"
                ],
                [
                  "40286.55",
                  "FAC CIENCIAS HUMANAS SAUDE/PUCSP"
                ],
                [
                  "39829.57",
                  "CENTRO CIENCIAS NATUREZA/UFSCAR"
                ],
                [
                  "38385.41",
                  "CENTRO ESTUDOS ENERGIA PETROLEO/UNICAMP"
                ],
                [
                  "37287.20",
                  "UNIV SAO FRANCISCO CAMPUS BRAGANCA PAULISTA/USF"
                ],
                [
                  "36925.20",
                  "SPECTRUM LINE PRESTACAO DE SERVICOS ELETRO-ELETRONICOS LTDA - EPP"
                ],
                [
                  "35655.80",
                  "SOLUCOES E INSTRUMENTACOES AVANCADAS LTDA"
                ],
                [
                  "35521.98",
                  "CENTRO CIENCIAS HUMANAS BIOLOGICAS/UFSCAR"
                ],
                [
                  "35444.04",
                  "PRO REITORIA POS GRADUACAO PESQUISA/UNICSUL"
                ],
                [
                  "35321.40",
                  "INST POLITICAS PUBLICAS RELACOES INTERNACIONAIS/UNESP"
                ],
                [
                  "34753.70",
                  "CENTRO NACIONAL MONITORAMENTO ALERTAS DESASTRES NATURAIS/MCTI"
                ],
                [
                  "34569.60",
                  "NUCLEO COMPUTACAO CIENTIFICA/UNESP"
                ],
                [
                  "33780.65",
                  "REDE NACIONAL ENSINO PESQUISA/MCTIC"
                ],
                [
                  "33073.20",
                  "FORZA COMPOSITES TECNOLOGIA EM MATERIAIS COMPOSITOS LTDA"
                ],
                [
                  "32256.40",
                  "KERSYS DESENVOLVIMENTO DE SISTEMAS LTDA ME"
                ],
                [
                  "31764.60",
                  "RIZOBIOMA BRASIL TECNOLOGIA MICROBIANA LTDA"
                ],
                [
                  "30112.02",
                  "CENTRO CIENCIAS BIOLOGICAS SAUDE/UNICSUL"
                ],
                [
                  "30074.86",
                  "CT INFANTIL INVESTIGACOES HEMATOLOGICAS DR DOMINGOS BOLDRINI/CIB"
                ],
                [
                  "29993.74",
                  "PRO REITORIA PESQUISA POS-GRADUACAO EXTENSAO/PUCCAMPINAS"
                ],
                [
                  "29509.90",
                  "NUCLEO ESTUDOS GENERO/UNICAMP"
                ],
                [
                  "29316.10",
                  "UNIV SAO FRANCISCO CAMPUS CAMPINAS/USF"
                ],
                [
                  "29238.70",
                  "PRO REITORIA ACADEMICA CAMPUS SEDE/UMC"
                ],
                [
                  "29225.80",
                  "PAULA C DOS SANTOS SUPORTE TECNICO E DESENVOLVIMENTO DE SISTEMAS LTD"
                ],
                [
                  "29026.00",
                  "SANTA SEMENTE LTDA"
                ],
                [
                  "28871.20",
                  "ORBI SERVICOS DE INTERNET EIRELI"
                ],
                [
                  "28746.90",
                  "SUPPLY COMERCIO DE PRODUTOS QUIMICOS LTDA"
                ],
                [
                  "27723.70",
                  "INST PASTEUR SAO PAULO/SSSP"
                ],
                [
                  "27227.58",
                  "FAC CIENCIAS MEDICAS SANTA CASA SAO PAULO/FAVC"
                ],
                [
                  "26889.02",
                  "FAC CIENCIAS AGRARIAS TECNOLOGICAS DRACENA/UNESP"
                ],
                [
                  "26654.40",
                  "SUBITER DIAGNOSTICOS POR IMAGEM LTDA"
                ],
                [
                  "26208.10",
                  "HUNA LTDA"
                ],
                [
                  "26201.55",
                  "HOSP CLINICAS RIBEIRAO PRETO/SSSP"
                ],
                [
                  "25774.60",
                  "ESC CIENCIAS HUMANAS JURIDICAS SOCIAIS/PUCCAMPINAS"
                ],
                [
                  "25304.76",
                  "PRO REITORIA POS GRADUACAO PESQUISA EXTENSAO/UNICID"
                ],
                [
                  "25067.60",
                  "ISGAME INTERNATIONAL SCHOOL OF GAME LTDA"
                ],
                [
                  "24864.80",
                  "AL7 SOLUCOES AO ALUMINIO LTDA ME"
                ],
                [
                  "24736.09",
                  "INST NACIONAL TELECOMUNICACOES/FINATEL"
                ],
                [
                  "24170.30",
                  "EMBRAPA MEIO AMBIENTE/EMBRAPA"
                ],
                [
                  "23831.80",
                  "ORBTY SOLUCOES AMBIENTAIS E ENGENHARIA LTDA"
                ],
                [
                  "23831.80",
                  "JOAO MARCELO ROBAZZI BIGNELLI VALENTE AGUIAR 33617689850"
                ],
                [
                  "23754.40",
                  "ONCODATA SOLUCOES TECNOLOGICAS LTDA"
                ],
                [
                  "23682.69",
                  "ESC SUPERIOR PROPAGANDA MARKETING SAO PAULO/AESPM"
                ],
                [
                  "23448.20",
                  "WETTERLAB LTDA"
                ],
                [
                  "23252.16",
                  "ESC ENGENHARIA MAUA/IMT"
                ],
                [
                  "22756.50",
                  "DOROTH INDUSTRIA COMERCIO E SERVICOS DE INFORMACAO LTDA"
                ],
                [
                  "22178.80",
                  "RTM INFRAESTRUTURA EM TECNOLOGIA DA INFORMACAO EIRELI"
                ],
                [
                  "22178.80",
                  "FINDME TECNOLOGIA LTDA"
                ],
                [
                  "22010.23",
                  "PRO REITORIA ADJUNTA PESQUISA POS GRADUACAO/UNIFRAN"
                ],
                [
                  "21990.97",
                  "FAC MEDICINA MARILIA/SDE"
                ],
                [
                  "21968.04",
                  "SOUZA P&D FARMACEUTICO LTDA"
                ],
                [
                  "21845.89",
                  "FAC ENGENHARIA AGRICOLA/UNICAMP"
                ],
                [
                  "21759.80",
                  "CENTRO PLURIDISCIPLINAR PESQ QUIMICAS BIOLOGICAS AGRICOLAS/UNICAMP"
                ],
                [
                  "21460.20",
                  "BRAZIL BEEF QUALITY LTDA - ME"
                ],
                [
                  "21311.70",
                  "PRO REITORIA PESQUISA POS GRADUACAO/UNOESTE"
                ],
                [
                  "21176.40",
                  "PATRICIA MILANO - ME"
                ],
                [
                  "21176.40",
                  "SANTA MARTHA AGRO LTDA - ME"
                ],
                [
                  "21176.40",
                  "METEOIA DATASCIENCE LTDA"
                ],
                [
                  "21176.40",
                  "PROTOLAB LABORATORIO DE PROPRIEDADES TERMOFISICAS PROTOTIPACAO LTDA"
                ],
                [
                  "21176.40",
                  "EPL EMPRESA PRODUTORA DE INOVACOES TECNOLOGICAS LTDA"
                ],
                [
                  "21176.40",
                  "TRAPA CAMERA EQUIPAMENTOS ELETRONICOS PARA PRESERVAGCO DA FAUNA LTDA"
                ],
                [
                  "21176.40",
                  "RENAFLORA RECURSOS NATURAIS INOVA SIMPLES (I.S.)"
                ],
                [
                  "20821.80",
                  "ENDLESS GREEN TECHNOLOGY LTDA"
                ],
                [
                  "20725.80",
                  "INST JO CLEMENTE/APAESP"
                ],
                [
                  "20501.58",
                  "FAC CIENCIAS SOCIAIS/PUCSP"
                ],
                [
                  "20467.20",
                  "52.580.092 INOVA SIMPLES (I.S.)"
                ],
                [
                  "20467.20",
                  "52.864.792 FABIANE TEIXEIRA DE JESUS"
                ],
                [
                  "20336.62",
                  "FAC ENGENHARIA SAO JOAO BOA VISTA/UNESP"
                ],
                [
                  "20249.45",
                  "APTA REGIONAL DDD/SAASP"
                ],
                [
                  "19959.20",
                  "INST ECONOMIA/UNICAMP"
                ],
                [
                  "19907.00",
                  "AURHORA ANALISES QUIMICAS LTDA"
                ],
                [
                  "19907.00",
                  "MULTISCALE SOLUTIONS TECNOLOGIA E CONSULTORIA LTDA"
                ],
                [
                  "19907.00",
                  "AGRIO TECNOLOGIA LTDA"
                ],
                [
                  "19907.00",
                  "VILLAS BOAS & LOPES PESQUISA EXPERIMENTAL LTDA"
                ],
                [
                  "19831.70",
                  "CENTRO TERAPIA CELULAR MOLECULAR/UNIFESP"
                ],
                [
                  "19429.57",
                  "CAMPUS SAO PAULO/IFSP"
                ],
                [
                  "18916.40",
                  "BALTIERE INDUSTRIA COMERCIO EXPORTACAO E IMPORTACAO LTDA"
                ],
                [
                  "18637.80",
                  "FAC CIENCIAS SOCIAIS APLICADAS/UFLA"
                ],
                [
                  "18637.60",
                  "HUMANIZADAS DESENVOLVIMENTO DE SOFTWARE LTDA"
                ],
                [
                  "18637.60",
                  "CENTRO DE TREINAMENTO E INOVACAO EM BIOFABRICACAO 3D LTDA"
                ],
                [
                  "18278.80",
                  "ITECH SOLUCOES LTDA"
                ],
                [
                  "18086.32",
                  "CENTRO UNIVERSITARIO FMABC/FUABC"
                ],
                [
                  "17630.20",
                  "ESC MATEMATICA APLICADA/FGV"
                ],
                [
                  "17596.20",
                  "CENTRO EDUCACAO FILOSOFIA TEOLOGIA/UPM"
                ],
                [
                  "17508.10",
                  "CENTRO CIENCIAS SOCIAIS APLICADAS/UFS"
                ],
                [
                  "17184.50",
                  "INST BIOLOGICO SAO PAULO/SAASP"
                ],
                [
                  "17168.40",
                  "MAGNITUD DESENVOLVIMENTO DE TALENTOS LTDA"
                ],
                [
                  "17168.40",
                  "BYMYCELL INOVA SIMPLES LTDA"
                ],
                [
                  "17018.20",
                  "SIGRIA SOLUCOES EM INVESTIMENTOS E EMPRISTIMOS RURAIS LTDA"
                ],
                [
                  "17018.20",
                  "TERRA AZUL TECNOLOGIA DE POLIMEROS NATURAIS LTDA"
                ],
                [
                  "17018.20",
                  "BIO.INN LTDA"
                ],
                [
                  "17018.20",
                  "KRABS DESENVOLVIMENTO EM BIOTECNOLOGIA LTDA"
                ],
                [
                  "17018.20",
                  "MIRSCIENCE THERAPEUTICS SERVICOS DE PESQUISA E DESENVOLVIMENTO LTDA"
                ],
                [
                  "17018.20",
                  "FISIOATUAL COMERCIO ATACADISTA EQUIPAMENTOS MEDICO HOSPITALARES LTDA"
                ],
                [
                  "16965.60",
                  "FAC MEDICINA VETERINARIA ARACATUBA/UNESP"
                ],
                [
                  "16930.40",
                  "INST FISICA/UFF"
                ],
                [
                  "16889.30",
                  "ALEXANDRE GRELUK SZYKMAN 38040489865"
                ],
                [
                  "16818.27",
                  "INST BIOTECNOLOGIA/UNESP"
                ],
                [
                  "16817.80",
                  "PRO REITORIA PESQUISA POS GRADUACAO/UPM"
                ],
                [
                  "16614.00",
                  "CENTRO PESQ METEOROLOGICAS CLIMATICAS APLICADAS AGRICULTURA/UNICAMP"
                ],
                [
                  "16350.00",
                  "CENTRO MULTIDISCIPLINAR INVESTIGACAO BIOLOGICA/UNICAMP"
                ],
                [
                  "15748.80",
                  "BLOX - SISTEMA GAMIFICADO DE EDUCACAO POR COMPETENCIA LTDA"
                ],
                [
                  "15748.80",
                  "SLEEPUP TECNOLOGIA EM SAUDE LTDA"
                ],
                [
                  "15705.00",
                  "CAROLINA CINTO DE MORAES 36924453856"
                ],
                [
                  "15513.16",
                  "NATCROM SOLUCOES SUSTENTAVEIS LTDA"
                ],
                [
                  "15420.10",
                  "HARPIA HEALTH SOLUTIONS LTDA"
                ],
                [
                  "15313.60",
                  "INST INFORMATICA/UFRGS"
                ],
                [
                  "15263.10",
                  "PROTECH PESQUISA E DESENVOLVIMENTO LTDA"
                ],
                [
                  "15247.80",
                  "XYZ MOLECULAR TARGET LTDA"
                ],
                [
                  "15069.00",
                  "DEFENSE FERTILIZER LTDA"
                ],
                [
                  "14908.80",
                  "FAC FILOSOFIA COMUNICACAO LETRAS ARTES/PUCSP"
                ],
                [
                  "14836.90",
                  "CENTRO ESTUDOS VENENO ANIMAIS PECONHENTOS/UNESP"
                ],
                [
                  "14596.50",
                  "SOC BENEFICENTE ISRAELITA BRASILEIRA HOSP ALBERT EINSTEIN/SBIBAE"
                ],
                [
                  "14513.00",
                  "BIOBREYER PESQUISA E DESENVOLVIMENTO CIENTIFICO LTDA"
                ],
                [
                  "14513.00",
                  "BIOTECH BUSINESS BIOTECHNOLOGY SOLUTIONS LTDA"
                ],
                [
                  "14513.00",
                  "INNANO TECNOLOGIA LTDA"
                ],
                [
                  "14513.00",
                  "INVENT BIOTECNOLOGIA LTDA ME"
                ],
                [
                  "14513.00",
                  "SC CONDI ASSESSORIA INDUSTRIAL"
                ],
                [
                  "14513.00",
                  "GEN&VITA INOVA SIMPLES (I.S.)"
                ],
                [
                  "14315.72",
                  "TIAGO MILANIN 33733312856"
                ],
                [
                  "13716.90",
                  "HOSP REABILITACAO ANOMALIAS CRANIOFACIAIS/USP"
                ],
                [
                  "13716.80",
                  "UNIDADE ACADEMICA DE PESQUISA POS GRADUACAO/UNISINO"
                ],
                [
                  "13694.60",
                  "45.993.313 INOVA SIMPLES (I.S.)"
                ],
                [
                  "13243.60",
                  "VETRA PESQUISA DESENVOLVIMENTO PRODUTOS CERAMICOS DE ALTA TECNOLOGIA"
                ],
                [
                  "12837.30",
                  "VICE REITORIA PESQUISA POS GRADUACAO/UNIP"
                ],
                [
                  "12780.90",
                  "CENTRO CIENCIAS TECNOLOGICAS/UNIFOR"
                ],
                [
                  "12697.40",
                  "DANIEL SILVA ANTONELO PESQUISA E DESENVOLVIMENTO CIENTIFICO"
                ],
                [
                  "12607.30",
                  "BLATRON TECNOLOGIA LTDA"
                ],
                [
                  "12533.80",
                  "DRC ADMINISTRACAO TREINAMENTO E CONSULTORIA LTDA"
                ],
                [
                  "12460.50",
                  "INST PESQUISAS TECNOLOGICAS ESTADO SAO PAULO/SDE"
                ],
                [
                  "12425.20",
                  "SYNBD PESQUISA DESENVOLVIMENTO E PRODUCAO DE INSUMOS FARMACEUTICOS"
                ],
                [
                  "12256.20",
                  "50.211.381 INOVA SIMPLES (I.S.)"
                ],
                [
                  "12254.60",
                  "SMART CONSULTORIA AGRONOMICA E SERVICOS AGRICOLAS LTDA"
                ],
                [
                  "12226.30",
                  "UNIV SAO FRANCISCO CAMPUS ITATIBA/USF"
                ],
                [
                  "12143.60",
                  "INST ADOLFO LUTZ/SSSP"
                ],
                [
                  "12141.40",
                  "IDEELAB BIOTECNOLOGIA S/A"
                ],
                [
                  "12141.40",
                  "VIGILANTES DO SONO QUALIDADE DE VIDA E TECNOLOGIA LTDA"
                ],
                [
                  "12141.40",
                  "BIOMONETIZE - VALORACAO E MONETIZACAO DE SERVICOS AMBIENTAIS LTDA"
                ],
                [
                  "12141.40",
                  "INST PASTEUR SAO PAULO/IPSP"
                ],
                [
                  "12141.40",
                  "BRAZILIAN NANO FEED PESQUISA E DESENVOLVIMENTO DE ADITIVOS LTDA"
                ],
                [
                  "12047.39",
                  "INST CRIANCA/SSSP"
                ],
                [
                  "11957.70",
                  "FAC DIREITO RIBEIRAO PRETO/USP"
                ],
                [
                  "11698.60",
                  "SOFIEN SOLUCOES TECNOLOGICAS PARA AGROINDUSTRIA LTDA"
                ],
                [
                  "11698.60",
                  "HI SOLUCOES EM SAUDE LTDA"
                ],
                [
                  "11539.60",
                  "ECOTRACE TECNOLOGIA DA INFORMACAO S A"
                ],
                [
                  "11495.30",
                  "BIOTECHNO SCIENCE FARMACEUTICA"
                ],
                [
                  "11252.50",
                  "SINAPSIS INOVACAO EM ENERGIA SS LTDA"
                ],
                [
                  "11144.20",
                  "NAZARE & PETRONIO PESQ DESENV EXPERIMENTAL CIENCIAS FISICAS NATURAIS"
                ],
                [
                  "11144.20",
                  "LUPULO TROPICAL CONSULTORIA E PESQUISA LTDA"
                ],
                [
                  "10676.90",
                  "3DTIME SOLUCOES TRIDIMENSIONAIS LTDA ME"
                ],
                [
                  "10588.20",
                  "BIOATIVA PESQUISAS E COMPOSTOS BIOATIVOS LTDA"
                ],
                [
                  "10588.20",
                  "RELOAD HEALTH DEVICES LTDA"
                ],
                [
                  "10588.20",
                  "BRASILBIOTEC - PESQUISA E DESENVOLVIMENTO LTDA"
                ],
                [
                  "10588.20",
                  "MICROBIOMEX BIOTECNOLOGIA E SOLUCOES MICROBIANAS LTDA"
                ],
                [
                  "10588.20",
                  "FAZ VERDE SOLUCOES AMBIENTAIS LTDA"
                ],
                [
                  "10588.20",
                  "ALCHEMYPET MEDICINA DIAGNOSTICA VETERINARIA LTDA"
                ],
                [
                  "10588.20",
                  "MARZIEH KADIVAR 24096777897"
                ],
                [
                  "10588.20",
                  "MONERA AGROCENCIA INOVA SIMPLES (I.S)"
                ],
                [
                  "10588.20",
                  "IMUNODOT - INDUSTRIA E PESQUISA DE PRODUTOS PARA DIAGNOSTICO LTDA-ME"
                ],
                [
                  "10588.20",
                  "GUSTAVO TRINDADE VALIO 35540175824"
                ],
                [
                  "10588.20",
                  "FLUXOFARMA PESQUISA E DESENVOLVIMENTO LTDA"
                ],
                [
                  "10588.20",
                  "UP BIOPRODUTOS LTDA"
                ],
                [
                  "10588.20",
                  "VALORA MADEIRA CLASSIFICACAO E INSPECAO LTDA"
                ],
                [
                  "10588.20",
                  "R&R NOVABIO PESQUISA E DESENVOLVIMENTO EM CIENCIAS NATURAIS LTDA"
                ],
                [
                  "10588.20",
                  "FALCAO HIGHTEC SOLUTION LTDA"
                ],
                [
                  "10588.20",
                  "IMUNOTERA SOLUCOES TERAPEUTICAS LTDA"
                ],
                [
                  "10588.20",
                  "POLI INK LTDA"
                ],
                [
                  "10588.20",
                  "LINAX COMERCIO DE OLEOS ESSENCIAIS LTDA"
                ],
                [
                  "10588.20",
                  "DIRAC INOVACOES TECNOLOGICAS LTDA"
                ],
                [
                  "10588.20",
                  "ANDRE ALMEIDA SILVA"
                ],
                [
                  "10588.20",
                  "TECCER INDUSTRIA E COMERCIO DE PRODUTOS CERAMICOS LTDA"
                ],
                [
                  "10588.20",
                  "I.RAD.PARTICLE INOVA SIMPLES (I.S.)"
                ],
                [
                  "10588.20",
                  "PRUDENCIATTI E RIBEIRO PESQUISA E DESENVOLVIMENTO LTDA"
                ],
                [
                  "10588.20",
                  "ICTIOLOGICA CONSULTORIA AMBIENTAL LTDA"
                ],
                [
                  "10588.20",
                  "MIRA PESQUISA E DESENVOLVIMENTO LTDA ME"
                ],
                [
                  "10588.20",
                  "TCARBON DIAMOND IND LTDA"
                ],
                [
                  "10513.20",
                  "SELF APLICACOES TECNOLOGICAS PARA SAUDE EDUCACAO E BEM ESTAR LTDA"
                ],
                [
                  "10354.80",
                  "F J V DA SILVA TECNOLOGIA INFORMACAO LTDA"
                ],
                [
                  "10198.50",
                  "HOSP BENEFICENCIA PORTUGUESA SAO PAULO/RBAPB"
                ],
                [
                  "10198.50",
                  "ESC CIENCIAS AGRARIAS/UFLA"
                ],
                [
                  "10101.52",
                  "UNIV RIBEIRAO PRETO CAMPUS RIBEIRAO PRETO/UNAERP"
                ],
                [
                  "9778.50",
                  "FAC MEDICINA JUNDIAI/FMJ"
                ],
                [
                  "9617.06",
                  "CENTRO UNIVERSITARIO FEI CAMPUS SAO BERNARDO CAMPO/UNIFEI"
                ],
                [
                  "9583.90",
                  "CENTRO ESTUDOS OPINIAO PUBLICA/UNICAMP"
                ],
                [
                  "9318.90",
                  "CENTRO TECNOLOGIA INFORMACAO RENATO ARCHER/MCTI"
                ],
                [
                  "9318.90",
                  "AGENCIA PAULISTA TECNOLOGIA AGRONEGOCIOS/SAASP"
                ],
                [
                  "9318.90",
                  "INST BIOLOGICO CAMPINAS/SAASP"
                ],
                [
                  "9318.90",
                  "NUCLEO INTERDISCIPLINAR COMUNICACAO SONORA/UNICAMP"
                ],
                [
                  "9318.90",
                  "UNIV NOVE JULHO CAMPUS VERGUEIRO/UNINOVE"
                ],
                [
                  "9318.90",
                  "PRO REITORIA POS GRADUACAO/UFLA"
                ],
                [
                  "9318.90",
                  "CENTRO TECNOLOGIA/UFPI"
                ],
                [
                  "9318.90",
                  "PRO REITORIA POS GRADUACAO/PUCSP"
                ],
                [
                  "9318.80",
                  "INFOPRECOS S A"
                ],
                [
                  "9318.80",
                  "DSMA DESENVOLVIMENTO SUSTENTAVEL E MONITORAMENTO AMBIENTAL LTDA"
                ],
                [
                  "9318.80",
                  "NOVO GAS PROJETOS DE ENERGIA RENOVAVEL LTDA"
                ],
                [
                  "9318.80",
                  "ALBERTO O FARRILL VANNINI PESSINA - ME"
                ],
                [
                  "9318.80",
                  "BINAHKI SOLUCOES TECNOLOGICAS LTDA"
                ],
                [
                  "9318.80",
                  "VERDAZ GESTAO SUSTENTAVEL E CONSULTORIA AMBIENTAL LTDA"
                ],
                [
                  "9318.80",
                  "SENSE PLUS CONSULTORIA E DESENVOLVIMENTO LTDA - ME"
                ],
                [
                  "9220.40",
                  "FAC MEDICINA/UNOESTE"
                ],
                [
                  "9123.70",
                  "IN SITU TERAPIA CELULAR LTDA"
                ],
                [
                  "9041.60",
                  "LIVING OUT LABORATORIO DE TESTES CELULARES IN VITRO LTDA"
                ],
                [
                  "8980.30",
                  "FAC CIENCIAS AGRARIAS/UNOESTE"
                ],
                [
                  "8703.76",
                  "ESC CIENCIAS VIDA/PUCCAMPINAS"
                ],
                [
                  "7983.20",
                  "OPTARIUM COMERCIO DE ARTIGOS DE OPTICA EIRELI - ME"
                ],
                [
                  "7932.36",
                  "UNIV SANTO AMARO/UNISA"
                ],
                [
                  "7916.40",
                  "CENTRO ATENCAO INTEGRAL SAUDE MULHER/UNICAMP"
                ],
                [
                  "7849.60",
                  "FAC COMPUTACAO/UFU"
                ],
                [
                  "7849.60",
                  "NAIAD DESENVOLVIMENTO COMPUTACIONAL DE FARMACOS LTDA"
                ],
                [
                  "7849.60",
                  "CONNECTING BLOCKS CONSULTORIA LTDA"
                ],
                [
                  "7849.60",
                  "LINKAGES DESENVOLVIMENTO EMPRESARIAL LTDA"
                ],
                [
                  "7780.40",
                  "STHENOS INOVACOES EM SAUDE LTDA"
                ],
                [
                  "7729.07",
                  "ADB PESQUISA E DESENVOLVIMENTO LTDA"
                ],
                [
                  "7611.60",
                  "FAC ECONOMIA ADMINISTRACAO CONTABILIDADE RIBEIRAO PRETO/USP"
                ],
                [
                  "7570.82",
                  "PRO REITORIA PESQUISA POS GRADUACAO/PUCCAMPINAS"
                ],
                [
                  "7570.50",
                  "BSV ROBOTICS LTDA"
                ],
                [
                  "7570.50",
                  "SOLUCOES TECNOLOGICAS PARA O APERFEICOAMENTO DA ACADEMIA LTDA"
                ],
                [
                  "7570.50",
                  "NOCK - PESQUISA E DESENVOLVIMENTO DE EQUIPAMENTOS ESTERILIZACAO LTDA"
                ],
                [
                  "7570.50",
                  "MICROONDAS DESENVOLVIMENTO E TECNOLOGIAS LTDA"
                ],
                [
                  "7570.50",
                  "TR TECNOLOGIA EM RADARES LTDA"
                ],
                [
                  "7570.50",
                  "MODELWORKS ENGENHARIA LTDA - ME"
                ],
                [
                  "7570.50",
                  "BUZZ FLY P&D EM ALIMENTACAO ANIMAL S A"
                ],
                [
                  "7276.00",
                  "CENTRO INFORMATICA/UFPE"
                ],
                [
                  "7191.90",
                  "INST SUPERIOR EDUCACAO SAO PAULO/ISESP"
                ],
                [
                  "7036.80",
                  "FAC ENGENHARIA CIENCIAS ROSANA/UNESP"
                ],
                [
                  "7031.20",
                  "AGROBEE SOLUCOES EM POLINIZACAO E SUSTENTABILIDADE LTDA"
                ],
                [
                  "6670.00",
                  "T DE MORAES ALVES ARQUITETURA"
                ],
                [
                  "6523.16",
                  "CENTRO TECNICO CIENTIFICO/PUCRIO"
                ],
                [
                  "6430.00",
                  "CROPMAN INOVACAO TECNOLOGICA E AGRICULTURA DIGITAL LTDA"
                ],
                [
                  "6430.00",
                  "ALJAVA PESQUISA E DESENVOLVIMENTO EXPERIMENTAL EM BIOTECNOLOGIA LTDA"
                ],
                [
                  "6430.00",
                  "JTAG EQUIPAMENTOS MEDICOS LTDA"
                ],
                [
                  "6388.20",
                  "CENTRO CIENCIAS/UFC"
                ],
                [
                  "6157.20",
                  "FAC ENFERMAGEM/UNICAMP"
                ],
                [
                  "6034.00",
                  "NUCLEO ESTUDOS POLITICAS PUBLICAS/UNICAMP"
                ],
                [
                  "6034.00",
                  "42.916.449 ANGELA FAUSTINO JOZALA"
                ],
                [
                  "5684.00",
                  "CENTRO TECNOLOGICO/UFES"
                ],
                [
                  "5565.00",
                  "FAC CIENCIAS SAUDE BARRETOS PAULO PRATA/FACISB"
                ],
                [
                  "5328.34",
                  "FAC CIENCIAS AGRARIAS VALE RIBEIRA/UNESP"
                ],
                [
                  "5177.80",
                  "PRO REITORIA POS GRADUACAO PESQUISA/UNIFESP"
                ],
                [
                  "5116.80",
                  "DALLAS AUTONOMUS LTDA"
                ],
                [
                  "5116.80",
                  "NEXUS CAPITAL LTDA"
                ],
                [
                  "5116.80",
                  "AGRINANO SOLUCOES SUSTENTAVEIS LTDA"
                ],
                [
                  "5116.80",
                  "52.610.027 ARYANNE RODRIGUES DE LIMA COSTA"
                ],
                [
                  "5116.80",
                  "ANDRE ZUFFO BOARATTI 41807621880"
                ],
                [
                  "5116.80",
                  "HUMMAMI PRODUTOS ALIMENTICIOS LTDA"
                ],
                [
                  "5116.80",
                  "52.714.182 LAIZA MARIA DE JESUS SILVA"
                ],
                [
                  "5116.80",
                  "THOTECH SOLUCOES & SERVICOS LTDA"
                ],
                [
                  "5116.80",
                  "SUCCI AVILA LTDA"
                ],
                [
                  "5116.80",
                  "52.816.526 JULIO CESAR EDUARDO DE SOUZA"
                ],
                [
                  "4998.50",
                  "ASSOCIACAO FUNDO INCENTIVO PESQUISA/AFIP"
                ],
                [
                  "4804.40",
                  "INST INFORMATICA/UFG"
                ],
                [
                  "4710.30",
                  "INST ESTUDOS AVANCADOS/DCTA"
                ],
                [
                  "4659.60",
                  "MLA SUPRIMENTOS MEDICOS LTDA"
                ],
                [
                  "4659.60",
                  "INST SAUDE/SSSP"
                ],
                [
                  "4480.80",
                  "GENOTYPING LABORATORIO DE BIOTECNOLOGIA LTDA"
                ],
                [
                  "4480.80",
                  "MICROGENE LTDA"
                ],
                [
                  "4398.00",
                  "HOSP CLINICAS/UNICAMP"
                ],
                [
                  "4118.90",
                  "PLATAFORMA PESQUISA MEDICINA TRANSLACIONAL/FIOCRUZ"
                ],
                [
                  "3924.80",
                  "GOMEZ & GOMEZ LTDA - ME"
                ],
                [
                  "3924.80",
                  "INST TECNOLOGIA/UFPA"
                ],
                [
                  "3924.80",
                  "INST AERONAUTICA ESPACO/DCTA"
                ],
                [
                  "3924.80",
                  "KOSMOSCIENCE CIENCIA TEC COSMETICA IMPORTACAO EXPORTACAO (FILIAL)"
                ],
                [
                  "3805.80",
                  "INST D OR PESQUISA ENSINO SAO PAULO/IDOR"
                ],
                [
                  "3805.80",
                  "NUCLEO ESTUDOS POPULACAO/UNICAMP"
                ],
                [
                  "3805.80",
                  "CENTRO TECNOLOGIA/UFC"
                ],
                [
                  "3805.80",
                  "INST BRASILEIRO CONTROLE CANCER"
                ],
                [
                  "3678.84",
                  "CAMPUS MATAO/IFSP"
                ],
                [
                  "3621.30",
                  "PRO REITORIA PESQUISA POS GRADUACAO/UNITAU"
                ],
                [
                  "3336.00",
                  "RAD-IA INOVA SIMPLES (I.S.)"
                ],
                [
                  "3106.40",
                  "DOM ROCK SERVICOS EM TECNOLOGIA S A"
                ],
                [
                  "2935.24",
                  "UNIDADE MOOCA/USJT"
                ],
                [
                  "2924.10",
                  "ESC ENFERMAGEM/USP"
                ],
                [
                  "2798.80",
                  "CENTRO UNIVERSITARIO FACULDADES INTEGRADAS OURINHOS/FEMM"
                ],
                [
                  "2741.70",
                  "CAMPUS FERNANDOPOLIS/UB"
                ],
                [
                  "2665.20",
                  "CAMPUS CURITIBA/UTFPR"
                ],
                [
                  "2638.80",
                  "FAC GRAN TIETE/IERT"
                ],
                [
                  "2638.80",
                  "FAC TECNOLOGIA SOROCABA/CEETPS"
                ],
                [
                  "2638.80",
                  "INST CIENCIAS ENGENHARIA ITAPEVA/UNESP"
                ],
                [
                  "2638.80",
                  "CAMPUS SAO ROQUE/IFSP"
                ],
                [
                  "2462.88",
                  "INST RADIOLOGIA HOSPITAL CLINICAS SAO PAULO/SSSP"
                ],
                [
                  "2432.80",
                  "FAC EDUCACAO FISICA/UNICAMP"
                ],
                [
                  "1759.20",
                  "CAMPUS ITAPETININGA/IFSP"
                ],
                [
                  "1759.20",
                  "INST CENTRO PESQUISAS SAO LEOPOLDO MANDIC/SLMANDIC"
                ],
                [
                  "1759.20",
                  "CAMPUS OSASCO/UNIFESP"
                ],
                [
                  "1759.20",
                  "ESC PAULISTA ENFERMAGEM/UNIFESP"
                ],
                [
                  "1759.20",
                  "CAMPUS SAO CARLOS/IFSP"
                ],
                [
                  "1759.20",
                  "CENTRO CIENCIAS NATUREZA/UFPI"
                ],
                [
                  "1759.20",
                  "PRO REITORIA POS GRADUACAO PESQUISA/USCS"
                ],
                [
                  "1668.00",
                  "FAC COMPUTACAO INFORMATICA/UPM"
                ],
                [
                  "1553.20",
                  "ESTACAO EXPERIMENTAL AGRONEGOCIO BEBEDOURO/FUPAB"
                ],
                [
                  "1553.20",
                  "METAURA PRESTACAO DE SERVICOS DE PESQUISA E DESENVOLVIMENTO LTDA"
                ],
                [
                  "1553.20",
                  "ECCAPLAN - CONSULTORIA EM DESENVOLVIMENTO SUSTENTAVEL LTDA - ME"
                ],
                [
                  "1435.60",
                  "ESC ECONOMIA NEGOCIOS/PUCCAMPINAS"
                ],
                [
                  "1110.40",
                  "INST CIENCIAS EXATAS NATURAIS/UFPA"
                ],
                [
                  "1079.60",
                  "INST NEUROCIENCIAS COMPORTAMENTO/INEC"
                ],
                [
                  "879.60",
                  "CAMPUS SOROCABA/IFSP"
                ],
                [
                  "879.60",
                  "NUCLEO INTERDISCIPLINAR PESQUISAS TEATRAIS/UNICAMP"
                ],
                [
                  "879.60",
                  "CAMPUS BRAGANCA PAULISTA/IFSP"
                ],
                [
                  "879.60",
                  "CAMPUS BIRIGUI/IFSP"
                ],
                [
                  "879.60",
                  "FAC ARQUITETURA URBANISMO/UPM"
                ],
                [
                  "879.60",
                  "FAC SESI-SP EDUCACAO/SESI"
                ],
                [
                  "879.60",
                  "CAMPUS JACAREI/IFSP"
                ],
                [
                  "879.60",
                  "ESC POLITECNICA/PUCCAMPINAS"
                ],
                [
                  "879.60",
                  "INST MUNICIPAL ENSINO SUPERIOR ASSIS/FEMA"
                ],
                [
                  "879.60",
                  "HOSP CLINICAS PORTO ALEGRE/UFRGS"
                ],
                [
                  "879.60",
                  "REITORIA/UNIFRAN"
                ],
                [
                  "879.60",
                  "CAMPUS AVARE/IFSP"
                ],
                [
                  "879.60",
                  "CAMPUS SAO JOSE DOS CAMPOS/IFSP"
                ],
                [
                  "879.60",
                  "FAC TECNOLOGIA ITAQUERA PROFESSOR MIGUEL REALE/CEETPS"
                ],
                [
                  "879.60",
                  "CAMPUS CARAGUATATUBA/IFSP"
                ],
                [
                  "879.60",
                  "HOSP CLINICAS FACULDADE MEDICINA BOTUCATU/SSSP"
                ],
                [
                  "879.60",
                  "CAMPUS GUARULHOS/IFSP"
                ],
                [
                  "879.60",
                  "ESC LINGUAGEM COMUNICACAO/PUCCAMPINAS"
                ],
                [
                  "879.60",
                  "CAMPUS SERTAOZINHO/IFSP"
                ],
                [
                  "879.60",
                  "PRO REITORIA GRADUACAO/UFSCAR"
                ],
                [
                  "879.60",
                  "CENTRO UNIVERSITARIO SAO CAMILO CAMPUS IPIRANGA/CUSC"
                ],
                [
                  "879.60",
                  "CAMPUS VOTUPORANGA/IFSP"
                ],
                [
                  "556.00",
                  "CLARITY HEALTHCARE DESENVOLVIMENTO DE SOFTWARE LTDA"
                ],
                [
                  "556.00",
                  "CENTRO PESQUISA DOCUMENTACAO HISTORIA CONTEMPORANEA SAO PAULO/FGVSP"
                ],
                [
                  "556.00",
                  "CAMPUS ALEGRETE/UNIPAMPA"
                ]
              ],
              "datasetInfos": [],
              "dbfsResultPath": null,
              "isJsonSchema": true,
              "metadata": {},
              "overflow": false,
              "plotOptions": {
                "customPlotOptions": {},
                "displayType": "table",
                "pivotAggregation": null,
                "pivotColumns": null,
                "xColumns": null,
                "yColumns": null
              },
              "removedWidgets": [],
              "schema": [
                {
                  "metadata": "{}",
                  "name": "TOTAL",
                  "type": "\"decimal(25,2)\""
                },
                {
                  "metadata": "{}",
                  "name": "INSTITUICAO",
                  "type": "\"string\""
                }
              ],
              "type": "table"
            }
          }
        }
      ],
      "source": [
        "#4. Qual instituição recebeu o maior valor de bolsa, somando todos os bolsistas da instituição.\n",
        "\n",
        "instituicao = spark.sql(\"SELECT SUM(PAGAMENTO_EM_06_2024) TOTAL, INSTITUICAO FROM Bolsas GROUP BY INSTITUICAO ORDER BY TOTAL DESC\")\n",
        "display(instituicao)"
      ]
    },
    {
      "cell_type": "markdown",
      "metadata": {
        "application/vnd.databricks.v1+cell": {
          "cellMetadata": {},
          "inputWidgets": {},
          "nuid": "a1396972-a1c5-421d-a6db-f458d6f61389",
          "showTitle": false,
          "title": ""
        },
        "id": "5faQL7D4VDqE"
      },
      "source": [
        "A quarta questão trata dos valores em reais pagos para as instituições e qual a instituição recebeu o maior valor. Como era de se esperar, a instituição com maior número de bolsistas (Instituto de Ciencias Biomédicas da USP) recebeu o maior valor em reais totalizando 2.116.715,69 reais. Nesse ponto é interessante observar que a instituição na posição número 3 (Faculdade de Medicina de Ribeirão Preto / USP), encontra-se na quarta posição na lista de maiores números de bolsistas, desse modo, esse fato pode indicar que esta instiuição contém bolsas com valores maiores ou de mais alto nível que o Centro de Ciencias Exatas e Tecnologia da UFSCar, por exemplo."
      ]
    },
    {
      "cell_type": "code",
      "execution_count": null,
      "metadata": {
        "application/vnd.databricks.v1+cell": {
          "cellMetadata": {
            "byteLimit": 2048000,
            "rowLimit": 10000
          },
          "inputWidgets": {},
          "nuid": "c89a8110-0ad7-4512-816e-4a305832d0e3",
          "showTitle": false,
          "title": ""
        },
        "id": "fKhKVH2tVDqE",
        "outputId": "39842690-fe6f-49eb-ed5d-0d02a747f041"
      },
      "outputs": [
        {
          "output_type": "display_data",
          "data": {
            "text/html": [
              "<style scoped>\n",
              "  .table-result-container {\n",
              "    max-height: 300px;\n",
              "    overflow: auto;\n",
              "  }\n",
              "  table, th, td {\n",
              "    border: 1px solid black;\n",
              "    border-collapse: collapse;\n",
              "  }\n",
              "  th, td {\n",
              "    padding: 5px;\n",
              "  }\n",
              "  th {\n",
              "    text-align: left;\n",
              "  }\n",
              "</style><div class='table-result-container'><table class='table-result'><thead style='background-color: white'><tr><th>TOTAL</th><th>INSTITUICAO</th></tr></thead><tbody><tr><td>55</td><td>FAC FILOSOFIA LETRAS CIENCIAS HUMANAS/USP</td></tr><tr><td>51</td><td>FAC MEDICINA RIBEIRAO PRETO/USP</td></tr><tr><td>50</td><td>INST CIENCIAS BIOMEDICAS/USP</td></tr><tr><td>42</td><td>ESC PAULISTA MEDICINA/UNIFESP</td></tr><tr><td>42</td><td>FAC MEDICINA/USP</td></tr><tr><td>41</td><td>CENTRO CIENCIAS EXATAS TECNOLOGIA/UFSCAR</td></tr><tr><td>41</td><td>INST QUIMICA/UNICAMP</td></tr><tr><td>41</td><td>INST QUIMICA/USP</td></tr><tr><td>40</td><td>INST BIOCIENCIAS/USP</td></tr><tr><td>38</td><td>INST FISICA SAO CARLOS/USP</td></tr><tr><td>35</td><td>FAC FILOSOFIA CIENCIAS LETRAS RIBEIRAO PRETO/USP</td></tr><tr><td>35</td><td>INST BIOLOGIA/UNICAMP</td></tr><tr><td>34</td><td>ESC SUPERIOR AGRICULTURA LUIZ DE QUEIROZ/USP</td></tr><tr><td>31</td><td>INST BUTANTAN/SSSP</td></tr><tr><td>29</td><td>INST FISICA/USP</td></tr><tr><td>27</td><td>INST QUIMICA SAO CARLOS/USP</td></tr><tr><td>26</td><td>INST CIENCIAS MATEMATICAS COMPUTACAO SAO CARLOS/USP</td></tr><tr><td>25</td><td>CENTRO NACIONAL PESQUISA ENERGIA MATERIAIS/MCTI</td></tr><tr><td>25</td><td>FAC CIENCIAS FARMACEUTICAS RIBEIRAO PRETO/USP</td></tr><tr><td>21</td><td>FAC CIENCIAS AGRARIAS VETERINARIAS JABOTICABAL/UNESP</td></tr><tr><td>20</td><td>FAC CIENCIAS TECNOLOGIA PRESIDENTE PRUDENTE/UNESP</td></tr><tr><td>18</td><td>INST MATEMATICA ESTATISTICA/USP</td></tr><tr><td>17</td><td>ESC FILOSOFIA LETRAS CIENCIAS HUMANAS/UNIFESP</td></tr><tr><td>17</td><td>INST BIOCIENCIAS BOTUCATU/UNESP</td></tr><tr><td>16</td><td>ESC POLITECNICA/USP</td></tr><tr><td>15</td><td>FAC ZOOTECNIA ENGENHARIA ALIMENTOS/USP</td></tr><tr><td>15</td><td>INST FISICA GLEB WATAGHIN/UNICAMP</td></tr><tr><td>14</td><td>ESC ADMINISTRACAO EMPRESAS SAO PAULO/FGVSP</td></tr><tr><td>14</td><td>FAC SAUDE PUBLICA/USP</td></tr><tr><td>14</td><td>FAC CIENCIAS APLICADAS/UNICAMP</td></tr><tr><td>14</td><td>INST ESTUDOS AVANCADOS/USP</td></tr><tr><td>14</td><td>FAC CIENCIAS MEDICAS/UNICAMP</td></tr><tr><td>14</td><td>ESC ENGENHARIA SAO CARLOS/USP</td></tr><tr><td>13</td><td>CENTRO CIENCIAS NATURAIS HUMANAS/UFABC</td></tr><tr><td>12</td><td>FAC CIENCIAS FARMACEUTICAS/USP</td></tr><tr><td>12</td><td>INST ASTRONOMIA GEOFISICA CIENCIAS ATMOSFERICAS/USP</td></tr><tr><td>12</td><td>EMBRAPA INSTRUMENTACAO AGROPECUARIA/EMBRAPA</td></tr><tr><td>12</td><td>INST PSICOLOGIA/USP</td></tr><tr><td>12</td><td>INST FISICA TEORICA/UNESP</td></tr><tr><td>12</td><td>INST BIOCIENCIAS RIO CLARO/UNESP</td></tr><tr><td>12</td><td>CENTRO CIENCIAS BIOLOGICAS SAUDE/UFSCAR</td></tr><tr><td>12</td><td>INST QUIMICA ARARAQUARA/UNESP</td></tr><tr><td>11</td><td>CENTRO BIOLOGIA MOLECULAR ENGENHARIA GENETICA/UNICAMP</td></tr><tr><td>11</td><td>CENTRO EDUCACAO CIENCIAS HUMANAS/UFSCAR</td></tr><tr><td>11</td><td>INST MATEMATICA ESTATISTICA COMPUTACAO CIENTIFICA/UNICAMP</td></tr><tr><td>11</td><td>CENTRO BRASILEIRO ANALISE PLANEJAMENTO/CEBRAP</td></tr><tr><td>11</td><td>INST OCEANOGRAFICO/USP</td></tr><tr><td>10</td><td>CENTRO ENERGIA NUCLEAR AGRICULTURA/USP</td></tr><tr><td>10</td><td>INST BIOCIENCIAS LETRAS CIENCIAS EXATAS SAO JOSE RIO PRETO/UNESP</td></tr><tr><td>10</td><td>INST GEOCIENCIAS/UNICAMP</td></tr><tr><td>10</td><td>INST GEOCIENCIAS/USP</td></tr><tr><td>9</td><td>INST NACIONAL PESQUISAS ESPACIAIS/MCTI</td></tr><tr><td>9</td><td>CENTRO ENGENHARIA MODELAGEM CIENCIAS SOCIAIS APLICADAS/UFABC</td></tr><tr><td>8</td><td>FAC CIENCIAS FARMACEUTICAS ARARAQUARA/UNESP</td></tr><tr><td>8</td><td>INST CIENCIAS AMBIENTAIS QUIMICAS FARMACEUTICAS/UNIFESP</td></tr><tr><td>8</td><td>FAC ARQUITETURA URBANISMO/USP</td></tr><tr><td>8</td><td>FAC CIENCIAS BAURU/UNESP</td></tr><tr><td>8</td><td>INST CORACAO DO HOSP CLINICAS SAO PAULO/SSSP</td></tr><tr><td>8</td><td>FAC MEDICINA VETERINARIA ZOOTECNIA/USP</td></tr><tr><td>7</td><td>FAC ODONTOLOGIA BAURU/USP</td></tr><tr><td>7</td><td>FAC ENGENHARIA ALIMENTOS/UNICAMP</td></tr><tr><td>7</td><td>INST ESTUDOS LINGUAGEM/UNICAMP</td></tr><tr><td>7</td><td>INST FILOSOFIA CIENCIAS HUMANAS/UNICAMP</td></tr><tr><td>6</td><td>INST GEOCIENCIAS CIENCIAS EXATAS RIO CLARO/UNESP</td></tr><tr><td>6</td><td>DIVISAO CIENCIAS FUNDAMENTAIS/ITA</td></tr><tr><td>6</td><td>FAC ENGENHARIA MECANICA/UNICAMP</td></tr><tr><td>6</td><td>MUSEU ZOOLOGIA/USP</td></tr><tr><td>6</td><td>CENTRO MATEMATICA COMPUTACAO COGNICAO/UFABC</td></tr><tr><td>6</td><td>INST AGRONOMICO CAMPINAS/SAASP</td></tr><tr><td>6</td><td>FAC ENGENHARIA ELETRICA COMPUTACAO/UNICAMP</td></tr><tr><td>6</td><td>MUSEU ARQUEOLOGIA ETNOLOGIA/USP</td></tr><tr><td>6</td><td>INST CIENCIA TECNOLOGIA/UNIFESP</td></tr><tr><td>6</td><td>ESC ARTES CIENCIAS HUMANIDADES/USP</td></tr><tr><td>5</td><td>INST SAUDE SOCIEDADE/UNIFESP</td></tr><tr><td>5</td><td>INSPER INST ENSINO PESQUISA/INSPER</td></tr><tr><td>5</td><td>ESC ENGENHARIA LORENA/USP</td></tr><tr><td>5</td><td>EMBRAPA AGRICULTURA DIGITAL/EMBRAPA</td></tr><tr><td>5</td><td>FAC EDUCACAO/UNICAMP</td></tr><tr><td>5</td><td>FAC ODONTOLOGIA RIBEIRAO PRETO/USP</td></tr><tr><td>5</td><td>INST MAR/UNIFESP</td></tr><tr><td>5</td><td>FAC ENGENHARIA GUARATINGUETA/UNESP</td></tr><tr><td>5</td><td>FAC CIENCIAS AGRONOMICAS BOTUCATU/UNESP</td></tr><tr><td>4</td><td>HOSP UNIVERSITARIO/USP</td></tr><tr><td>4</td><td>INST ZOOTECNIA/SAASP</td></tr><tr><td>4</td><td>ESC ENFERMAGEM RIBEIRAO PRETO/USP</td></tr><tr><td>4</td><td>FAC CIENCIAS LETRAS ASSIS/UNESP</td></tr><tr><td>4</td><td>INST COMPUTACAO/UNICAMP</td></tr><tr><td>4</td><td>EMBRAPA PECUARIA SUDESTE/EMBRAPA</td></tr><tr><td>4</td><td>FAC ODONTOLOGIA/USP</td></tr><tr><td>4</td><td>INST CIENCIA TECNOLOGIA SOROCABA/UNESP</td></tr><tr><td>4</td><td>CENTRO HEMATOLOGIA HEMOTERAPIA HEMOCENTRO/UNICAMP</td></tr><tr><td>4</td><td>CENTRO AQUICULTURA JABOTICABAL/UNESP</td></tr><tr><td>4</td><td>HOSP CANCER BARRETOS/FP</td></tr><tr><td>4</td><td>HOSP SIRIO LIBANES/SBSHSL</td></tr><tr><td>4</td><td>ESC COMUNICACOES ARTES/USP</td></tr><tr><td>3</td><td>FAC ENGENHARIA ILHA SOLTEIRA/UNESP</td></tr><tr><td>3</td><td>FAC EDUCACAO/USP</td></tr><tr><td>3</td><td>INST PESCA/SAASP</td></tr><tr><td>3</td><td>FAC DIREITO/USP</td></tr><tr><td>3</td><td>FAC CIENCIAS FARMACEUTICAS/UNICAMP</td></tr><tr><td>3</td><td>INST MACKENZIE PESQUISAS GRAFENO NANOTECNOLOGIAS/UPM</td></tr><tr><td>3</td><td>INST ISRAELITA ENSINO PESQUISA ALBERT EINSTEIN/SBIBAE</td></tr><tr><td>3</td><td>FAC ODONTOLOGIA PIRACICABA/UNICAMP</td></tr><tr><td>3</td><td>NUCLEO ESTUDOS GENERO/UNICAMP</td></tr><tr><td>3</td><td>INST PSIQUIATRIA/SSSP</td></tr><tr><td>3</td><td>INST CIENCIA TECNOLOGIA SAO JOSE CAMPOS/UNESP</td></tr><tr><td>3</td><td>FAC CIENCIAS LETRAS ARARAQUARA/UNESP</td></tr><tr><td>3</td><td>A C CAMARGO CANCER CENTER/FAP</td></tr><tr><td>3</td><td>CENTRO CIENCIAS NATUREZA/UFSCAR</td></tr><tr><td>3</td><td>FUND HEMOCENTRO RIBEIRAO PRETO/SSSP</td></tr><tr><td>3</td><td>INST TECNOLOGIA ALIMENTOS/SAASP</td></tr><tr><td>3</td><td>INST PESQUISAS AMBIENTAIS/SIMA</td></tr><tr><td>3</td><td>NUCLEO ESTUDOS PESQUISAS AMBIENTAIS/UNICAMP</td></tr><tr><td>3</td><td>FAC ODONTOLOGIA ARARAQUARA/UNESP</td></tr><tr><td>3</td><td>INST ARTES/UNICAMP</td></tr><tr><td>2</td><td>INST ARTES SAO PAULO/UNESP</td></tr><tr><td>2</td><td>FAC CIENCIAS ENGENHARIA TUPA/UNESP</td></tr><tr><td>2</td><td>FAC FILOSOFIA CIENCIAS MARILIA/UNESP</td></tr><tr><td>2</td><td>INST ARQUITETURA URBANISMO SAO CARLOS/USP</td></tr><tr><td>2</td><td>CENTRO CIENCIAS AGRARIAS/UFSCAR</td></tr><tr><td>2</td><td>UNIV SAO FRANCISCO CAMPUS CAMPINAS/USF</td></tr><tr><td>2</td><td>ESC EDUCACAO FISICA ESPORTE/USP</td></tr><tr><td>2</td><td>INST PESQUISA BIOENERGIA UNESP/UNESP</td></tr><tr><td>2</td><td>ESC ENGENHARIA/UPM</td></tr><tr><td>2</td><td>FAC CIENCIAS SOCIAIS APLICADAS/UFLA</td></tr><tr><td>2</td><td>FAC MEDICINA BOTUCATU/UNESP</td></tr><tr><td>2</td><td>CENTRO CIENCIAS BIOLOGICAS SAUDE/UPM</td></tr><tr><td>2</td><td>CENTRO LOGICA EPISTEMOLOGIA HISTORIA CIENCIA/UNICAMP</td></tr><tr><td>2</td><td>FAC ENGENHARIA QUIMICA/UNICAMP</td></tr><tr><td>2</td><td>INST CIENCIAS EXATAS/UFMG</td></tr><tr><td>2</td><td>INST ENERGIA AMBIENTE/USP</td></tr><tr><td>2</td><td>INST NACIONAL TELECOMUNICACOES/FINATEL</td></tr><tr><td>2</td><td>HOSP CLINICAS SAO PAULO/SSSP</td></tr><tr><td>2</td><td>FAC MEDICINA SAO JOSE RIO PRETO/SDE</td></tr><tr><td>2</td><td>MUSEU ARTE CONTEMPORANEA/USP</td></tr><tr><td>2</td><td>INST ESTUDOS BRASILEIROS/USP</td></tr><tr><td>2</td><td>CENTRO BIOLOGIA MARINHA/USP</td></tr><tr><td>2</td><td>MUSEU PAULISTA/USP</td></tr><tr><td>2</td><td>FUND ONCOCENTRO SAO PAULO/SSSP</td></tr><tr><td>2</td><td>DIVISAO ENGENHARIA AERONAUTICA/ITA</td></tr><tr><td>2</td><td>INST FARMACOLOGIA BIOLOGIA MOLECULAR/UNIFESP</td></tr><tr><td>2</td><td>DIVISAO ENGENHARIA MECANICA/ITA</td></tr><tr><td>2</td><td>FAC TECNOLOGIA/UNICAMP</td></tr><tr><td>2</td><td>INST BIOCIENCIAS CAMPUS LITORAL PAULISTA/UNESP</td></tr><tr><td>2</td><td>CENTRO ESTUDOS ENERGIA PETROLEO/UNICAMP</td></tr><tr><td>1</td><td>FAC ENGENHARIA CIVIL ARQUITETURA URBANISMO/UNICAMP</td></tr><tr><td>1</td><td>INST CANCER ESTADO SAO PAULO/SSSP</td></tr><tr><td>1</td><td>CENTRO CIENCIAS GESTAO TECNOLOGIA/UFSCAR</td></tr><tr><td>1</td><td>DIVISAO CIENCIA COMPUTACAO/ITA</td></tr><tr><td>1</td><td>CENTRO CIENCIAS TECNOLOGICAS/UNIFOR</td></tr><tr><td>1</td><td>VICE REITORIA PESQUISA POS GRADUACAO/UNIP</td></tr><tr><td>1</td><td>HOSP REABILITACAO ANOMALIAS CRANIOFACIAIS/USP</td></tr><tr><td>1</td><td>ESC EDUCACAO FISICA ESPORTE RIBEIRAO PRETO/USP</td></tr><tr><td>1</td><td>PRO REITORIA ADJUNTA PESQUISA POS GRADUACAO/UNIFRAN</td></tr><tr><td>1</td><td>INST BIOLOGICO SAO PAULO/SAASP</td></tr><tr><td>1</td><td>CENTRO CIENCIAS SOCIAIS APLICADAS/UFS</td></tr><tr><td>1</td><td>CENTRO PLURIDISCIPLINAR PESQ QUIMICAS BIOLOGICAS AGRICOLAS/UNICAMP</td></tr><tr><td>1</td><td>CENTRO TECNOLOGIA INFORMACAO RENATO ARCHER/MCTI</td></tr><tr><td>1</td><td>FAC CIENCIAS MEDICAS SAUDE/PUCSP</td></tr><tr><td>1</td><td>INST RELACOES INTERNACIONAIS/USP</td></tr><tr><td>1</td><td>INST PESQUISAS TECNOLOGICAS ESTADO SAO PAULO/SDE</td></tr><tr><td>1</td><td>CENTRO ESTUDOS OPINIAO PUBLICA/UNICAMP</td></tr><tr><td>1</td><td>HOSP BENEFICENCIA PORTUGUESA SAO PAULO/RBAPB</td></tr><tr><td>1</td><td>PRO REITORIA POS GRADUACAO PESQUISA EXTENSAO INOVACAO/UNISO</td></tr><tr><td>1</td><td>AGENCIA PAULISTA TECNOLOGIA AGRONEGOCIOS/SAASP</td></tr><tr><td>1</td><td>FAC MEDICINA VETERINARIA ZOOTECNIA BOTUCATU/UNESP</td></tr><tr><td>1</td><td>FAC ARQUITETURA ARTES COMUNICACAO DESIGN BAURU/UNESP</td></tr><tr><td>1</td><td>INST POLITICAS PUBLICAS RELACOES INTERNACIONAIS/UNESP</td></tr><tr><td>1</td><td>NUCLEO DESENVOLVIMENTO CRIATIVIDADE/UNICAMP</td></tr><tr><td>1</td><td>INST BIOLOGICO CAMPINAS/SAASP</td></tr><tr><td>1</td><td>ESC ECONOMIA SAO PAULO/FGVSP</td></tr><tr><td>1</td><td>CENTRO NACIONAL MONITORAMENTO ALERTAS DESASTRES NATURAIS/MCTI</td></tr><tr><td>1</td><td>CAMPUS SAO PAULO/IFSP</td></tr><tr><td>1</td><td>CENTRO INOVACAO UNIVERSIDADE SAO PAULO/USP</td></tr><tr><td>1</td><td>NUCLEO INTERDISCIPLINAR COMUNICACAO SONORA/UNICAMP</td></tr><tr><td>1</td><td>FAC FILOSOFIA COMUNICACAO LETRAS ARTES/PUCSP</td></tr><tr><td>1</td><td>UNIV NOVE JULHO CAMPUS VERGUEIRO/UNINOVE</td></tr><tr><td>1</td><td>ESC CIENCIAS AGRARIAS/UFLA</td></tr><tr><td>1</td><td>FAC CIENCIAS SOCIAIS/PUCSP</td></tr><tr><td>1</td><td>INST PESQUISAS ENERGETICAS NUCLEARES/SDE</td></tr><tr><td>1</td><td>FAC CIENCIAS HUMANAS SAUDE/PUCSP</td></tr><tr><td>1</td><td>PRO REITORIA POS GRADUACAO/UFLA</td></tr><tr><td>1</td><td>FAC CIENCIAS HUMANAS SOCIAIS FRANCA/UNESP</td></tr><tr><td>1</td><td>PRO REITORIA ACADEMICA CAMPUS SEDE/UMC</td></tr><tr><td>1</td><td>CENTRO TERAPIA CELULAR MOLECULAR/UNIFESP</td></tr><tr><td>1</td><td>CENTRO TECNOLOGIA/UFPI</td></tr><tr><td>1</td><td>FAC DIREITO RIBEIRAO PRETO/USP</td></tr><tr><td>1</td><td>FAC ECONOMIA ADMINISTRACAO CONTABILIDADE ATUARIA/USP</td></tr><tr><td>1</td><td>SOC BENEFICENTE ISRAELITA BRASILEIRA HOSP ALBERT EINSTEIN/SBIBAE</td></tr><tr><td>1</td><td>CENTRO CIENCIAS HUMANAS BIOLOGICAS/UFSCAR</td></tr><tr><td>1</td><td>ESC DIREITO SAO PAULO/FGVSP</td></tr><tr><td>1</td><td>INST ECONOMIA/UNICAMP</td></tr><tr><td>1</td><td>PRO REITORIA POS GRADUACAO/PUCSP</td></tr><tr><td>1</td><td>CENTRO ESTUDOS AMBIENTAIS/UNESP</td></tr><tr><td>1</td><td>INST PESQUISA DESENVOLVIMENTO/UNIVAP</td></tr><tr><td>1</td><td>UNIV SAO FRANCISCO CAMPUS BRAGANCA PAULISTA/USF</td></tr></tbody></table></div>"
            ]
          },
          "metadata": {
            "application/vnd.databricks.v1+output": {
              "addedWidgets": {},
              "aggData": [],
              "aggError": "",
              "aggOverflow": false,
              "aggSchema": [],
              "aggSeriesLimitReached": false,
              "aggType": "",
              "arguments": {},
              "columnCustomDisplayInfos": {},
              "data": [
                [
                  55,
                  "FAC FILOSOFIA LETRAS CIENCIAS HUMANAS/USP"
                ],
                [
                  51,
                  "FAC MEDICINA RIBEIRAO PRETO/USP"
                ],
                [
                  50,
                  "INST CIENCIAS BIOMEDICAS/USP"
                ],
                [
                  42,
                  "ESC PAULISTA MEDICINA/UNIFESP"
                ],
                [
                  42,
                  "FAC MEDICINA/USP"
                ],
                [
                  41,
                  "CENTRO CIENCIAS EXATAS TECNOLOGIA/UFSCAR"
                ],
                [
                  41,
                  "INST QUIMICA/UNICAMP"
                ],
                [
                  41,
                  "INST QUIMICA/USP"
                ],
                [
                  40,
                  "INST BIOCIENCIAS/USP"
                ],
                [
                  38,
                  "INST FISICA SAO CARLOS/USP"
                ],
                [
                  35,
                  "FAC FILOSOFIA CIENCIAS LETRAS RIBEIRAO PRETO/USP"
                ],
                [
                  35,
                  "INST BIOLOGIA/UNICAMP"
                ],
                [
                  34,
                  "ESC SUPERIOR AGRICULTURA LUIZ DE QUEIROZ/USP"
                ],
                [
                  31,
                  "INST BUTANTAN/SSSP"
                ],
                [
                  29,
                  "INST FISICA/USP"
                ],
                [
                  27,
                  "INST QUIMICA SAO CARLOS/USP"
                ],
                [
                  26,
                  "INST CIENCIAS MATEMATICAS COMPUTACAO SAO CARLOS/USP"
                ],
                [
                  25,
                  "CENTRO NACIONAL PESQUISA ENERGIA MATERIAIS/MCTI"
                ],
                [
                  25,
                  "FAC CIENCIAS FARMACEUTICAS RIBEIRAO PRETO/USP"
                ],
                [
                  21,
                  "FAC CIENCIAS AGRARIAS VETERINARIAS JABOTICABAL/UNESP"
                ],
                [
                  20,
                  "FAC CIENCIAS TECNOLOGIA PRESIDENTE PRUDENTE/UNESP"
                ],
                [
                  18,
                  "INST MATEMATICA ESTATISTICA/USP"
                ],
                [
                  17,
                  "ESC FILOSOFIA LETRAS CIENCIAS HUMANAS/UNIFESP"
                ],
                [
                  17,
                  "INST BIOCIENCIAS BOTUCATU/UNESP"
                ],
                [
                  16,
                  "ESC POLITECNICA/USP"
                ],
                [
                  15,
                  "FAC ZOOTECNIA ENGENHARIA ALIMENTOS/USP"
                ],
                [
                  15,
                  "INST FISICA GLEB WATAGHIN/UNICAMP"
                ],
                [
                  14,
                  "ESC ADMINISTRACAO EMPRESAS SAO PAULO/FGVSP"
                ],
                [
                  14,
                  "FAC SAUDE PUBLICA/USP"
                ],
                [
                  14,
                  "FAC CIENCIAS APLICADAS/UNICAMP"
                ],
                [
                  14,
                  "INST ESTUDOS AVANCADOS/USP"
                ],
                [
                  14,
                  "FAC CIENCIAS MEDICAS/UNICAMP"
                ],
                [
                  14,
                  "ESC ENGENHARIA SAO CARLOS/USP"
                ],
                [
                  13,
                  "CENTRO CIENCIAS NATURAIS HUMANAS/UFABC"
                ],
                [
                  12,
                  "FAC CIENCIAS FARMACEUTICAS/USP"
                ],
                [
                  12,
                  "INST ASTRONOMIA GEOFISICA CIENCIAS ATMOSFERICAS/USP"
                ],
                [
                  12,
                  "EMBRAPA INSTRUMENTACAO AGROPECUARIA/EMBRAPA"
                ],
                [
                  12,
                  "INST PSICOLOGIA/USP"
                ],
                [
                  12,
                  "INST FISICA TEORICA/UNESP"
                ],
                [
                  12,
                  "INST BIOCIENCIAS RIO CLARO/UNESP"
                ],
                [
                  12,
                  "CENTRO CIENCIAS BIOLOGICAS SAUDE/UFSCAR"
                ],
                [
                  12,
                  "INST QUIMICA ARARAQUARA/UNESP"
                ],
                [
                  11,
                  "CENTRO BIOLOGIA MOLECULAR ENGENHARIA GENETICA/UNICAMP"
                ],
                [
                  11,
                  "CENTRO EDUCACAO CIENCIAS HUMANAS/UFSCAR"
                ],
                [
                  11,
                  "INST MATEMATICA ESTATISTICA COMPUTACAO CIENTIFICA/UNICAMP"
                ],
                [
                  11,
                  "CENTRO BRASILEIRO ANALISE PLANEJAMENTO/CEBRAP"
                ],
                [
                  11,
                  "INST OCEANOGRAFICO/USP"
                ],
                [
                  10,
                  "CENTRO ENERGIA NUCLEAR AGRICULTURA/USP"
                ],
                [
                  10,
                  "INST BIOCIENCIAS LETRAS CIENCIAS EXATAS SAO JOSE RIO PRETO/UNESP"
                ],
                [
                  10,
                  "INST GEOCIENCIAS/UNICAMP"
                ],
                [
                  10,
                  "INST GEOCIENCIAS/USP"
                ],
                [
                  9,
                  "INST NACIONAL PESQUISAS ESPACIAIS/MCTI"
                ],
                [
                  9,
                  "CENTRO ENGENHARIA MODELAGEM CIENCIAS SOCIAIS APLICADAS/UFABC"
                ],
                [
                  8,
                  "FAC CIENCIAS FARMACEUTICAS ARARAQUARA/UNESP"
                ],
                [
                  8,
                  "INST CIENCIAS AMBIENTAIS QUIMICAS FARMACEUTICAS/UNIFESP"
                ],
                [
                  8,
                  "FAC ARQUITETURA URBANISMO/USP"
                ],
                [
                  8,
                  "FAC CIENCIAS BAURU/UNESP"
                ],
                [
                  8,
                  "INST CORACAO DO HOSP CLINICAS SAO PAULO/SSSP"
                ],
                [
                  8,
                  "FAC MEDICINA VETERINARIA ZOOTECNIA/USP"
                ],
                [
                  7,
                  "FAC ODONTOLOGIA BAURU/USP"
                ],
                [
                  7,
                  "FAC ENGENHARIA ALIMENTOS/UNICAMP"
                ],
                [
                  7,
                  "INST ESTUDOS LINGUAGEM/UNICAMP"
                ],
                [
                  7,
                  "INST FILOSOFIA CIENCIAS HUMANAS/UNICAMP"
                ],
                [
                  6,
                  "INST GEOCIENCIAS CIENCIAS EXATAS RIO CLARO/UNESP"
                ],
                [
                  6,
                  "DIVISAO CIENCIAS FUNDAMENTAIS/ITA"
                ],
                [
                  6,
                  "FAC ENGENHARIA MECANICA/UNICAMP"
                ],
                [
                  6,
                  "MUSEU ZOOLOGIA/USP"
                ],
                [
                  6,
                  "CENTRO MATEMATICA COMPUTACAO COGNICAO/UFABC"
                ],
                [
                  6,
                  "INST AGRONOMICO CAMPINAS/SAASP"
                ],
                [
                  6,
                  "FAC ENGENHARIA ELETRICA COMPUTACAO/UNICAMP"
                ],
                [
                  6,
                  "MUSEU ARQUEOLOGIA ETNOLOGIA/USP"
                ],
                [
                  6,
                  "INST CIENCIA TECNOLOGIA/UNIFESP"
                ],
                [
                  6,
                  "ESC ARTES CIENCIAS HUMANIDADES/USP"
                ],
                [
                  5,
                  "INST SAUDE SOCIEDADE/UNIFESP"
                ],
                [
                  5,
                  "INSPER INST ENSINO PESQUISA/INSPER"
                ],
                [
                  5,
                  "ESC ENGENHARIA LORENA/USP"
                ],
                [
                  5,
                  "EMBRAPA AGRICULTURA DIGITAL/EMBRAPA"
                ],
                [
                  5,
                  "FAC EDUCACAO/UNICAMP"
                ],
                [
                  5,
                  "FAC ODONTOLOGIA RIBEIRAO PRETO/USP"
                ],
                [
                  5,
                  "INST MAR/UNIFESP"
                ],
                [
                  5,
                  "FAC ENGENHARIA GUARATINGUETA/UNESP"
                ],
                [
                  5,
                  "FAC CIENCIAS AGRONOMICAS BOTUCATU/UNESP"
                ],
                [
                  4,
                  "HOSP UNIVERSITARIO/USP"
                ],
                [
                  4,
                  "INST ZOOTECNIA/SAASP"
                ],
                [
                  4,
                  "ESC ENFERMAGEM RIBEIRAO PRETO/USP"
                ],
                [
                  4,
                  "FAC CIENCIAS LETRAS ASSIS/UNESP"
                ],
                [
                  4,
                  "INST COMPUTACAO/UNICAMP"
                ],
                [
                  4,
                  "EMBRAPA PECUARIA SUDESTE/EMBRAPA"
                ],
                [
                  4,
                  "FAC ODONTOLOGIA/USP"
                ],
                [
                  4,
                  "INST CIENCIA TECNOLOGIA SOROCABA/UNESP"
                ],
                [
                  4,
                  "CENTRO HEMATOLOGIA HEMOTERAPIA HEMOCENTRO/UNICAMP"
                ],
                [
                  4,
                  "CENTRO AQUICULTURA JABOTICABAL/UNESP"
                ],
                [
                  4,
                  "HOSP CANCER BARRETOS/FP"
                ],
                [
                  4,
                  "HOSP SIRIO LIBANES/SBSHSL"
                ],
                [
                  4,
                  "ESC COMUNICACOES ARTES/USP"
                ],
                [
                  3,
                  "FAC ENGENHARIA ILHA SOLTEIRA/UNESP"
                ],
                [
                  3,
                  "FAC EDUCACAO/USP"
                ],
                [
                  3,
                  "INST PESCA/SAASP"
                ],
                [
                  3,
                  "FAC DIREITO/USP"
                ],
                [
                  3,
                  "FAC CIENCIAS FARMACEUTICAS/UNICAMP"
                ],
                [
                  3,
                  "INST MACKENZIE PESQUISAS GRAFENO NANOTECNOLOGIAS/UPM"
                ],
                [
                  3,
                  "INST ISRAELITA ENSINO PESQUISA ALBERT EINSTEIN/SBIBAE"
                ],
                [
                  3,
                  "FAC ODONTOLOGIA PIRACICABA/UNICAMP"
                ],
                [
                  3,
                  "NUCLEO ESTUDOS GENERO/UNICAMP"
                ],
                [
                  3,
                  "INST PSIQUIATRIA/SSSP"
                ],
                [
                  3,
                  "INST CIENCIA TECNOLOGIA SAO JOSE CAMPOS/UNESP"
                ],
                [
                  3,
                  "FAC CIENCIAS LETRAS ARARAQUARA/UNESP"
                ],
                [
                  3,
                  "A C CAMARGO CANCER CENTER/FAP"
                ],
                [
                  3,
                  "CENTRO CIENCIAS NATUREZA/UFSCAR"
                ],
                [
                  3,
                  "FUND HEMOCENTRO RIBEIRAO PRETO/SSSP"
                ],
                [
                  3,
                  "INST TECNOLOGIA ALIMENTOS/SAASP"
                ],
                [
                  3,
                  "INST PESQUISAS AMBIENTAIS/SIMA"
                ],
                [
                  3,
                  "NUCLEO ESTUDOS PESQUISAS AMBIENTAIS/UNICAMP"
                ],
                [
                  3,
                  "FAC ODONTOLOGIA ARARAQUARA/UNESP"
                ],
                [
                  3,
                  "INST ARTES/UNICAMP"
                ],
                [
                  2,
                  "INST ARTES SAO PAULO/UNESP"
                ],
                [
                  2,
                  "FAC CIENCIAS ENGENHARIA TUPA/UNESP"
                ],
                [
                  2,
                  "FAC FILOSOFIA CIENCIAS MARILIA/UNESP"
                ],
                [
                  2,
                  "INST ARQUITETURA URBANISMO SAO CARLOS/USP"
                ],
                [
                  2,
                  "CENTRO CIENCIAS AGRARIAS/UFSCAR"
                ],
                [
                  2,
                  "UNIV SAO FRANCISCO CAMPUS CAMPINAS/USF"
                ],
                [
                  2,
                  "ESC EDUCACAO FISICA ESPORTE/USP"
                ],
                [
                  2,
                  "INST PESQUISA BIOENERGIA UNESP/UNESP"
                ],
                [
                  2,
                  "ESC ENGENHARIA/UPM"
                ],
                [
                  2,
                  "FAC CIENCIAS SOCIAIS APLICADAS/UFLA"
                ],
                [
                  2,
                  "FAC MEDICINA BOTUCATU/UNESP"
                ],
                [
                  2,
                  "CENTRO CIENCIAS BIOLOGICAS SAUDE/UPM"
                ],
                [
                  2,
                  "CENTRO LOGICA EPISTEMOLOGIA HISTORIA CIENCIA/UNICAMP"
                ],
                [
                  2,
                  "FAC ENGENHARIA QUIMICA/UNICAMP"
                ],
                [
                  2,
                  "INST CIENCIAS EXATAS/UFMG"
                ],
                [
                  2,
                  "INST ENERGIA AMBIENTE/USP"
                ],
                [
                  2,
                  "INST NACIONAL TELECOMUNICACOES/FINATEL"
                ],
                [
                  2,
                  "HOSP CLINICAS SAO PAULO/SSSP"
                ],
                [
                  2,
                  "FAC MEDICINA SAO JOSE RIO PRETO/SDE"
                ],
                [
                  2,
                  "MUSEU ARTE CONTEMPORANEA/USP"
                ],
                [
                  2,
                  "INST ESTUDOS BRASILEIROS/USP"
                ],
                [
                  2,
                  "CENTRO BIOLOGIA MARINHA/USP"
                ],
                [
                  2,
                  "MUSEU PAULISTA/USP"
                ],
                [
                  2,
                  "FUND ONCOCENTRO SAO PAULO/SSSP"
                ],
                [
                  2,
                  "DIVISAO ENGENHARIA AERONAUTICA/ITA"
                ],
                [
                  2,
                  "INST FARMACOLOGIA BIOLOGIA MOLECULAR/UNIFESP"
                ],
                [
                  2,
                  "DIVISAO ENGENHARIA MECANICA/ITA"
                ],
                [
                  2,
                  "FAC TECNOLOGIA/UNICAMP"
                ],
                [
                  2,
                  "INST BIOCIENCIAS CAMPUS LITORAL PAULISTA/UNESP"
                ],
                [
                  2,
                  "CENTRO ESTUDOS ENERGIA PETROLEO/UNICAMP"
                ],
                [
                  1,
                  "FAC ENGENHARIA CIVIL ARQUITETURA URBANISMO/UNICAMP"
                ],
                [
                  1,
                  "INST CANCER ESTADO SAO PAULO/SSSP"
                ],
                [
                  1,
                  "CENTRO CIENCIAS GESTAO TECNOLOGIA/UFSCAR"
                ],
                [
                  1,
                  "DIVISAO CIENCIA COMPUTACAO/ITA"
                ],
                [
                  1,
                  "CENTRO CIENCIAS TECNOLOGICAS/UNIFOR"
                ],
                [
                  1,
                  "VICE REITORIA PESQUISA POS GRADUACAO/UNIP"
                ],
                [
                  1,
                  "HOSP REABILITACAO ANOMALIAS CRANIOFACIAIS/USP"
                ],
                [
                  1,
                  "ESC EDUCACAO FISICA ESPORTE RIBEIRAO PRETO/USP"
                ],
                [
                  1,
                  "PRO REITORIA ADJUNTA PESQUISA POS GRADUACAO/UNIFRAN"
                ],
                [
                  1,
                  "INST BIOLOGICO SAO PAULO/SAASP"
                ],
                [
                  1,
                  "CENTRO CIENCIAS SOCIAIS APLICADAS/UFS"
                ],
                [
                  1,
                  "CENTRO PLURIDISCIPLINAR PESQ QUIMICAS BIOLOGICAS AGRICOLAS/UNICAMP"
                ],
                [
                  1,
                  "CENTRO TECNOLOGIA INFORMACAO RENATO ARCHER/MCTI"
                ],
                [
                  1,
                  "FAC CIENCIAS MEDICAS SAUDE/PUCSP"
                ],
                [
                  1,
                  "INST RELACOES INTERNACIONAIS/USP"
                ],
                [
                  1,
                  "INST PESQUISAS TECNOLOGICAS ESTADO SAO PAULO/SDE"
                ],
                [
                  1,
                  "CENTRO ESTUDOS OPINIAO PUBLICA/UNICAMP"
                ],
                [
                  1,
                  "HOSP BENEFICENCIA PORTUGUESA SAO PAULO/RBAPB"
                ],
                [
                  1,
                  "PRO REITORIA POS GRADUACAO PESQUISA EXTENSAO INOVACAO/UNISO"
                ],
                [
                  1,
                  "AGENCIA PAULISTA TECNOLOGIA AGRONEGOCIOS/SAASP"
                ],
                [
                  1,
                  "FAC MEDICINA VETERINARIA ZOOTECNIA BOTUCATU/UNESP"
                ],
                [
                  1,
                  "FAC ARQUITETURA ARTES COMUNICACAO DESIGN BAURU/UNESP"
                ],
                [
                  1,
                  "INST POLITICAS PUBLICAS RELACOES INTERNACIONAIS/UNESP"
                ],
                [
                  1,
                  "NUCLEO DESENVOLVIMENTO CRIATIVIDADE/UNICAMP"
                ],
                [
                  1,
                  "INST BIOLOGICO CAMPINAS/SAASP"
                ],
                [
                  1,
                  "ESC ECONOMIA SAO PAULO/FGVSP"
                ],
                [
                  1,
                  "CENTRO NACIONAL MONITORAMENTO ALERTAS DESASTRES NATURAIS/MCTI"
                ],
                [
                  1,
                  "CAMPUS SAO PAULO/IFSP"
                ],
                [
                  1,
                  "CENTRO INOVACAO UNIVERSIDADE SAO PAULO/USP"
                ],
                [
                  1,
                  "NUCLEO INTERDISCIPLINAR COMUNICACAO SONORA/UNICAMP"
                ],
                [
                  1,
                  "FAC FILOSOFIA COMUNICACAO LETRAS ARTES/PUCSP"
                ],
                [
                  1,
                  "UNIV NOVE JULHO CAMPUS VERGUEIRO/UNINOVE"
                ],
                [
                  1,
                  "ESC CIENCIAS AGRARIAS/UFLA"
                ],
                [
                  1,
                  "FAC CIENCIAS SOCIAIS/PUCSP"
                ],
                [
                  1,
                  "INST PESQUISAS ENERGETICAS NUCLEARES/SDE"
                ],
                [
                  1,
                  "FAC CIENCIAS HUMANAS SAUDE/PUCSP"
                ],
                [
                  1,
                  "PRO REITORIA POS GRADUACAO/UFLA"
                ],
                [
                  1,
                  "FAC CIENCIAS HUMANAS SOCIAIS FRANCA/UNESP"
                ],
                [
                  1,
                  "PRO REITORIA ACADEMICA CAMPUS SEDE/UMC"
                ],
                [
                  1,
                  "CENTRO TERAPIA CELULAR MOLECULAR/UNIFESP"
                ],
                [
                  1,
                  "CENTRO TECNOLOGIA/UFPI"
                ],
                [
                  1,
                  "FAC DIREITO RIBEIRAO PRETO/USP"
                ],
                [
                  1,
                  "FAC ECONOMIA ADMINISTRACAO CONTABILIDADE ATUARIA/USP"
                ],
                [
                  1,
                  "SOC BENEFICENTE ISRAELITA BRASILEIRA HOSP ALBERT EINSTEIN/SBIBAE"
                ],
                [
                  1,
                  "CENTRO CIENCIAS HUMANAS BIOLOGICAS/UFSCAR"
                ],
                [
                  1,
                  "ESC DIREITO SAO PAULO/FGVSP"
                ],
                [
                  1,
                  "INST ECONOMIA/UNICAMP"
                ],
                [
                  1,
                  "PRO REITORIA POS GRADUACAO/PUCSP"
                ],
                [
                  1,
                  "CENTRO ESTUDOS AMBIENTAIS/UNESP"
                ],
                [
                  1,
                  "INST PESQUISA DESENVOLVIMENTO/UNIVAP"
                ],
                [
                  1,
                  "UNIV SAO FRANCISCO CAMPUS BRAGANCA PAULISTA/USF"
                ]
              ],
              "datasetInfos": [],
              "dbfsResultPath": null,
              "isJsonSchema": true,
              "metadata": {},
              "overflow": false,
              "plotOptions": {
                "customPlotOptions": {},
                "displayType": "table",
                "pivotAggregation": null,
                "pivotColumns": null,
                "xColumns": null,
                "yColumns": null
              },
              "removedWidgets": [],
              "schema": [
                {
                  "metadata": "{}",
                  "name": "TOTAL",
                  "type": "\"long\""
                },
                {
                  "metadata": "{}",
                  "name": "INSTITUICAO",
                  "type": "\"string\""
                }
              ],
              "type": "table"
            }
          }
        }
      ],
      "source": [
        "#5. Qual instituição contém o maior número de bolsistas que recebem bolsas de pós-doutorado no país?\n",
        "\n",
        "instituicao = spark.sql(\"SELECT COUNT(DISTINCT BENEFICIARIO) TOTAL, INSTITUICAO FROM Bolsas WHERE UPPER(TIPO_DE_BOLSA) = 'BOLSA NO PAIS - REGULAR - POS-DOUTORADO' GROUP BY INSTITUICAO ORDER BY TOTAL DESC\")\n",
        "display(instituicao)"
      ]
    },
    {
      "cell_type": "markdown",
      "metadata": {
        "application/vnd.databricks.v1+cell": {
          "cellMetadata": {},
          "inputWidgets": {},
          "nuid": "7f26315f-5f1d-47fb-9af2-9881b97f6457",
          "showTitle": false,
          "title": ""
        },
        "id": "4FnBNPlqVDqE"
      },
      "source": [
        "O contexto da questão anterior pode se aplicar na questão 5, que trata da instituição com maior número de bolsas de nível de pós-doutorado. Após a pesquisa com SQL relacionando Beneficiário, Instiruição e Tipo de bolsa, pode-se se obter a lista de classificação em ordem decresecente que mostra que a instituição com maior número de bolsistas de pós-doutorado é a Faculdade de Filosofia, Letras e Ciências Humanas da USP, com 55 bolsistas. A Faculdade de Medicina de Ribeirão Preto / USP em segundo lugar, com 51 bolsistas, pode ser um indicativo que a análise realizada na Q4 pode estar correta."
      ]
    },
    {
      "cell_type": "code",
      "execution_count": null,
      "metadata": {
        "application/vnd.databricks.v1+cell": {
          "cellMetadata": {
            "byteLimit": 2048000,
            "rowLimit": 10000
          },
          "inputWidgets": {},
          "nuid": "faf126f4-9d6e-4020-a1dd-b43ea5c0a81e",
          "showTitle": false,
          "title": ""
        },
        "id": "PWC8cLfPVDqE",
        "outputId": "dc540137-2c9b-425b-e00e-489ce89aa97e"
      },
      "outputs": [
        {
          "output_type": "display_data",
          "data": {
            "text/html": [
              "<style scoped>\n",
              "  .table-result-container {\n",
              "    max-height: 300px;\n",
              "    overflow: auto;\n",
              "  }\n",
              "  table, th, td {\n",
              "    border: 1px solid black;\n",
              "    border-collapse: collapse;\n",
              "  }\n",
              "  th, td {\n",
              "    padding: 5px;\n",
              "  }\n",
              "  th {\n",
              "    text-align: left;\n",
              "  }\n",
              "</style><div class='table-result-container'><table class='table-result'><thead style='background-color: white'><tr><th>TOTAL</th><th>INSTITUICAO</th></tr></thead><tbody><tr><td>23</td><td>FAC FILOSOFIA LETRAS CIENCIAS HUMANAS/USP</td></tr><tr><td>18</td><td>FAC MEDICINA RIBEIRAO PRETO/USP</td></tr><tr><td>18</td><td>INST CIENCIAS BIOMEDICAS/USP</td></tr><tr><td>17</td><td>INST QUIMICA/UNICAMP</td></tr><tr><td>15</td><td>INST BIOLOGIA/UNICAMP</td></tr><tr><td>13</td><td>ESC PAULISTA MEDICINA/UNIFESP</td></tr><tr><td>13</td><td>ESC SUPERIOR AGRICULTURA LUIZ DE QUEIROZ/USP</td></tr><tr><td>12</td><td>CENTRO CIENCIAS EXATAS TECNOLOGIA/UFSCAR</td></tr><tr><td>11</td><td>INST BIOCIENCIAS/USP</td></tr><tr><td>10</td><td>ESC POLITECNICA/USP</td></tr><tr><td>9</td><td>INST FILOSOFIA CIENCIAS HUMANAS/UNICAMP</td></tr><tr><td>8</td><td>FAC CIENCIAS FARMACEUTICAS/USP</td></tr><tr><td>8</td><td>FAC FILOSOFIA CIENCIAS LETRAS RIBEIRAO PRETO/USP</td></tr><tr><td>8</td><td>ESC ENGENHARIA SAO CARLOS/USP</td></tr><tr><td>7</td><td>INST MATEMATICA ESTATISTICA COMPUTACAO CIENTIFICA/UNICAMP</td></tr><tr><td>7</td><td>INST QUIMICA/USP</td></tr><tr><td>7</td><td>FAC ENGENHARIA ALIMENTOS/UNICAMP</td></tr><tr><td>7</td><td>FAC CIENCIAS APLICADAS/UNICAMP</td></tr><tr><td>7</td><td>CENTRO CIENCIAS BIOLOGICAS SAUDE/UFSCAR</td></tr><tr><td>6</td><td>FAC MEDICINA/USP</td></tr><tr><td>6</td><td>FAC CIENCIAS FARMACEUTICAS ARARAQUARA/UNESP</td></tr><tr><td>6</td><td>INST CIENCIAS MATEMATICAS COMPUTACAO SAO CARLOS/USP</td></tr><tr><td>6</td><td>FAC CIENCIAS TECNOLOGIA PRESIDENTE PRUDENTE/UNESP</td></tr><tr><td>6</td><td>CENTRO NACIONAL PESQUISA ENERGIA MATERIAIS/MCTI</td></tr><tr><td>6</td><td>FAC CIENCIAS AGRARIAS VETERINARIAS JABOTICABAL/UNESP</td></tr><tr><td>5</td><td>INST ASTRONOMIA GEOFISICA CIENCIAS ATMOSFERICAS/USP</td></tr><tr><td>5</td><td>CENTRO EDUCACAO CIENCIAS HUMANAS/UFSCAR</td></tr><tr><td>5</td><td>ESC FILOSOFIA LETRAS CIENCIAS HUMANAS/UNIFESP</td></tr><tr><td>5</td><td>FAC SAUDE PUBLICA/USP</td></tr><tr><td>5</td><td>INST ESTUDOS LINGUAGEM/UNICAMP</td></tr><tr><td>5</td><td>FUND HEMOCENTRO RIBEIRAO PRETO/SSSP</td></tr><tr><td>5</td><td>FAC CIENCIAS FARMACEUTICAS RIBEIRAO PRETO/USP</td></tr><tr><td>5</td><td>FAC ARQUITETURA URBANISMO/USP</td></tr><tr><td>5</td><td>INST BIOCIENCIAS LETRAS CIENCIAS EXATAS SAO JOSE RIO PRETO/UNESP</td></tr><tr><td>5</td><td>INST BIOCIENCIAS BOTUCATU/UNESP</td></tr><tr><td>5</td><td>INST ARTES/UNICAMP</td></tr><tr><td>5</td><td>INST FISICA SAO CARLOS/USP</td></tr><tr><td>5</td><td>CENTRO CIENCIAS NATURAIS HUMANAS/UFABC</td></tr><tr><td>5</td><td>INST QUIMICA SAO CARLOS/USP</td></tr><tr><td>5</td><td>INST GEOCIENCIAS/USP</td></tr><tr><td>4</td><td>FAC ZOOTECNIA ENGENHARIA ALIMENTOS/USP</td></tr><tr><td>4</td><td>INST FISICA/USP</td></tr><tr><td>3</td><td>INST GEOCIENCIAS CIENCIAS EXATAS RIO CLARO/UNESP</td></tr><tr><td>3</td><td>FAC ENGENHARIA ILHA SOLTEIRA/UNESP</td></tr><tr><td>3</td><td>INST ARQUITETURA URBANISMO SAO CARLOS/USP</td></tr><tr><td>3</td><td>CENTRO ENERGIA NUCLEAR AGRICULTURA/USP</td></tr><tr><td>3</td><td>FAC ODONTOLOGIA PIRACICABA/UNICAMP</td></tr><tr><td>3</td><td>INST CIENCIA TECNOLOGIA SAO JOSE CAMPOS/UNESP</td></tr><tr><td>3</td><td>FAC ODONTOLOGIA RIBEIRAO PRETO/USP</td></tr><tr><td>3</td><td>INST BIOCIENCIAS RIO CLARO/UNESP</td></tr><tr><td>3</td><td>FAC CIENCIAS BAURU/UNESP</td></tr><tr><td>3</td><td>FAC ODONTOLOGIA ARARAQUARA/UNESP</td></tr><tr><td>3</td><td>FAC CIENCIAS MEDICAS/UNICAMP</td></tr><tr><td>3</td><td>FAC CIENCIAS AGRONOMICAS BOTUCATU/UNESP</td></tr><tr><td>3</td><td>ESC COMUNICACOES ARTES/USP</td></tr><tr><td>2</td><td>INSPER INST ENSINO PESQUISA/INSPER</td></tr><tr><td>2</td><td>INST AGRONOMICO CAMPINAS/SAASP</td></tr><tr><td>2</td><td>FAC CIENCIAS FARMACEUTICAS/UNICAMP</td></tr><tr><td>2</td><td>INST CIENCIAS AMBIENTAIS QUIMICAS FARMACEUTICAS/UNIFESP</td></tr><tr><td>2</td><td>FAC CIENCIAS LETRAS ARARAQUARA/UNESP</td></tr><tr><td>2</td><td>FAC ODONTOLOGIA BAURU/USP</td></tr><tr><td>2</td><td>ESC ENFERMAGEM RIBEIRAO PRETO/USP</td></tr><tr><td>2</td><td>FAC CIENCIAS LETRAS ASSIS/UNESP</td></tr><tr><td>2</td><td>INST PESQUISA BIOENERGIA UNESP/UNESP</td></tr><tr><td>2</td><td>MUSEU ARQUEOLOGIA ETNOLOGIA/USP</td></tr><tr><td>2</td><td>INST FISICA TEORICA/UNESP</td></tr><tr><td>2</td><td>INST OCEANOGRAFICO/USP</td></tr><tr><td>2</td><td>INST MAR/UNIFESP</td></tr><tr><td>2</td><td>ESC ECONOMIA SAO PAULO/FGVSP</td></tr><tr><td>2</td><td>INST FISICA GLEB WATAGHIN/UNICAMP</td></tr><tr><td>2</td><td>PRO REITORIA POS GRADUACAO PESQUISA/ITA</td></tr><tr><td>2</td><td>INST GEOCIENCIAS/UNICAMP</td></tr><tr><td>2</td><td>FAC MEDICINA VETERINARIA ZOOTECNIA/USP</td></tr><tr><td>2</td><td>CENTRO ENGENHARIA MODELAGEM CIENCIAS SOCIAIS APLICADAS/UFABC</td></tr><tr><td>2</td><td>INST QUIMICA ARARAQUARA/UNESP</td></tr><tr><td>1</td><td>INST SAUDE SOCIEDADE/UNIFESP</td></tr><tr><td>1</td><td>INST CANCER ESTADO SAO PAULO/SSSP</td></tr><tr><td>1</td><td>DIVISAO CIENCIAS FUNDAMENTAIS/ITA</td></tr><tr><td>1</td><td>FAC EDUCACAO/USP</td></tr><tr><td>1</td><td>CENTRO BIOLOGIA MOLECULAR ENGENHARIA GENETICA/UNICAMP</td></tr><tr><td>1</td><td>DIVISAO CIENCIA COMPUTACAO/ITA</td></tr><tr><td>1</td><td>FAC FILOSOFIA CIENCIAS MARILIA/UNESP</td></tr><tr><td>1</td><td>FAC ENGENHARIA ELETRICA COMPUTACAO/UNICAMP</td></tr><tr><td>1</td><td>ESC ADMINISTRACAO EMPRESAS SAO PAULO/FGVSP</td></tr><tr><td>1</td><td>ESC ENGENHARIA LORENA/USP</td></tr><tr><td>1</td><td>EMBRAPA INSTRUMENTACAO AGROPECUARIA/EMBRAPA</td></tr><tr><td>1</td><td>ESC EDUCACAO FISICA ESPORTE/USP</td></tr><tr><td>1</td><td>A C CAMARGO CANCER CENTER/FAP</td></tr><tr><td>1</td><td>INST PSICOLOGIA/USP</td></tr><tr><td>1</td><td>ESC ENGENHARIA/UPM</td></tr><tr><td>1</td><td>INST COMPUTACAO/UNICAMP</td></tr><tr><td>1</td><td>CENTRO CIENCIAS BIOLOGICAS SAUDE/UPM</td></tr><tr><td>1</td><td>PRO REITORIA POS GRADUACAO PESQUISA EXTENSAO INOVACAO/UNISO</td></tr><tr><td>1</td><td>INST CIENCIA TECNOLOGIA/UNIFESP</td></tr><tr><td>1</td><td>APTA REGIONAL DDD/SAASP</td></tr><tr><td>1</td><td>FAC ENGENHARIA QUIMICA/UNICAMP</td></tr><tr><td>1</td><td>CENTRO CIENCIAS BIOLOGICAS SAUDE/UNICSUL</td></tr><tr><td>1</td><td>INST MATEMATICA ESTATISTICA/USP</td></tr><tr><td>1</td><td>CENTRO INOVACAO UNIVERSIDADE SAO PAULO/USP</td></tr><tr><td>1</td><td>FAC ODONTOLOGIA/USP</td></tr><tr><td>1</td><td>ESC ARTES CIENCIAS HUMANIDADES/USP</td></tr><tr><td>1</td><td>INST ENERGIA AMBIENTE/USP</td></tr><tr><td>1</td><td>INST PESQUISAS AMBIENTAIS/SIMA</td></tr><tr><td>1</td><td>NUCLEO ESTUDOS PESQUISAS AMBIENTAIS/UNICAMP</td></tr><tr><td>1</td><td>FAC MEDICINA SAO JOSE RIO PRETO/SDE</td></tr><tr><td>1</td><td>MUSEU ARTE CONTEMPORANEA/USP</td></tr><tr><td>1</td><td>INST CORACAO DO HOSP CLINICAS SAO PAULO/SSSP</td></tr><tr><td>1</td><td>FAC ENGENHARIA GUARATINGUETA/UNESP</td></tr><tr><td>1</td><td>CT INFANTIL INVESTIGACOES HEMATOLOGICAS DR DOMINGOS BOLDRINI/CIB</td></tr><tr><td>1</td><td>HOSP CANCER BARRETOS/FP</td></tr><tr><td>1</td><td>FAC ENGENHARIA BAURU/UNESP</td></tr><tr><td>1</td><td>CENTRO PESQ METEOROLOGICAS CLIMATICAS APLICADAS AGRICULTURA/UNICAMP</td></tr><tr><td>1</td><td>ESC DIREITO SAO PAULO/FGVSP</td></tr><tr><td>1</td><td>HOSP SIRIO LIBANES/SBSHSL</td></tr><tr><td>1</td><td>CENTRO ESTUDOS AMBIENTAIS/UNESP</td></tr></tbody></table></div>"
            ]
          },
          "metadata": {
            "application/vnd.databricks.v1+output": {
              "addedWidgets": {},
              "aggData": [],
              "aggError": "",
              "aggOverflow": false,
              "aggSchema": [],
              "aggSeriesLimitReached": false,
              "aggType": "",
              "arguments": {},
              "columnCustomDisplayInfos": {},
              "data": [
                [
                  23,
                  "FAC FILOSOFIA LETRAS CIENCIAS HUMANAS/USP"
                ],
                [
                  18,
                  "FAC MEDICINA RIBEIRAO PRETO/USP"
                ],
                [
                  18,
                  "INST CIENCIAS BIOMEDICAS/USP"
                ],
                [
                  17,
                  "INST QUIMICA/UNICAMP"
                ],
                [
                  15,
                  "INST BIOLOGIA/UNICAMP"
                ],
                [
                  13,
                  "ESC PAULISTA MEDICINA/UNIFESP"
                ],
                [
                  13,
                  "ESC SUPERIOR AGRICULTURA LUIZ DE QUEIROZ/USP"
                ],
                [
                  12,
                  "CENTRO CIENCIAS EXATAS TECNOLOGIA/UFSCAR"
                ],
                [
                  11,
                  "INST BIOCIENCIAS/USP"
                ],
                [
                  10,
                  "ESC POLITECNICA/USP"
                ],
                [
                  9,
                  "INST FILOSOFIA CIENCIAS HUMANAS/UNICAMP"
                ],
                [
                  8,
                  "FAC CIENCIAS FARMACEUTICAS/USP"
                ],
                [
                  8,
                  "FAC FILOSOFIA CIENCIAS LETRAS RIBEIRAO PRETO/USP"
                ],
                [
                  8,
                  "ESC ENGENHARIA SAO CARLOS/USP"
                ],
                [
                  7,
                  "INST MATEMATICA ESTATISTICA COMPUTACAO CIENTIFICA/UNICAMP"
                ],
                [
                  7,
                  "INST QUIMICA/USP"
                ],
                [
                  7,
                  "FAC ENGENHARIA ALIMENTOS/UNICAMP"
                ],
                [
                  7,
                  "FAC CIENCIAS APLICADAS/UNICAMP"
                ],
                [
                  7,
                  "CENTRO CIENCIAS BIOLOGICAS SAUDE/UFSCAR"
                ],
                [
                  6,
                  "FAC MEDICINA/USP"
                ],
                [
                  6,
                  "FAC CIENCIAS FARMACEUTICAS ARARAQUARA/UNESP"
                ],
                [
                  6,
                  "INST CIENCIAS MATEMATICAS COMPUTACAO SAO CARLOS/USP"
                ],
                [
                  6,
                  "FAC CIENCIAS TECNOLOGIA PRESIDENTE PRUDENTE/UNESP"
                ],
                [
                  6,
                  "CENTRO NACIONAL PESQUISA ENERGIA MATERIAIS/MCTI"
                ],
                [
                  6,
                  "FAC CIENCIAS AGRARIAS VETERINARIAS JABOTICABAL/UNESP"
                ],
                [
                  5,
                  "INST ASTRONOMIA GEOFISICA CIENCIAS ATMOSFERICAS/USP"
                ],
                [
                  5,
                  "CENTRO EDUCACAO CIENCIAS HUMANAS/UFSCAR"
                ],
                [
                  5,
                  "ESC FILOSOFIA LETRAS CIENCIAS HUMANAS/UNIFESP"
                ],
                [
                  5,
                  "FAC SAUDE PUBLICA/USP"
                ],
                [
                  5,
                  "INST ESTUDOS LINGUAGEM/UNICAMP"
                ],
                [
                  5,
                  "FUND HEMOCENTRO RIBEIRAO PRETO/SSSP"
                ],
                [
                  5,
                  "FAC CIENCIAS FARMACEUTICAS RIBEIRAO PRETO/USP"
                ],
                [
                  5,
                  "FAC ARQUITETURA URBANISMO/USP"
                ],
                [
                  5,
                  "INST BIOCIENCIAS LETRAS CIENCIAS EXATAS SAO JOSE RIO PRETO/UNESP"
                ],
                [
                  5,
                  "INST BIOCIENCIAS BOTUCATU/UNESP"
                ],
                [
                  5,
                  "INST ARTES/UNICAMP"
                ],
                [
                  5,
                  "INST FISICA SAO CARLOS/USP"
                ],
                [
                  5,
                  "CENTRO CIENCIAS NATURAIS HUMANAS/UFABC"
                ],
                [
                  5,
                  "INST QUIMICA SAO CARLOS/USP"
                ],
                [
                  5,
                  "INST GEOCIENCIAS/USP"
                ],
                [
                  4,
                  "FAC ZOOTECNIA ENGENHARIA ALIMENTOS/USP"
                ],
                [
                  4,
                  "INST FISICA/USP"
                ],
                [
                  3,
                  "INST GEOCIENCIAS CIENCIAS EXATAS RIO CLARO/UNESP"
                ],
                [
                  3,
                  "FAC ENGENHARIA ILHA SOLTEIRA/UNESP"
                ],
                [
                  3,
                  "INST ARQUITETURA URBANISMO SAO CARLOS/USP"
                ],
                [
                  3,
                  "CENTRO ENERGIA NUCLEAR AGRICULTURA/USP"
                ],
                [
                  3,
                  "FAC ODONTOLOGIA PIRACICABA/UNICAMP"
                ],
                [
                  3,
                  "INST CIENCIA TECNOLOGIA SAO JOSE CAMPOS/UNESP"
                ],
                [
                  3,
                  "FAC ODONTOLOGIA RIBEIRAO PRETO/USP"
                ],
                [
                  3,
                  "INST BIOCIENCIAS RIO CLARO/UNESP"
                ],
                [
                  3,
                  "FAC CIENCIAS BAURU/UNESP"
                ],
                [
                  3,
                  "FAC ODONTOLOGIA ARARAQUARA/UNESP"
                ],
                [
                  3,
                  "FAC CIENCIAS MEDICAS/UNICAMP"
                ],
                [
                  3,
                  "FAC CIENCIAS AGRONOMICAS BOTUCATU/UNESP"
                ],
                [
                  3,
                  "ESC COMUNICACOES ARTES/USP"
                ],
                [
                  2,
                  "INSPER INST ENSINO PESQUISA/INSPER"
                ],
                [
                  2,
                  "INST AGRONOMICO CAMPINAS/SAASP"
                ],
                [
                  2,
                  "FAC CIENCIAS FARMACEUTICAS/UNICAMP"
                ],
                [
                  2,
                  "INST CIENCIAS AMBIENTAIS QUIMICAS FARMACEUTICAS/UNIFESP"
                ],
                [
                  2,
                  "FAC CIENCIAS LETRAS ARARAQUARA/UNESP"
                ],
                [
                  2,
                  "FAC ODONTOLOGIA BAURU/USP"
                ],
                [
                  2,
                  "ESC ENFERMAGEM RIBEIRAO PRETO/USP"
                ],
                [
                  2,
                  "FAC CIENCIAS LETRAS ASSIS/UNESP"
                ],
                [
                  2,
                  "INST PESQUISA BIOENERGIA UNESP/UNESP"
                ],
                [
                  2,
                  "MUSEU ARQUEOLOGIA ETNOLOGIA/USP"
                ],
                [
                  2,
                  "INST FISICA TEORICA/UNESP"
                ],
                [
                  2,
                  "INST OCEANOGRAFICO/USP"
                ],
                [
                  2,
                  "INST MAR/UNIFESP"
                ],
                [
                  2,
                  "ESC ECONOMIA SAO PAULO/FGVSP"
                ],
                [
                  2,
                  "INST FISICA GLEB WATAGHIN/UNICAMP"
                ],
                [
                  2,
                  "PRO REITORIA POS GRADUACAO PESQUISA/ITA"
                ],
                [
                  2,
                  "INST GEOCIENCIAS/UNICAMP"
                ],
                [
                  2,
                  "FAC MEDICINA VETERINARIA ZOOTECNIA/USP"
                ],
                [
                  2,
                  "CENTRO ENGENHARIA MODELAGEM CIENCIAS SOCIAIS APLICADAS/UFABC"
                ],
                [
                  2,
                  "INST QUIMICA ARARAQUARA/UNESP"
                ],
                [
                  1,
                  "INST SAUDE SOCIEDADE/UNIFESP"
                ],
                [
                  1,
                  "INST CANCER ESTADO SAO PAULO/SSSP"
                ],
                [
                  1,
                  "DIVISAO CIENCIAS FUNDAMENTAIS/ITA"
                ],
                [
                  1,
                  "FAC EDUCACAO/USP"
                ],
                [
                  1,
                  "CENTRO BIOLOGIA MOLECULAR ENGENHARIA GENETICA/UNICAMP"
                ],
                [
                  1,
                  "DIVISAO CIENCIA COMPUTACAO/ITA"
                ],
                [
                  1,
                  "FAC FILOSOFIA CIENCIAS MARILIA/UNESP"
                ],
                [
                  1,
                  "FAC ENGENHARIA ELETRICA COMPUTACAO/UNICAMP"
                ],
                [
                  1,
                  "ESC ADMINISTRACAO EMPRESAS SAO PAULO/FGVSP"
                ],
                [
                  1,
                  "ESC ENGENHARIA LORENA/USP"
                ],
                [
                  1,
                  "EMBRAPA INSTRUMENTACAO AGROPECUARIA/EMBRAPA"
                ],
                [
                  1,
                  "ESC EDUCACAO FISICA ESPORTE/USP"
                ],
                [
                  1,
                  "A C CAMARGO CANCER CENTER/FAP"
                ],
                [
                  1,
                  "INST PSICOLOGIA/USP"
                ],
                [
                  1,
                  "ESC ENGENHARIA/UPM"
                ],
                [
                  1,
                  "INST COMPUTACAO/UNICAMP"
                ],
                [
                  1,
                  "CENTRO CIENCIAS BIOLOGICAS SAUDE/UPM"
                ],
                [
                  1,
                  "PRO REITORIA POS GRADUACAO PESQUISA EXTENSAO INOVACAO/UNISO"
                ],
                [
                  1,
                  "INST CIENCIA TECNOLOGIA/UNIFESP"
                ],
                [
                  1,
                  "APTA REGIONAL DDD/SAASP"
                ],
                [
                  1,
                  "FAC ENGENHARIA QUIMICA/UNICAMP"
                ],
                [
                  1,
                  "CENTRO CIENCIAS BIOLOGICAS SAUDE/UNICSUL"
                ],
                [
                  1,
                  "INST MATEMATICA ESTATISTICA/USP"
                ],
                [
                  1,
                  "CENTRO INOVACAO UNIVERSIDADE SAO PAULO/USP"
                ],
                [
                  1,
                  "FAC ODONTOLOGIA/USP"
                ],
                [
                  1,
                  "ESC ARTES CIENCIAS HUMANIDADES/USP"
                ],
                [
                  1,
                  "INST ENERGIA AMBIENTE/USP"
                ],
                [
                  1,
                  "INST PESQUISAS AMBIENTAIS/SIMA"
                ],
                [
                  1,
                  "NUCLEO ESTUDOS PESQUISAS AMBIENTAIS/UNICAMP"
                ],
                [
                  1,
                  "FAC MEDICINA SAO JOSE RIO PRETO/SDE"
                ],
                [
                  1,
                  "MUSEU ARTE CONTEMPORANEA/USP"
                ],
                [
                  1,
                  "INST CORACAO DO HOSP CLINICAS SAO PAULO/SSSP"
                ],
                [
                  1,
                  "FAC ENGENHARIA GUARATINGUETA/UNESP"
                ],
                [
                  1,
                  "CT INFANTIL INVESTIGACOES HEMATOLOGICAS DR DOMINGOS BOLDRINI/CIB"
                ],
                [
                  1,
                  "HOSP CANCER BARRETOS/FP"
                ],
                [
                  1,
                  "FAC ENGENHARIA BAURU/UNESP"
                ],
                [
                  1,
                  "CENTRO PESQ METEOROLOGICAS CLIMATICAS APLICADAS AGRICULTURA/UNICAMP"
                ],
                [
                  1,
                  "ESC DIREITO SAO PAULO/FGVSP"
                ],
                [
                  1,
                  "HOSP SIRIO LIBANES/SBSHSL"
                ],
                [
                  1,
                  "CENTRO ESTUDOS AMBIENTAIS/UNESP"
                ]
              ],
              "datasetInfos": [],
              "dbfsResultPath": null,
              "isJsonSchema": true,
              "metadata": {},
              "overflow": false,
              "plotOptions": {
                "customPlotOptions": {},
                "displayType": "table",
                "pivotAggregation": null,
                "pivotColumns": null,
                "xColumns": null,
                "yColumns": null
              },
              "removedWidgets": [],
              "schema": [
                {
                  "metadata": "{}",
                  "name": "TOTAL",
                  "type": "\"long\""
                },
                {
                  "metadata": "{}",
                  "name": "INSTITUICAO",
                  "type": "\"string\""
                }
              ],
              "type": "table"
            }
          }
        }
      ],
      "source": [
        "#6. Qual instituição contém o maior número de bolsistas que recebem bolsas de doutorado fora do país?\n",
        "\n",
        "instituicao = spark.sql(\"SELECT COUNT(DISTINCT BENEFICIARIO) TOTAL, INSTITUICAO FROM Bolsas WHERE UPPER(TIPO_DE_BOLSA) IN ('BOLSA NO EXTERIOR - REGULAR - ESTAGIO DE PESQUISA - DD', 'BOLSA NO EXTERIOR - REGULAR - ESTAGIO DE PESQUISA - DR') GROUP BY INSTITUICAO ORDER BY TOTAL DESC\")\n",
        "display(instituicao)\n"
      ]
    },
    {
      "cell_type": "markdown",
      "metadata": {
        "application/vnd.databricks.v1+cell": {
          "cellMetadata": {},
          "inputWidgets": {},
          "nuid": "e166ab5b-6879-463f-ab36-d5c95a462684",
          "showTitle": false,
          "title": ""
        },
        "id": "4hiocp8kVDqF"
      },
      "source": [
        "Para responder a Q6, é necessário considerar na pesquisa todos os formatos de bolsas de doutorado no exterior, para isso cruzando as informações de beneficiário, tipo de bolsa (DD - Doutorado Direto e DR - Doutorado Regular) e instiuição. Após a pesquisa uma lista em ordem decrescente foi retornada, indicando que a Faculdade de Filosofia, Letras e Ciências Humanas da USP é a instiuição com maior número de bolsistas de doutorado no exterior, totalizando 23 pessoas."
      ]
    },
    {
      "cell_type": "code",
      "execution_count": null,
      "metadata": {
        "application/vnd.databricks.v1+cell": {
          "cellMetadata": {
            "byteLimit": 2048000,
            "rowLimit": 10000
          },
          "inputWidgets": {},
          "nuid": "76f4071d-be15-434e-8250-ff3e718838a7",
          "showTitle": false,
          "title": ""
        },
        "id": "63rePcLhVDqF",
        "outputId": "ccbabea0-350b-480f-9d17-cd5365b1b6a3"
      },
      "outputs": [
        {
          "output_type": "display_data",
          "data": {
            "text/html": [
              "<style scoped>\n",
              "  .table-result-container {\n",
              "    max-height: 300px;\n",
              "    overflow: auto;\n",
              "  }\n",
              "  table, th, td {\n",
              "    border: 1px solid black;\n",
              "    border-collapse: collapse;\n",
              "  }\n",
              "  th, td {\n",
              "    padding: 5px;\n",
              "  }\n",
              "  th {\n",
              "    text-align: left;\n",
              "  }\n",
              "</style><div class='table-result-container'><table class='table-result'><thead style='background-color: white'><tr><th>TOTAL</th></tr></thead><tbody><tr><td>37828501.60</td></tr></tbody></table></div>"
            ]
          },
          "metadata": {
            "application/vnd.databricks.v1+output": {
              "addedWidgets": {},
              "aggData": [],
              "aggError": "",
              "aggOverflow": false,
              "aggSchema": [],
              "aggSeriesLimitReached": false,
              "aggType": "",
              "arguments": {},
              "columnCustomDisplayInfos": {},
              "data": [
                [
                  "37828501.60"
                ]
              ],
              "datasetInfos": [],
              "dbfsResultPath": null,
              "isJsonSchema": true,
              "metadata": {},
              "overflow": false,
              "plotOptions": {
                "customPlotOptions": {},
                "displayType": "table",
                "pivotAggregation": null,
                "pivotColumns": null,
                "xColumns": null,
                "yColumns": null
              },
              "removedWidgets": [],
              "schema": [
                {
                  "metadata": "{}",
                  "name": "TOTAL",
                  "type": "\"decimal(25,2)\""
                }
              ],
              "type": "table"
            }
          }
        }
      ],
      "source": [
        "#7. Qual foi o gasto total da FAPESP no mês de junho de 2024 com manutenção mensal de bolsas no país?\n",
        "\n",
        "instituicao = spark.sql(\"SELECT SUM(PAGAMENTO_EM_06_2024) TOTAL FROM Bolsas WHERE UPPER(RUBRICA) = 'MM' AND UPPER(TIPO_DE_BOLSA) LIKE '%BOLSA NO PAIS%'\")\n",
        "display(instituicao)"
      ]
    },
    {
      "cell_type": "markdown",
      "metadata": {
        "application/vnd.databricks.v1+cell": {
          "cellMetadata": {},
          "inputWidgets": {},
          "nuid": "e0926a95-1576-48df-b93f-80e038fd8667",
          "showTitle": false,
          "title": ""
        },
        "id": "jMXtWcROVDqF"
      },
      "source": [
        "A questão 7 trata do gasto total da FAPESP somente com bolsas de manutenção mensal no país, ou seja bolsas com a rubrica = MM. A pesquisa deve selecionar todas as bolsas com rubrica MM e retornar a soma total dos valores da coluna \"PAGAMENTO_EM_06_2024\". Após a consulta pode-se obter o valor solicitado que é de 37.828.501,60 reais."
      ]
    },
    {
      "cell_type": "markdown",
      "metadata": {
        "application/vnd.databricks.v1+cell": {
          "cellMetadata": {},
          "inputWidgets": {},
          "nuid": "2be1b74f-805c-442f-b42a-613f2d8a2b18",
          "showTitle": false,
          "title": ""
        },
        "id": "fhnFHzBSVDqF"
      },
      "source": [
        "##Modelando o banco de dados.\n",
        "\n",
        "Obs. Foi feita uma simulação de uma criação de um banco de dados, dado que a versão community do Databricks limita esses procedimentos.\n",
        "\n",
        "Na hipótese de uma modelagem de um possível banco de dados foram feitos os seguintes procedimentos para sua criação de acordo com conceitos vistos nos tópicos da aula.\n",
        "\n",
        "1. Criação de um modelo conceitual utilizando BrModelo (vide imagem).\n",
        "2. Criação de um modelo lógico, baseado no modelo conceitual.\n",
        "3. Criação do modelo físico utilizando a linguagem SQL."
      ]
    },
    {
      "cell_type": "markdown",
      "source": [
        "1. Modelo Conceitual\n",
        "\n",
        "O modelo conceitual foi criado com base nas informações obtidas no site da FAPESP a respeito das bolsas, os tipos de bolsas e beneficiários.\n",
        "\n",
        "![Modelagem_MVP_bolsas_conceitual.png](data:image/png;base64,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)"
      ],
      "metadata": {
        "id": "TI1VeFcCVRZp"
      }
    },
    {
      "cell_type": "markdown",
      "source": [
        "2. Modelo lógico\n",
        "\n",
        "O modelo lígico foi obtido com base no esquema conceitual formulado anteriormente com a definição dos tipos de dados a serem inseridos no BD e as definições de chaves primarias e estrangeiras para cada tabela.\n",
        "\n",
        "![Lógico_Modelagem_MVP2.jpg](data:image/jpeg;base64,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)"
      ],
      "metadata": {
        "id": "9JSjx5JVVmN7"
      }
    },
    {
      "cell_type": "markdown",
      "source": [
        "3. Modelo Físico (Utilizando Databricks versão Community)\n",
        "\n",
        "O modelo físico foi feito baseado no modelo lógico anterior dentro do databricks versão community, portanto com um grande número de limitações, por exemplo, a não definição de PKs, FKs ou qualquer constraint. Também foi levada em conta a correspondência dos tipos de dados como mudança de \"varchar\" para \"string\"."
      ],
      "metadata": {
        "id": "CgFN2ckTVvxN"
      }
    },
    {
      "cell_type": "code",
      "execution_count": null,
      "metadata": {
        "application/vnd.databricks.v1+cell": {
          "cellMetadata": {
            "byteLimit": 2048000,
            "implicitDf": true,
            "rowLimit": 10000
          },
          "inputWidgets": {},
          "nuid": "3b2c386e-f288-47f8-ab58-7c6aca843d6f",
          "showTitle": false,
          "title": ""
        },
        "id": "hGMKLCl8VDqF"
      },
      "outputs": [],
      "source": [
        "df.createOrReplaceTempView(\"Bolsas\")\n",
        "\n",
        "#Beneficiarios\n",
        "spark.sql(\"CREATE DATABASE IF NOT EXISTS Banco\")\n",
        "spark.sql(\"CREATE OR REPLACE TABLE Banco.Beneficiarios (nome String, instituicao String)\")\n",
        "spark.sql(\"DELETE FROM Banco.Beneficiarios\")\n",
        "spark.sql(\"INSERT INTO Banco.Beneficiarios SELECT distinct BENEFICIARIO, INSTITUICAO from Bolsas ORDER BY BENEFICIARIO, INSTITUICAO\")\n",
        "display(spark.sql(\"SELECT * FROM Banco.Beneficiarios ORDER BY nome, instituicao\"))\n",
        "\n",
        "#Tipo_Bolsa\n",
        "spark.sql(\"CREATE OR REPLACE TABLE Banco.Tipo_Bolsa (tipo String, nivel integer)\")\n",
        "spark.sql(\"DELETE FROM Banco.Tipo_Bolsa\")\n",
        "spark.sql(\"INSERT INTO Banco.Tipo_Bolsa SELECT distinct TIPO_DE_BOLSA, NIVEL_BOLSA from Bolsas ORDER BY TIPO_DE_BOLSA\")\n",
        "display(spark.sql(\"SELECT * FROM Banco.Tipo_Bolsa ORDER BY tipo\"))\n",
        "\n",
        "#Rubrica\n",
        "spark.sql(\"CREATE OR REPLACE TABLE Banco.Rubrica (rubrica String)\")\n",
        "spark.sql(\"DELETE FROM Banco.Rubrica\")\n",
        "spark.sql(\"INSERT INTO Banco.Rubrica SELECT distinct RUBRICA from Bolsas ORDER BY RUBRICA\")\n",
        "display(spark.sql(\"SELECT * FROM Banco.Rubrica ORDER BY rubrica\"))\n",
        "\n",
        "#Bolsa\n",
        "spark.sql(\"CREATE OR REPLACE TABLE Banco.Bolsa (beneficiario_nome String, beneficiario_instituicao String, tipo_bolsa String, rubrica String, valor Decimal(15,2), vigencia_inicio Date, vigencia_fim Date, parcela_paga Integer, parcela_concedida String)\")\n",
        "spark.sql(\"DELETE FROM Banco.Bolsa\")\n",
        "spark.sql(\"INSERT INTO Banco.Bolsa SELECT BENEFICIARIO, INSTITUICAO, TIPO_DE_BOLSA, RUBRICA, PAGAMENTO_EM_06_2024, VIGENCIA_INICIO, VIGENCIA_FIM, PARCELA_PAGA_EM_06_2024, TOTAL_DE_PARCELAS_CONCEDIDAS_NIVEL from Bolsas ORDER BY BENEFICIARIO\")\n",
        "display(spark.sql(\"SELECT * FROM Banco.Bolsa ORDER BY beneficiario_nome\"))\n"
      ]
    },
    {
      "cell_type": "markdown",
      "source": [
        "#Autoavaliação\n",
        "\n",
        "A ideia do objetivo do MVP, surgiu durante uma navegação pelo site da FAPESP, onde surgiu uma curiosidade sobre a disponibilidade dos dados de pagamentos de bolsas e auxílios, visto que se trata de uma grande agência de fomento à pesquisa no estado de São Paulo. Então surgiram as perguntas que foram relacionadas neste trabalho.\n",
        "\n",
        "Com as perguntas formuladas fui atrás da informação dos pagamentos das bolsas que são disponibilizadas no portal da transparência da agência. O arquivo com esses dados mais recente (06/2024) foi então baixado e o trabalho teve início. Houve certa dificuldade para fazer o upload dos dados no DBFS do Databricks, mas através de consultas na internet consegui fazer o upload corretamente e em sequência a carga dos dados no notebook criado para a realização das análises.\n",
        "\n",
        "Com os dados carregados foram percebidos alguns problemas de formatação da tabela, tipos de dados etc. Todos esses problemas tomaram algum tempo para a resolução por conta da falta de prática e familiaridade com a plataforma e a linguagem utilizada.\n",
        "\n",
        "Após as devidas correções deu-se início a etapa da análise onde foram utilizados os conceitos de SQL apresentados durante a sprint. Todas as perguntas puderam ser respondidas com a correta formulação das pesquisas considerando os filtros e modos de apresentação dos resultados.\n",
        "\n",
        "Foi feito uma modelagem hipotética para um possível banco de dados para que se pudesse inserir e agilizar pesquisas em trabalhos futuros, essa etapa não pode ser finalizada completamente devido às limitações da plataforma Databricks community, porém deu pra ter uma boa ideia da prática dessas etapas de todo o processo de Engenharia de Dados. Muito aprendizado foi adiquirido durante a realização deste trabalho.\n",
        "\n",
        "Considerando tudo realizado até então neste trabalho, considero a availiação bastante positiva e pretendo continuar trabalhando para finalizar as etapas utilizando diferentes plataformas para a aquisição de prática.\n",
        "\n"
      ],
      "metadata": {
        "id": "z_lfPyyzV-4m"
      }
    }
  ],
  "metadata": {
    "application/vnd.databricks.v1+notebook": {
      "dashboards": [
        {
          "elements": [
            {
              "dashboardResultIndex": null,
              "elementNUID": "a3dc34c7-c0ca-4163-8eaa-6311c475ccee",
              "elementType": "command",
              "guid": "2ab480c7-f9e9-4fec-b12a-47bc12f51e75",
              "options": null,
              "position": {
                "height": 1,
                "width": 12,
                "x": 0,
                "y": 6,
                "z": null
              },
              "resultIndex": null
            },
            {
              "dashboardResultIndex": null,
              "elementNUID": "7023465c-e5f8-4e2b-82ad-a9685c503067",
              "elementType": "command",
              "guid": "4afbc92b-7ee0-4714-bd2e-ae406f5a37d4",
              "options": null,
              "position": {
                "height": 4,
                "width": 12,
                "x": 0,
                "y": 12,
                "z": null
              },
              "resultIndex": null
            },
            {
              "dashboardResultIndex": 0,
              "elementNUID": "a47e50b3-dc9d-4080-94e8-b9d3da7cabcc",
              "elementType": "command",
              "guid": "598ad223-d93e-470b-aba7-660f194e416e",
              "options": null,
              "position": {
                "height": 6,
                "width": 12,
                "x": 0,
                "y": 0,
                "z": null
              },
              "resultIndex": null
            }
          ],
          "globalVars": {},
          "guid": "",
          "layoutOption": {
            "grid": true,
            "stack": true
          },
          "nuid": "10f14b6b-870e-4e6c-8e0e-6c4b0f8fc22c",
          "origId": 2033775985772073,
          "title": "Untitled",
          "version": "DashboardViewV1",
          "width": 1024
        }
      ],
      "environmentMetadata": null,
      "language": "python",
      "notebookMetadata": {
        "mostRecentlyExecutedCommandWithImplicitDF": {
          "commandId": -1,
          "dataframes": [
            "_sqldf"
          ]
        },
        "pythonIndentUnit": 4
      },
      "notebookName": "MVP_Jhonys_SprintED",
      "widgets": {}
    },
    "colab": {
      "provenance": [],
      "include_colab_link": true
    }
  },
  "nbformat": 4,
  "nbformat_minor": 0
}